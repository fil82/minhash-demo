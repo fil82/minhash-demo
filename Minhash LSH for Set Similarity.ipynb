{
 "cells": [
  {
   "cell_type": "markdown",
   "metadata": {
    "slideshow": {
     "slide_type": "slide"
    }
   },
   "source": [
    "# Minhash LSH for Set Similarity"
   ]
  },
  {
   "cell_type": "markdown",
   "metadata": {
    "slideshow": {
     "slide_type": "fragment"
    }
   },
   "source": [
    "The Minhash-LSH algorithm is very suitable for finding near-duplicates in an efficient manner. This notebook will outline the main concepts and considerations related to the algorithm.\n",
    "\n",
    "It was first introduced in the paper [Min-wise independent permutations](http://citeseerx.ist.psu.edu/viewdoc/download?doi=10.1.1.121.8215&rep=rep1&type=pdf)\n",
    "\n",
    "Most of the notebook is inspired by Chapter 3 of [Mining of Massive Datasets](http://www.mmds.org/) Chapter 3 - Finding Similar Items.\n",
    "\n",
    "The problem: You have a large collection of documents. You need to find all pairs with a high degree of similarity. This gets really computationally expensive with 1 million docs. LSH allows you to drastically reduce the number of comparisons made while only sacrificing a negligent ammount of recall.\n",
    "\n",
    "\n",
    "Some example applications:\n",
    "\n",
    "1. Plagiarism Detection\n",
    "2. Uber: Detecting overlapping trips [link](https://eng.uber.com/lsh/)\n",
    "3. Smule: Duplicate songs\n",
    "4. Facebook: Fake news\n",
    "5. Neural nets:\n",
    "      * [The Reformer](http://ai.googleblog.com/2020/01/reformer-efficient-transformer.html)\n",
    "      * Why not as an alternative to negative sampling?\n"
   ]
  },
  {
   "cell_type": "markdown",
   "metadata": {
    "heading_collapsed": true,
    "slideshow": {
     "slide_type": "slide"
    }
   },
   "source": [
    "# Imports"
   ]
  },
  {
   "cell_type": "code",
   "execution_count": 1,
   "metadata": {
    "hidden": true,
    "slideshow": {
     "slide_type": "skip"
    }
   },
   "outputs": [
    {
     "data": {
      "text/html": [
       "<style>.container { width:90% !important; }</style>"
      ],
      "text/plain": [
       "<IPython.core.display.HTML object>"
      ]
     },
     "metadata": {},
     "output_type": "display_data"
    },
    {
     "data": {
      "text/html": [
       "<style>\n",
       ".output {\n",
       "    flex-direction: row;\n",
       "}\n",
       "</style>"
      ],
      "text/plain": [
       "<IPython.core.display.HTML object>"
      ]
     },
     "execution_count": 1,
     "metadata": {},
     "output_type": "execute_result"
    }
   ],
   "source": [
    "import pandas as pd\n",
    "import numpy as np\n",
    "from IPython.core.display import display, HTML\n",
    "display(HTML(\"<style>.container { width:90% !important; }</style>\"))\n",
    "\n",
    "CSS = \"\"\"\n",
    ".output {\n",
    "    flex-direction: row;\n",
    "}\n",
    "\"\"\"\n",
    "\n",
    "HTML('<style>{}</style>'.format(CSS))"
   ]
  },
  {
   "cell_type": "markdown",
   "metadata": {
    "heading_collapsed": true,
    "slideshow": {
     "slide_type": "slide"
    }
   },
   "source": [
    "# 1. Representing sets via their Characteristic Matrix"
   ]
  },
  {
   "cell_type": "markdown",
   "metadata": {
    "hidden": true,
    "slideshow": {
     "slide_type": "subslide"
    }
   },
   "source": [
    "For our running examples, let's use the universe of the first 15 english letters: A - P.\n",
    "\n",
    "The characteristic matrix of a set is a binary representation where the elements of the universe are enumerated and each set has a `0` for missing elements and a `1` for present elements. E.g. the set {A,B,D} would be \n",
    "\n",
    "<table> \n",
    "    <tr> <td> A </td> <td style=\"background-color: gold\"> 1 </tr>\n",
    "    <tr> <td> B </td> <td style=\"background-color: gold\"> 1 </tr>\n",
    "    <tr> <td> C </td> <td> 0 </tr>\n",
    "    <tr> <td> D </td> <td style=\"background-color: gold\"> 1 </tr>\n",
    "    <tr> <td> E </td> <td> 0 </tr>\n",
    "    <tr> <td> F </td> <td> ... </tr>\n",
    "</table>"
   ]
  },
  {
   "cell_type": "code",
   "execution_count": 90,
   "metadata": {
    "hidden": true,
    "slideshow": {
     "slide_type": "subslide"
    }
   },
   "outputs": [
    {
     "data": {
      "text/plain": [
       "['A',\n",
       " 'B',\n",
       " 'C',\n",
       " 'D',\n",
       " 'E',\n",
       " 'F',\n",
       " 'G',\n",
       " 'H',\n",
       " 'I',\n",
       " 'J',\n",
       " 'K',\n",
       " 'L',\n",
       " 'M',\n",
       " 'N',\n",
       " 'O',\n",
       " 'P']"
      ]
     },
     "execution_count": 90,
     "metadata": {},
     "output_type": "execute_result"
    }
   ],
   "source": [
    "UNIVERSE = list(\"ABCDEFGHIJKLMNOP\")\n",
    "UNIVERSE"
   ]
  },
  {
   "cell_type": "markdown",
   "metadata": {
    "hidden": true
   },
   "source": [
    "Let's sample some sets:"
   ]
  },
  {
   "cell_type": "code",
   "execution_count": 94,
   "metadata": {
    "code_folding": [
     0,
     6
    ],
    "hidden": true
   },
   "outputs": [
    {
     "data": {
      "text/html": [
       "<style  type=\"text/css\" >\n",
       "    #T_ac0b2a83_41fa_11ea_863d_dcfb48536b8crow0_col0 {\n",
       "            background-color:  gold;\n",
       "        }    #T_ac0b2a83_41fa_11ea_863d_dcfb48536b8crow1_col0 {\n",
       "            background-color:  gold;\n",
       "        }    #T_ac0b2a83_41fa_11ea_863d_dcfb48536b8crow2_col0 {\n",
       "            background-color:  gold;\n",
       "        }    #T_ac0b2a83_41fa_11ea_863d_dcfb48536b8crow3_col0 {\n",
       "            background-color:  gold;\n",
       "        }    #T_ac0b2a83_41fa_11ea_863d_dcfb48536b8crow4_col0 {\n",
       "            background-color:  gold;\n",
       "        }    #T_ac0b2a83_41fa_11ea_863d_dcfb48536b8crow5_col0 {\n",
       "            background-color:  white;\n",
       "        }    #T_ac0b2a83_41fa_11ea_863d_dcfb48536b8crow6_col0 {\n",
       "            background-color:  gold;\n",
       "        }    #T_ac0b2a83_41fa_11ea_863d_dcfb48536b8crow7_col0 {\n",
       "            background-color:  gold;\n",
       "        }    #T_ac0b2a83_41fa_11ea_863d_dcfb48536b8crow8_col0 {\n",
       "            background-color:  white;\n",
       "        }    #T_ac0b2a83_41fa_11ea_863d_dcfb48536b8crow9_col0 {\n",
       "            background-color:  white;\n",
       "        }    #T_ac0b2a83_41fa_11ea_863d_dcfb48536b8crow10_col0 {\n",
       "            background-color:  white;\n",
       "        }    #T_ac0b2a83_41fa_11ea_863d_dcfb48536b8crow11_col0 {\n",
       "            background-color:  gold;\n",
       "        }    #T_ac0b2a83_41fa_11ea_863d_dcfb48536b8crow12_col0 {\n",
       "            background-color:  gold;\n",
       "        }    #T_ac0b2a83_41fa_11ea_863d_dcfb48536b8crow13_col0 {\n",
       "            background-color:  white;\n",
       "        }    #T_ac0b2a83_41fa_11ea_863d_dcfb48536b8crow14_col0 {\n",
       "            background-color:  white;\n",
       "        }    #T_ac0b2a83_41fa_11ea_863d_dcfb48536b8crow15_col0 {\n",
       "            background-color:  white;\n",
       "        }</style><table id=\"T_ac0b2a83_41fa_11ea_863d_dcfb48536b8c\" ><thead>    <tr>        <th class=\"blank level0\" ></th>        <th class=\"col_heading level0 col0\" ></th>    </tr></thead><tbody>\n",
       "                <tr>\n",
       "                        <th id=\"T_ac0b2a83_41fa_11ea_863d_dcfb48536b8clevel0_row0\" class=\"row_heading level0 row0\" >A</th>\n",
       "                        <td id=\"T_ac0b2a83_41fa_11ea_863d_dcfb48536b8crow0_col0\" class=\"data row0 col0\" >1</td>\n",
       "            </tr>\n",
       "            <tr>\n",
       "                        <th id=\"T_ac0b2a83_41fa_11ea_863d_dcfb48536b8clevel0_row1\" class=\"row_heading level0 row1\" >B</th>\n",
       "                        <td id=\"T_ac0b2a83_41fa_11ea_863d_dcfb48536b8crow1_col0\" class=\"data row1 col0\" >1</td>\n",
       "            </tr>\n",
       "            <tr>\n",
       "                        <th id=\"T_ac0b2a83_41fa_11ea_863d_dcfb48536b8clevel0_row2\" class=\"row_heading level0 row2\" >C</th>\n",
       "                        <td id=\"T_ac0b2a83_41fa_11ea_863d_dcfb48536b8crow2_col0\" class=\"data row2 col0\" >1</td>\n",
       "            </tr>\n",
       "            <tr>\n",
       "                        <th id=\"T_ac0b2a83_41fa_11ea_863d_dcfb48536b8clevel0_row3\" class=\"row_heading level0 row3\" >D</th>\n",
       "                        <td id=\"T_ac0b2a83_41fa_11ea_863d_dcfb48536b8crow3_col0\" class=\"data row3 col0\" >1</td>\n",
       "            </tr>\n",
       "            <tr>\n",
       "                        <th id=\"T_ac0b2a83_41fa_11ea_863d_dcfb48536b8clevel0_row4\" class=\"row_heading level0 row4\" >E</th>\n",
       "                        <td id=\"T_ac0b2a83_41fa_11ea_863d_dcfb48536b8crow4_col0\" class=\"data row4 col0\" >1</td>\n",
       "            </tr>\n",
       "            <tr>\n",
       "                        <th id=\"T_ac0b2a83_41fa_11ea_863d_dcfb48536b8clevel0_row5\" class=\"row_heading level0 row5\" >F</th>\n",
       "                        <td id=\"T_ac0b2a83_41fa_11ea_863d_dcfb48536b8crow5_col0\" class=\"data row5 col0\" >0</td>\n",
       "            </tr>\n",
       "            <tr>\n",
       "                        <th id=\"T_ac0b2a83_41fa_11ea_863d_dcfb48536b8clevel0_row6\" class=\"row_heading level0 row6\" >G</th>\n",
       "                        <td id=\"T_ac0b2a83_41fa_11ea_863d_dcfb48536b8crow6_col0\" class=\"data row6 col0\" >1</td>\n",
       "            </tr>\n",
       "            <tr>\n",
       "                        <th id=\"T_ac0b2a83_41fa_11ea_863d_dcfb48536b8clevel0_row7\" class=\"row_heading level0 row7\" >H</th>\n",
       "                        <td id=\"T_ac0b2a83_41fa_11ea_863d_dcfb48536b8crow7_col0\" class=\"data row7 col0\" >1</td>\n",
       "            </tr>\n",
       "            <tr>\n",
       "                        <th id=\"T_ac0b2a83_41fa_11ea_863d_dcfb48536b8clevel0_row8\" class=\"row_heading level0 row8\" >I</th>\n",
       "                        <td id=\"T_ac0b2a83_41fa_11ea_863d_dcfb48536b8crow8_col0\" class=\"data row8 col0\" >0</td>\n",
       "            </tr>\n",
       "            <tr>\n",
       "                        <th id=\"T_ac0b2a83_41fa_11ea_863d_dcfb48536b8clevel0_row9\" class=\"row_heading level0 row9\" >J</th>\n",
       "                        <td id=\"T_ac0b2a83_41fa_11ea_863d_dcfb48536b8crow9_col0\" class=\"data row9 col0\" >0</td>\n",
       "            </tr>\n",
       "            <tr>\n",
       "                        <th id=\"T_ac0b2a83_41fa_11ea_863d_dcfb48536b8clevel0_row10\" class=\"row_heading level0 row10\" >K</th>\n",
       "                        <td id=\"T_ac0b2a83_41fa_11ea_863d_dcfb48536b8crow10_col0\" class=\"data row10 col0\" >0</td>\n",
       "            </tr>\n",
       "            <tr>\n",
       "                        <th id=\"T_ac0b2a83_41fa_11ea_863d_dcfb48536b8clevel0_row11\" class=\"row_heading level0 row11\" >L</th>\n",
       "                        <td id=\"T_ac0b2a83_41fa_11ea_863d_dcfb48536b8crow11_col0\" class=\"data row11 col0\" >1</td>\n",
       "            </tr>\n",
       "            <tr>\n",
       "                        <th id=\"T_ac0b2a83_41fa_11ea_863d_dcfb48536b8clevel0_row12\" class=\"row_heading level0 row12\" >M</th>\n",
       "                        <td id=\"T_ac0b2a83_41fa_11ea_863d_dcfb48536b8crow12_col0\" class=\"data row12 col0\" >1</td>\n",
       "            </tr>\n",
       "            <tr>\n",
       "                        <th id=\"T_ac0b2a83_41fa_11ea_863d_dcfb48536b8clevel0_row13\" class=\"row_heading level0 row13\" >N</th>\n",
       "                        <td id=\"T_ac0b2a83_41fa_11ea_863d_dcfb48536b8crow13_col0\" class=\"data row13 col0\" >0</td>\n",
       "            </tr>\n",
       "            <tr>\n",
       "                        <th id=\"T_ac0b2a83_41fa_11ea_863d_dcfb48536b8clevel0_row14\" class=\"row_heading level0 row14\" >O</th>\n",
       "                        <td id=\"T_ac0b2a83_41fa_11ea_863d_dcfb48536b8crow14_col0\" class=\"data row14 col0\" >0</td>\n",
       "            </tr>\n",
       "            <tr>\n",
       "                        <th id=\"T_ac0b2a83_41fa_11ea_863d_dcfb48536b8clevel0_row15\" class=\"row_heading level0 row15\" >P</th>\n",
       "                        <td id=\"T_ac0b2a83_41fa_11ea_863d_dcfb48536b8crow15_col0\" class=\"data row15 col0\" >0</td>\n",
       "            </tr>\n",
       "    </tbody></table>"
      ],
      "text/plain": [
       "<pandas.io.formats.style.Styler at 0x7fa4cb35bc88>"
      ]
     },
     "metadata": {},
     "output_type": "display_data"
    }
   ],
   "source": [
    "def sample_set():\n",
    "    \"\"\"\n",
    "    Samples a random set from the universe.\n",
    "    \"\"\"\n",
    "    return pd.DataFrame(np.random.randint(0, 2, size=len(UNIVERSE)), index=UNIVERSE, columns=[\"\"])\n",
    "\n",
    "def pp_set(s):\n",
    "    \"\"\"\n",
    "    Pretty prints sets - highlights the present elements\n",
    "    \"\"\"\n",
    "    def highlight_ones(x):\n",
    "        return f\"background-color: {'gold' if x==1 else 'white'}\"\n",
    "    display(s.style.applymap(highlight_ones))\n",
    "\n",
    "s = sample_set()\n",
    "pp_set(sample_set())"
   ]
  },
  {
   "cell_type": "markdown",
   "metadata": {
    "heading_collapsed": true,
    "slideshow": {
     "slide_type": "slide"
    }
   },
   "source": [
    "# 2. Jaccard Similarity"
   ]
  },
  {
   "cell_type": "markdown",
   "metadata": {
    "hidden": true,
    "slideshow": {
     "slide_type": "slide"
    }
   },
   "source": [
    "The Jaccard Similarity of a pair of sets is defined as:\n",
    "\n",
    "$$ jac\\_sim(A,B) = \\frac{|A\\cap B|}{|A \\cup B|}$$\n",
    "\n",
    "Examples:\n",
    "\n",
    "$$ jac\\_sim(\\{\\color{green}{A},\\color{green}{B},C\\}, \\{\\color{green}{A},\\color{green}{B},D\\}) = \\frac{1}{2}$$\n",
    "$$ jac\\_sim(\\{\\color{green}{A},C\\}, \\{\\color{green}{A},B,D\\}) = \\frac{1}{4}$$\n",
    "$$ jac\\_sim(\\{C\\}, \\{A,B,D\\}) = \\frac{0}{4}$$\n",
    "$$ jac\\_sim(\\{\\color{green}{A},\\color{green}{B},\\color{green}{C},D\\}, \\{\\color{green}{A},\\color{green}{B},\\color{green}{C},E\\}) = \\frac{3}{5}$$"
   ]
  },
  {
   "cell_type": "markdown",
   "metadata": {
    "heading_collapsed": true,
    "slideshow": {
     "slide_type": "slide"
    }
   },
   "source": [
    "# 3. Minhash"
   ]
  },
  {
   "cell_type": "markdown",
   "metadata": {
    "hidden": true,
    "slideshow": {
     "slide_type": "subslide"
    }
   },
   "source": [
    "The operation to get the minhash of a set:\n",
    "1. Permute the enumeration of the Universe.\n",
    "2. The minhash of a set is the first present element under the new enumeration.\n",
    "\n",
    "Example:\n",
    "\n",
    "Suppose *ABCDEFGHIJKLMNOP* is permuted to *HIDCABJEFKLMNOPG*.\n",
    "Then, the set {ABD}\n",
    "<div style=\"display:flex; margin-top:12px;\">\n",
    "<table> \n",
    "    <tr> <td> A </td> <td> 1 </tr>\n",
    "    <tr> <td> B </td> <td> 1 </tr>\n",
    "    <tr> <td> C </td> <td> 0 </tr>\n",
    "    <tr> <td> D </td> <td> 1 </tr>\n",
    "    <tr> <td> E </td> <td> 0 </tr>\n",
    "    <tr> <td> F </td> <td> ... </tr>\n",
    "</table>\n",
    "will become \n",
    "<table> \n",
    "    <tr> <td> H </td> <td> 0 </tr>\n",
    "    <tr> <td> I </td> <td> 0 </tr>\n",
    "    <tr> <td style=\"background-color:yellow\"> D </td> <td style=\"background-color:yellow\"> 1 </tr>\n",
    "    <tr> <td> C </td> <td> 0 </tr>\n",
    "    <tr> <td> A </td> <td> 1 </tr>\n",
    "    <tr> <td> B </td> <td> 1 </tr>\n",
    "    <tr> <td> J </td> <td> ... </tr>\n",
    "</table>\n",
    "</div>\n",
    "\n",
    "and so the minhash of ABD under this permutation is `D`."
   ]
  },
  {
   "cell_type": "code",
   "execution_count": 98,
   "metadata": {
    "hidden": true,
    "slideshow": {
     "slide_type": "slide"
    }
   },
   "outputs": [
    {
     "data": {
      "text/html": [
       "<style  type=\"text/css\" >\n",
       "    #T_1cb1501b_41fb_11ea_863d_dcfb48536b8crow0_col0 {\n",
       "            background-color:  gold;\n",
       "        }    #T_1cb1501b_41fb_11ea_863d_dcfb48536b8crow1_col0 {\n",
       "            background-color:  white;\n",
       "        }    #T_1cb1501b_41fb_11ea_863d_dcfb48536b8crow2_col0 {\n",
       "            background-color:  white;\n",
       "        }    #T_1cb1501b_41fb_11ea_863d_dcfb48536b8crow3_col0 {\n",
       "            background-color:  gold;\n",
       "        }    #T_1cb1501b_41fb_11ea_863d_dcfb48536b8crow4_col0 {\n",
       "            background-color:  gold;\n",
       "        }    #T_1cb1501b_41fb_11ea_863d_dcfb48536b8crow5_col0 {\n",
       "            background-color:  gold;\n",
       "        }    #T_1cb1501b_41fb_11ea_863d_dcfb48536b8crow6_col0 {\n",
       "            background-color:  gold;\n",
       "        }    #T_1cb1501b_41fb_11ea_863d_dcfb48536b8crow7_col0 {\n",
       "            background-color:  white;\n",
       "        }    #T_1cb1501b_41fb_11ea_863d_dcfb48536b8crow8_col0 {\n",
       "            background-color:  white;\n",
       "        }    #T_1cb1501b_41fb_11ea_863d_dcfb48536b8crow9_col0 {\n",
       "            background-color:  white;\n",
       "        }    #T_1cb1501b_41fb_11ea_863d_dcfb48536b8crow10_col0 {\n",
       "            background-color:  gold;\n",
       "        }    #T_1cb1501b_41fb_11ea_863d_dcfb48536b8crow11_col0 {\n",
       "            background-color:  gold;\n",
       "        }    #T_1cb1501b_41fb_11ea_863d_dcfb48536b8crow12_col0 {\n",
       "            background-color:  white;\n",
       "        }    #T_1cb1501b_41fb_11ea_863d_dcfb48536b8crow13_col0 {\n",
       "            background-color:  white;\n",
       "        }    #T_1cb1501b_41fb_11ea_863d_dcfb48536b8crow14_col0 {\n",
       "            background-color:  white;\n",
       "        }    #T_1cb1501b_41fb_11ea_863d_dcfb48536b8crow15_col0 {\n",
       "            background-color:  gold;\n",
       "        }</style><table id=\"T_1cb1501b_41fb_11ea_863d_dcfb48536b8c\" ><thead>    <tr>        <th class=\"blank level0\" ></th>        <th class=\"col_heading level0 col0\" ></th>    </tr></thead><tbody>\n",
       "                <tr>\n",
       "                        <th id=\"T_1cb1501b_41fb_11ea_863d_dcfb48536b8clevel0_row0\" class=\"row_heading level0 row0\" >A</th>\n",
       "                        <td id=\"T_1cb1501b_41fb_11ea_863d_dcfb48536b8crow0_col0\" class=\"data row0 col0\" >1</td>\n",
       "            </tr>\n",
       "            <tr>\n",
       "                        <th id=\"T_1cb1501b_41fb_11ea_863d_dcfb48536b8clevel0_row1\" class=\"row_heading level0 row1\" >B</th>\n",
       "                        <td id=\"T_1cb1501b_41fb_11ea_863d_dcfb48536b8crow1_col0\" class=\"data row1 col0\" >0</td>\n",
       "            </tr>\n",
       "            <tr>\n",
       "                        <th id=\"T_1cb1501b_41fb_11ea_863d_dcfb48536b8clevel0_row2\" class=\"row_heading level0 row2\" >C</th>\n",
       "                        <td id=\"T_1cb1501b_41fb_11ea_863d_dcfb48536b8crow2_col0\" class=\"data row2 col0\" >0</td>\n",
       "            </tr>\n",
       "            <tr>\n",
       "                        <th id=\"T_1cb1501b_41fb_11ea_863d_dcfb48536b8clevel0_row3\" class=\"row_heading level0 row3\" >D</th>\n",
       "                        <td id=\"T_1cb1501b_41fb_11ea_863d_dcfb48536b8crow3_col0\" class=\"data row3 col0\" >1</td>\n",
       "            </tr>\n",
       "            <tr>\n",
       "                        <th id=\"T_1cb1501b_41fb_11ea_863d_dcfb48536b8clevel0_row4\" class=\"row_heading level0 row4\" >E</th>\n",
       "                        <td id=\"T_1cb1501b_41fb_11ea_863d_dcfb48536b8crow4_col0\" class=\"data row4 col0\" >1</td>\n",
       "            </tr>\n",
       "            <tr>\n",
       "                        <th id=\"T_1cb1501b_41fb_11ea_863d_dcfb48536b8clevel0_row5\" class=\"row_heading level0 row5\" >F</th>\n",
       "                        <td id=\"T_1cb1501b_41fb_11ea_863d_dcfb48536b8crow5_col0\" class=\"data row5 col0\" >1</td>\n",
       "            </tr>\n",
       "            <tr>\n",
       "                        <th id=\"T_1cb1501b_41fb_11ea_863d_dcfb48536b8clevel0_row6\" class=\"row_heading level0 row6\" >G</th>\n",
       "                        <td id=\"T_1cb1501b_41fb_11ea_863d_dcfb48536b8crow6_col0\" class=\"data row6 col0\" >1</td>\n",
       "            </tr>\n",
       "            <tr>\n",
       "                        <th id=\"T_1cb1501b_41fb_11ea_863d_dcfb48536b8clevel0_row7\" class=\"row_heading level0 row7\" >H</th>\n",
       "                        <td id=\"T_1cb1501b_41fb_11ea_863d_dcfb48536b8crow7_col0\" class=\"data row7 col0\" >0</td>\n",
       "            </tr>\n",
       "            <tr>\n",
       "                        <th id=\"T_1cb1501b_41fb_11ea_863d_dcfb48536b8clevel0_row8\" class=\"row_heading level0 row8\" >I</th>\n",
       "                        <td id=\"T_1cb1501b_41fb_11ea_863d_dcfb48536b8crow8_col0\" class=\"data row8 col0\" >0</td>\n",
       "            </tr>\n",
       "            <tr>\n",
       "                        <th id=\"T_1cb1501b_41fb_11ea_863d_dcfb48536b8clevel0_row9\" class=\"row_heading level0 row9\" >J</th>\n",
       "                        <td id=\"T_1cb1501b_41fb_11ea_863d_dcfb48536b8crow9_col0\" class=\"data row9 col0\" >0</td>\n",
       "            </tr>\n",
       "            <tr>\n",
       "                        <th id=\"T_1cb1501b_41fb_11ea_863d_dcfb48536b8clevel0_row10\" class=\"row_heading level0 row10\" >K</th>\n",
       "                        <td id=\"T_1cb1501b_41fb_11ea_863d_dcfb48536b8crow10_col0\" class=\"data row10 col0\" >1</td>\n",
       "            </tr>\n",
       "            <tr>\n",
       "                        <th id=\"T_1cb1501b_41fb_11ea_863d_dcfb48536b8clevel0_row11\" class=\"row_heading level0 row11\" >L</th>\n",
       "                        <td id=\"T_1cb1501b_41fb_11ea_863d_dcfb48536b8crow11_col0\" class=\"data row11 col0\" >1</td>\n",
       "            </tr>\n",
       "            <tr>\n",
       "                        <th id=\"T_1cb1501b_41fb_11ea_863d_dcfb48536b8clevel0_row12\" class=\"row_heading level0 row12\" >M</th>\n",
       "                        <td id=\"T_1cb1501b_41fb_11ea_863d_dcfb48536b8crow12_col0\" class=\"data row12 col0\" >0</td>\n",
       "            </tr>\n",
       "            <tr>\n",
       "                        <th id=\"T_1cb1501b_41fb_11ea_863d_dcfb48536b8clevel0_row13\" class=\"row_heading level0 row13\" >N</th>\n",
       "                        <td id=\"T_1cb1501b_41fb_11ea_863d_dcfb48536b8crow13_col0\" class=\"data row13 col0\" >0</td>\n",
       "            </tr>\n",
       "            <tr>\n",
       "                        <th id=\"T_1cb1501b_41fb_11ea_863d_dcfb48536b8clevel0_row14\" class=\"row_heading level0 row14\" >O</th>\n",
       "                        <td id=\"T_1cb1501b_41fb_11ea_863d_dcfb48536b8crow14_col0\" class=\"data row14 col0\" >0</td>\n",
       "            </tr>\n",
       "            <tr>\n",
       "                        <th id=\"T_1cb1501b_41fb_11ea_863d_dcfb48536b8clevel0_row15\" class=\"row_heading level0 row15\" >P</th>\n",
       "                        <td id=\"T_1cb1501b_41fb_11ea_863d_dcfb48536b8crow15_col0\" class=\"data row15 col0\" >1</td>\n",
       "            </tr>\n",
       "    </tbody></table>"
      ],
      "text/plain": [
       "<pandas.io.formats.style.Styler at 0x7fa4cb33b860>"
      ]
     },
     "metadata": {},
     "output_type": "display_data"
    },
    {
     "data": {
      "text/html": [
       "<div style=\"top:50%;position:absolute;  margin: 0;\"> => permute => </div>"
      ],
      "text/plain": [
       "<IPython.core.display.HTML object>"
      ]
     },
     "metadata": {},
     "output_type": "display_data"
    },
    {
     "data": {
      "text/html": [
       "<style  type=\"text/css\" >\n",
       "    #T_1cb1501c_41fb_11ea_863d_dcfb48536b8crow0_col0 {\n",
       "            background-color:  white;\n",
       "        }    #T_1cb1501c_41fb_11ea_863d_dcfb48536b8crow1_col0 {\n",
       "            background-color:  white;\n",
       "        }    #T_1cb1501c_41fb_11ea_863d_dcfb48536b8crow2_col0 {\n",
       "            background-color:  gold;\n",
       "        }    #T_1cb1501c_41fb_11ea_863d_dcfb48536b8crow3_col0 {\n",
       "            background-color:  white;\n",
       "        }    #T_1cb1501c_41fb_11ea_863d_dcfb48536b8crow4_col0 {\n",
       "            background-color:  white;\n",
       "        }    #T_1cb1501c_41fb_11ea_863d_dcfb48536b8crow5_col0 {\n",
       "            background-color:  white;\n",
       "        }    #T_1cb1501c_41fb_11ea_863d_dcfb48536b8crow6_col0 {\n",
       "            background-color:  white;\n",
       "        }    #T_1cb1501c_41fb_11ea_863d_dcfb48536b8crow7_col0 {\n",
       "            background-color:  white;\n",
       "        }    #T_1cb1501c_41fb_11ea_863d_dcfb48536b8crow8_col0 {\n",
       "            background-color:  white;\n",
       "        }    #T_1cb1501c_41fb_11ea_863d_dcfb48536b8crow9_col0 {\n",
       "            background-color:  gold;\n",
       "        }    #T_1cb1501c_41fb_11ea_863d_dcfb48536b8crow10_col0 {\n",
       "            background-color:  gold;\n",
       "        }    #T_1cb1501c_41fb_11ea_863d_dcfb48536b8crow11_col0 {\n",
       "            background-color:  gold;\n",
       "        }    #T_1cb1501c_41fb_11ea_863d_dcfb48536b8crow12_col0 {\n",
       "            background-color:  gold;\n",
       "        }    #T_1cb1501c_41fb_11ea_863d_dcfb48536b8crow13_col0 {\n",
       "            background-color:  gold;\n",
       "        }    #T_1cb1501c_41fb_11ea_863d_dcfb48536b8crow14_col0 {\n",
       "            background-color:  gold;\n",
       "        }    #T_1cb1501c_41fb_11ea_863d_dcfb48536b8crow15_col0 {\n",
       "            background-color:  gold;\n",
       "        }</style><table id=\"T_1cb1501c_41fb_11ea_863d_dcfb48536b8c\" ><thead>    <tr>        <th class=\"blank level0\" ></th>        <th class=\"col_heading level0 col0\" ></th>    </tr></thead><tbody>\n",
       "                <tr>\n",
       "                        <th id=\"T_1cb1501c_41fb_11ea_863d_dcfb48536b8clevel0_row0\" class=\"row_heading level0 row0\" >O</th>\n",
       "                        <td id=\"T_1cb1501c_41fb_11ea_863d_dcfb48536b8crow0_col0\" class=\"data row0 col0\" >0</td>\n",
       "            </tr>\n",
       "            <tr>\n",
       "                        <th id=\"T_1cb1501c_41fb_11ea_863d_dcfb48536b8clevel0_row1\" class=\"row_heading level0 row1\" >M</th>\n",
       "                        <td id=\"T_1cb1501c_41fb_11ea_863d_dcfb48536b8crow1_col0\" class=\"data row1 col0\" >0</td>\n",
       "            </tr>\n",
       "            <tr>\n",
       "                        <th id=\"T_1cb1501c_41fb_11ea_863d_dcfb48536b8clevel0_row2\" class=\"row_heading level0 row2\" >E</th>\n",
       "                        <td id=\"T_1cb1501c_41fb_11ea_863d_dcfb48536b8crow2_col0\" class=\"data row2 col0\" >1</td>\n",
       "            </tr>\n",
       "            <tr>\n",
       "                        <th id=\"T_1cb1501c_41fb_11ea_863d_dcfb48536b8clevel0_row3\" class=\"row_heading level0 row3\" >J</th>\n",
       "                        <td id=\"T_1cb1501c_41fb_11ea_863d_dcfb48536b8crow3_col0\" class=\"data row3 col0\" >0</td>\n",
       "            </tr>\n",
       "            <tr>\n",
       "                        <th id=\"T_1cb1501c_41fb_11ea_863d_dcfb48536b8clevel0_row4\" class=\"row_heading level0 row4\" >I</th>\n",
       "                        <td id=\"T_1cb1501c_41fb_11ea_863d_dcfb48536b8crow4_col0\" class=\"data row4 col0\" >0</td>\n",
       "            </tr>\n",
       "            <tr>\n",
       "                        <th id=\"T_1cb1501c_41fb_11ea_863d_dcfb48536b8clevel0_row5\" class=\"row_heading level0 row5\" >B</th>\n",
       "                        <td id=\"T_1cb1501c_41fb_11ea_863d_dcfb48536b8crow5_col0\" class=\"data row5 col0\" >0</td>\n",
       "            </tr>\n",
       "            <tr>\n",
       "                        <th id=\"T_1cb1501c_41fb_11ea_863d_dcfb48536b8clevel0_row6\" class=\"row_heading level0 row6\" >H</th>\n",
       "                        <td id=\"T_1cb1501c_41fb_11ea_863d_dcfb48536b8crow6_col0\" class=\"data row6 col0\" >0</td>\n",
       "            </tr>\n",
       "            <tr>\n",
       "                        <th id=\"T_1cb1501c_41fb_11ea_863d_dcfb48536b8clevel0_row7\" class=\"row_heading level0 row7\" >C</th>\n",
       "                        <td id=\"T_1cb1501c_41fb_11ea_863d_dcfb48536b8crow7_col0\" class=\"data row7 col0\" >0</td>\n",
       "            </tr>\n",
       "            <tr>\n",
       "                        <th id=\"T_1cb1501c_41fb_11ea_863d_dcfb48536b8clevel0_row8\" class=\"row_heading level0 row8\" >N</th>\n",
       "                        <td id=\"T_1cb1501c_41fb_11ea_863d_dcfb48536b8crow8_col0\" class=\"data row8 col0\" >0</td>\n",
       "            </tr>\n",
       "            <tr>\n",
       "                        <th id=\"T_1cb1501c_41fb_11ea_863d_dcfb48536b8clevel0_row9\" class=\"row_heading level0 row9\" >K</th>\n",
       "                        <td id=\"T_1cb1501c_41fb_11ea_863d_dcfb48536b8crow9_col0\" class=\"data row9 col0\" >1</td>\n",
       "            </tr>\n",
       "            <tr>\n",
       "                        <th id=\"T_1cb1501c_41fb_11ea_863d_dcfb48536b8clevel0_row10\" class=\"row_heading level0 row10\" >F</th>\n",
       "                        <td id=\"T_1cb1501c_41fb_11ea_863d_dcfb48536b8crow10_col0\" class=\"data row10 col0\" >1</td>\n",
       "            </tr>\n",
       "            <tr>\n",
       "                        <th id=\"T_1cb1501c_41fb_11ea_863d_dcfb48536b8clevel0_row11\" class=\"row_heading level0 row11\" >P</th>\n",
       "                        <td id=\"T_1cb1501c_41fb_11ea_863d_dcfb48536b8crow11_col0\" class=\"data row11 col0\" >1</td>\n",
       "            </tr>\n",
       "            <tr>\n",
       "                        <th id=\"T_1cb1501c_41fb_11ea_863d_dcfb48536b8clevel0_row12\" class=\"row_heading level0 row12\" >G</th>\n",
       "                        <td id=\"T_1cb1501c_41fb_11ea_863d_dcfb48536b8crow12_col0\" class=\"data row12 col0\" >1</td>\n",
       "            </tr>\n",
       "            <tr>\n",
       "                        <th id=\"T_1cb1501c_41fb_11ea_863d_dcfb48536b8clevel0_row13\" class=\"row_heading level0 row13\" >A</th>\n",
       "                        <td id=\"T_1cb1501c_41fb_11ea_863d_dcfb48536b8crow13_col0\" class=\"data row13 col0\" >1</td>\n",
       "            </tr>\n",
       "            <tr>\n",
       "                        <th id=\"T_1cb1501c_41fb_11ea_863d_dcfb48536b8clevel0_row14\" class=\"row_heading level0 row14\" >L</th>\n",
       "                        <td id=\"T_1cb1501c_41fb_11ea_863d_dcfb48536b8crow14_col0\" class=\"data row14 col0\" >1</td>\n",
       "            </tr>\n",
       "            <tr>\n",
       "                        <th id=\"T_1cb1501c_41fb_11ea_863d_dcfb48536b8clevel0_row15\" class=\"row_heading level0 row15\" >D</th>\n",
       "                        <td id=\"T_1cb1501c_41fb_11ea_863d_dcfb48536b8crow15_col0\" class=\"data row15 col0\" >1</td>\n",
       "            </tr>\n",
       "    </tbody></table>"
      ],
      "text/plain": [
       "<pandas.io.formats.style.Styler at 0x7fa4cb3f1e10>"
      ]
     },
     "metadata": {},
     "output_type": "display_data"
    },
    {
     "data": {
      "text/html": [
       "<div style=\"top:50%;position:absolute;  margin: 0;\"> => minhash =></div>"
      ],
      "text/plain": [
       "<IPython.core.display.HTML object>"
      ]
     },
     "metadata": {},
     "output_type": "display_data"
    },
    {
     "data": {
      "text/html": [
       "<style  type=\"text/css\" >\n",
       "    #T_1cb1501d_41fb_11ea_863d_dcfb48536b8crow0_col0 {\n",
       "            background-color: white;\n",
       "        }    #T_1cb1501d_41fb_11ea_863d_dcfb48536b8crow1_col0 {\n",
       "            background-color: white;\n",
       "        }    #T_1cb1501d_41fb_11ea_863d_dcfb48536b8crow2_col0 {\n",
       "            background-color: gold;\n",
       "        }    #T_1cb1501d_41fb_11ea_863d_dcfb48536b8crow3_col0 {\n",
       "            background-color: white;\n",
       "        }    #T_1cb1501d_41fb_11ea_863d_dcfb48536b8crow4_col0 {\n",
       "            background-color: white;\n",
       "        }    #T_1cb1501d_41fb_11ea_863d_dcfb48536b8crow5_col0 {\n",
       "            background-color: white;\n",
       "        }    #T_1cb1501d_41fb_11ea_863d_dcfb48536b8crow6_col0 {\n",
       "            background-color: white;\n",
       "        }    #T_1cb1501d_41fb_11ea_863d_dcfb48536b8crow7_col0 {\n",
       "            background-color: white;\n",
       "        }    #T_1cb1501d_41fb_11ea_863d_dcfb48536b8crow8_col0 {\n",
       "            background-color: white;\n",
       "        }    #T_1cb1501d_41fb_11ea_863d_dcfb48536b8crow9_col0 {\n",
       "            background-color: white;\n",
       "        }    #T_1cb1501d_41fb_11ea_863d_dcfb48536b8crow10_col0 {\n",
       "            background-color: white;\n",
       "        }    #T_1cb1501d_41fb_11ea_863d_dcfb48536b8crow11_col0 {\n",
       "            background-color: white;\n",
       "        }    #T_1cb1501d_41fb_11ea_863d_dcfb48536b8crow12_col0 {\n",
       "            background-color: white;\n",
       "        }    #T_1cb1501d_41fb_11ea_863d_dcfb48536b8crow13_col0 {\n",
       "            background-color: white;\n",
       "        }    #T_1cb1501d_41fb_11ea_863d_dcfb48536b8crow14_col0 {\n",
       "            background-color: white;\n",
       "        }    #T_1cb1501d_41fb_11ea_863d_dcfb48536b8crow15_col0 {\n",
       "            background-color: white;\n",
       "        }</style><table id=\"T_1cb1501d_41fb_11ea_863d_dcfb48536b8c\" ><thead>    <tr>        <th class=\"blank level0\" ></th>        <th class=\"col_heading level0 col0\" ></th>    </tr></thead><tbody>\n",
       "                <tr>\n",
       "                        <th id=\"T_1cb1501d_41fb_11ea_863d_dcfb48536b8clevel0_row0\" class=\"row_heading level0 row0\" >O</th>\n",
       "                        <td id=\"T_1cb1501d_41fb_11ea_863d_dcfb48536b8crow0_col0\" class=\"data row0 col0\" >0</td>\n",
       "            </tr>\n",
       "            <tr>\n",
       "                        <th id=\"T_1cb1501d_41fb_11ea_863d_dcfb48536b8clevel0_row1\" class=\"row_heading level0 row1\" >M</th>\n",
       "                        <td id=\"T_1cb1501d_41fb_11ea_863d_dcfb48536b8crow1_col0\" class=\"data row1 col0\" >0</td>\n",
       "            </tr>\n",
       "            <tr>\n",
       "                        <th id=\"T_1cb1501d_41fb_11ea_863d_dcfb48536b8clevel0_row2\" class=\"row_heading level0 row2\" >E</th>\n",
       "                        <td id=\"T_1cb1501d_41fb_11ea_863d_dcfb48536b8crow2_col0\" class=\"data row2 col0\" >1</td>\n",
       "            </tr>\n",
       "            <tr>\n",
       "                        <th id=\"T_1cb1501d_41fb_11ea_863d_dcfb48536b8clevel0_row3\" class=\"row_heading level0 row3\" >J</th>\n",
       "                        <td id=\"T_1cb1501d_41fb_11ea_863d_dcfb48536b8crow3_col0\" class=\"data row3 col0\" >0</td>\n",
       "            </tr>\n",
       "            <tr>\n",
       "                        <th id=\"T_1cb1501d_41fb_11ea_863d_dcfb48536b8clevel0_row4\" class=\"row_heading level0 row4\" >I</th>\n",
       "                        <td id=\"T_1cb1501d_41fb_11ea_863d_dcfb48536b8crow4_col0\" class=\"data row4 col0\" >0</td>\n",
       "            </tr>\n",
       "            <tr>\n",
       "                        <th id=\"T_1cb1501d_41fb_11ea_863d_dcfb48536b8clevel0_row5\" class=\"row_heading level0 row5\" >B</th>\n",
       "                        <td id=\"T_1cb1501d_41fb_11ea_863d_dcfb48536b8crow5_col0\" class=\"data row5 col0\" >0</td>\n",
       "            </tr>\n",
       "            <tr>\n",
       "                        <th id=\"T_1cb1501d_41fb_11ea_863d_dcfb48536b8clevel0_row6\" class=\"row_heading level0 row6\" >H</th>\n",
       "                        <td id=\"T_1cb1501d_41fb_11ea_863d_dcfb48536b8crow6_col0\" class=\"data row6 col0\" >0</td>\n",
       "            </tr>\n",
       "            <tr>\n",
       "                        <th id=\"T_1cb1501d_41fb_11ea_863d_dcfb48536b8clevel0_row7\" class=\"row_heading level0 row7\" >C</th>\n",
       "                        <td id=\"T_1cb1501d_41fb_11ea_863d_dcfb48536b8crow7_col0\" class=\"data row7 col0\" >0</td>\n",
       "            </tr>\n",
       "            <tr>\n",
       "                        <th id=\"T_1cb1501d_41fb_11ea_863d_dcfb48536b8clevel0_row8\" class=\"row_heading level0 row8\" >N</th>\n",
       "                        <td id=\"T_1cb1501d_41fb_11ea_863d_dcfb48536b8crow8_col0\" class=\"data row8 col0\" >0</td>\n",
       "            </tr>\n",
       "            <tr>\n",
       "                        <th id=\"T_1cb1501d_41fb_11ea_863d_dcfb48536b8clevel0_row9\" class=\"row_heading level0 row9\" >K</th>\n",
       "                        <td id=\"T_1cb1501d_41fb_11ea_863d_dcfb48536b8crow9_col0\" class=\"data row9 col0\" >1</td>\n",
       "            </tr>\n",
       "            <tr>\n",
       "                        <th id=\"T_1cb1501d_41fb_11ea_863d_dcfb48536b8clevel0_row10\" class=\"row_heading level0 row10\" >F</th>\n",
       "                        <td id=\"T_1cb1501d_41fb_11ea_863d_dcfb48536b8crow10_col0\" class=\"data row10 col0\" >1</td>\n",
       "            </tr>\n",
       "            <tr>\n",
       "                        <th id=\"T_1cb1501d_41fb_11ea_863d_dcfb48536b8clevel0_row11\" class=\"row_heading level0 row11\" >P</th>\n",
       "                        <td id=\"T_1cb1501d_41fb_11ea_863d_dcfb48536b8crow11_col0\" class=\"data row11 col0\" >1</td>\n",
       "            </tr>\n",
       "            <tr>\n",
       "                        <th id=\"T_1cb1501d_41fb_11ea_863d_dcfb48536b8clevel0_row12\" class=\"row_heading level0 row12\" >G</th>\n",
       "                        <td id=\"T_1cb1501d_41fb_11ea_863d_dcfb48536b8crow12_col0\" class=\"data row12 col0\" >1</td>\n",
       "            </tr>\n",
       "            <tr>\n",
       "                        <th id=\"T_1cb1501d_41fb_11ea_863d_dcfb48536b8clevel0_row13\" class=\"row_heading level0 row13\" >A</th>\n",
       "                        <td id=\"T_1cb1501d_41fb_11ea_863d_dcfb48536b8crow13_col0\" class=\"data row13 col0\" >1</td>\n",
       "            </tr>\n",
       "            <tr>\n",
       "                        <th id=\"T_1cb1501d_41fb_11ea_863d_dcfb48536b8clevel0_row14\" class=\"row_heading level0 row14\" >L</th>\n",
       "                        <td id=\"T_1cb1501d_41fb_11ea_863d_dcfb48536b8crow14_col0\" class=\"data row14 col0\" >1</td>\n",
       "            </tr>\n",
       "            <tr>\n",
       "                        <th id=\"T_1cb1501d_41fb_11ea_863d_dcfb48536b8clevel0_row15\" class=\"row_heading level0 row15\" >D</th>\n",
       "                        <td id=\"T_1cb1501d_41fb_11ea_863d_dcfb48536b8crow15_col0\" class=\"data row15 col0\" >1</td>\n",
       "            </tr>\n",
       "    </tbody></table>"
      ],
      "text/plain": [
       "<pandas.io.formats.style.Styler at 0x7fa4cb33b358>"
      ]
     },
     "metadata": {},
     "output_type": "display_data"
    }
   ],
   "source": [
    "def permute(s):\n",
    "    \"\"\"\n",
    "    Permutes a set\n",
    "    \"\"\"\n",
    "    return s.reindex(np.random.permutation(s.index))\n",
    "    \n",
    "def pp_minhash(s, permute_set=True):\n",
    "    \"\"\"\n",
    "    Pretty prints the minhash of a given set of a dataframe of sets\n",
    "    \"\"\"\n",
    "    p = permute(s) if permute_set else s\n",
    "    def find_first(rows):\n",
    "        res = ['background-color:white']  * len(rows)\n",
    "        res[rows.tolist().index(1)] = 'background-color:gold'\n",
    "        return res\n",
    "    display(p.style.apply(find_first, axis=0))\n",
    "\n",
    "pp_set(s)\n",
    "p = permute(s)\n",
    "display(HTML('<div style=\"top:50%;position:absolute;  margin: 0;\"> => permute => </div>'))\n",
    "pp_set(p)\n",
    "display(HTML('<div style=\"top:50%;position:absolute;  margin: 0;\"> => minhash =></div>'))\n",
    "pp_minhash(p, permute_set=False)"
   ]
  },
  {
   "cell_type": "markdown",
   "metadata": {
    "heading_collapsed": true,
    "slideshow": {
     "slide_type": "slide"
    }
   },
   "source": [
    "# 4. Minhash equality probability is Jaccard similarity"
   ]
  },
  {
   "cell_type": "markdown",
   "metadata": {
    "hidden": true
   },
   "source": [
    "We will prove that the probability that the minhashes of two sets X and Y under the same random permutation is equal to their jaccard similarity: \n",
    "\n",
    "$$ P(minhash(X) = minhash(Y)) = jac\\_sim(X, Y)$$"
   ]
  },
  {
   "cell_type": "code",
   "execution_count": 102,
   "metadata": {
    "hidden": true,
    "slideshow": {
     "slide_type": "subslide"
    }
   },
   "outputs": [
    {
     "data": {
      "text/html": [
       "<style  type=\"text/css\" >\n",
       "    #T_36952538_41fb_11ea_863d_dcfb48536b8crow0_col0 {\n",
       "            background-color:  gold;\n",
       "        }    #T_36952538_41fb_11ea_863d_dcfb48536b8crow0_col1 {\n",
       "            background-color:  gold;\n",
       "        }    #T_36952538_41fb_11ea_863d_dcfb48536b8crow1_col0 {\n",
       "            background-color:  gold;\n",
       "        }    #T_36952538_41fb_11ea_863d_dcfb48536b8crow1_col1 {\n",
       "            background-color:  gold;\n",
       "        }    #T_36952538_41fb_11ea_863d_dcfb48536b8crow2_col0 {\n",
       "            background-color:  white;\n",
       "        }    #T_36952538_41fb_11ea_863d_dcfb48536b8crow2_col1 {\n",
       "            background-color:  white;\n",
       "        }    #T_36952538_41fb_11ea_863d_dcfb48536b8crow3_col0 {\n",
       "            background-color:  gold;\n",
       "        }    #T_36952538_41fb_11ea_863d_dcfb48536b8crow3_col1 {\n",
       "            background-color:  gold;\n",
       "        }    #T_36952538_41fb_11ea_863d_dcfb48536b8crow4_col0 {\n",
       "            background-color:  white;\n",
       "        }    #T_36952538_41fb_11ea_863d_dcfb48536b8crow4_col1 {\n",
       "            background-color:  white;\n",
       "        }    #T_36952538_41fb_11ea_863d_dcfb48536b8crow5_col0 {\n",
       "            background-color:  white;\n",
       "        }    #T_36952538_41fb_11ea_863d_dcfb48536b8crow5_col1 {\n",
       "            background-color:  white;\n",
       "        }    #T_36952538_41fb_11ea_863d_dcfb48536b8crow6_col0 {\n",
       "            background-color:  white;\n",
       "        }    #T_36952538_41fb_11ea_863d_dcfb48536b8crow6_col1 {\n",
       "            background-color:  white;\n",
       "        }    #T_36952538_41fb_11ea_863d_dcfb48536b8crow7_col0 {\n",
       "            background-color:  gold;\n",
       "        }    #T_36952538_41fb_11ea_863d_dcfb48536b8crow7_col1 {\n",
       "            background-color:  gold;\n",
       "        }    #T_36952538_41fb_11ea_863d_dcfb48536b8crow8_col0 {\n",
       "            background-color:  gold;\n",
       "        }    #T_36952538_41fb_11ea_863d_dcfb48536b8crow8_col1 {\n",
       "            background-color:  gold;\n",
       "        }    #T_36952538_41fb_11ea_863d_dcfb48536b8crow9_col0 {\n",
       "            background-color:  gold;\n",
       "        }    #T_36952538_41fb_11ea_863d_dcfb48536b8crow9_col1 {\n",
       "            background-color:  gold;\n",
       "        }    #T_36952538_41fb_11ea_863d_dcfb48536b8crow10_col0 {\n",
       "            background-color:  gold;\n",
       "        }    #T_36952538_41fb_11ea_863d_dcfb48536b8crow10_col1 {\n",
       "            background-color:  white;\n",
       "        }    #T_36952538_41fb_11ea_863d_dcfb48536b8crow11_col0 {\n",
       "            background-color:  gold;\n",
       "        }    #T_36952538_41fb_11ea_863d_dcfb48536b8crow11_col1 {\n",
       "            background-color:  white;\n",
       "        }    #T_36952538_41fb_11ea_863d_dcfb48536b8crow12_col0 {\n",
       "            background-color:  white;\n",
       "        }    #T_36952538_41fb_11ea_863d_dcfb48536b8crow12_col1 {\n",
       "            background-color:  white;\n",
       "        }    #T_36952538_41fb_11ea_863d_dcfb48536b8crow13_col0 {\n",
       "            background-color:  gold;\n",
       "        }    #T_36952538_41fb_11ea_863d_dcfb48536b8crow13_col1 {\n",
       "            background-color:  gold;\n",
       "        }    #T_36952538_41fb_11ea_863d_dcfb48536b8crow14_col0 {\n",
       "            background-color:  gold;\n",
       "        }    #T_36952538_41fb_11ea_863d_dcfb48536b8crow14_col1 {\n",
       "            background-color:  gold;\n",
       "        }    #T_36952538_41fb_11ea_863d_dcfb48536b8crow15_col0 {\n",
       "            background-color:  white;\n",
       "        }    #T_36952538_41fb_11ea_863d_dcfb48536b8crow15_col1 {\n",
       "            background-color:  gold;\n",
       "        }</style><table id=\"T_36952538_41fb_11ea_863d_dcfb48536b8c\" ><thead>    <tr>        <th class=\"blank level0\" ></th>        <th class=\"col_heading level0 col0\" >X</th>        <th class=\"col_heading level0 col1\" >Y</th>    </tr></thead><tbody>\n",
       "                <tr>\n",
       "                        <th id=\"T_36952538_41fb_11ea_863d_dcfb48536b8clevel0_row0\" class=\"row_heading level0 row0\" >A</th>\n",
       "                        <td id=\"T_36952538_41fb_11ea_863d_dcfb48536b8crow0_col0\" class=\"data row0 col0\" >1</td>\n",
       "                        <td id=\"T_36952538_41fb_11ea_863d_dcfb48536b8crow0_col1\" class=\"data row0 col1\" >1</td>\n",
       "            </tr>\n",
       "            <tr>\n",
       "                        <th id=\"T_36952538_41fb_11ea_863d_dcfb48536b8clevel0_row1\" class=\"row_heading level0 row1\" >B</th>\n",
       "                        <td id=\"T_36952538_41fb_11ea_863d_dcfb48536b8crow1_col0\" class=\"data row1 col0\" >1</td>\n",
       "                        <td id=\"T_36952538_41fb_11ea_863d_dcfb48536b8crow1_col1\" class=\"data row1 col1\" >1</td>\n",
       "            </tr>\n",
       "            <tr>\n",
       "                        <th id=\"T_36952538_41fb_11ea_863d_dcfb48536b8clevel0_row2\" class=\"row_heading level0 row2\" >C</th>\n",
       "                        <td id=\"T_36952538_41fb_11ea_863d_dcfb48536b8crow2_col0\" class=\"data row2 col0\" >0</td>\n",
       "                        <td id=\"T_36952538_41fb_11ea_863d_dcfb48536b8crow2_col1\" class=\"data row2 col1\" >0</td>\n",
       "            </tr>\n",
       "            <tr>\n",
       "                        <th id=\"T_36952538_41fb_11ea_863d_dcfb48536b8clevel0_row3\" class=\"row_heading level0 row3\" >D</th>\n",
       "                        <td id=\"T_36952538_41fb_11ea_863d_dcfb48536b8crow3_col0\" class=\"data row3 col0\" >1</td>\n",
       "                        <td id=\"T_36952538_41fb_11ea_863d_dcfb48536b8crow3_col1\" class=\"data row3 col1\" >1</td>\n",
       "            </tr>\n",
       "            <tr>\n",
       "                        <th id=\"T_36952538_41fb_11ea_863d_dcfb48536b8clevel0_row4\" class=\"row_heading level0 row4\" >E</th>\n",
       "                        <td id=\"T_36952538_41fb_11ea_863d_dcfb48536b8crow4_col0\" class=\"data row4 col0\" >0</td>\n",
       "                        <td id=\"T_36952538_41fb_11ea_863d_dcfb48536b8crow4_col1\" class=\"data row4 col1\" >0</td>\n",
       "            </tr>\n",
       "            <tr>\n",
       "                        <th id=\"T_36952538_41fb_11ea_863d_dcfb48536b8clevel0_row5\" class=\"row_heading level0 row5\" >F</th>\n",
       "                        <td id=\"T_36952538_41fb_11ea_863d_dcfb48536b8crow5_col0\" class=\"data row5 col0\" >0</td>\n",
       "                        <td id=\"T_36952538_41fb_11ea_863d_dcfb48536b8crow5_col1\" class=\"data row5 col1\" >0</td>\n",
       "            </tr>\n",
       "            <tr>\n",
       "                        <th id=\"T_36952538_41fb_11ea_863d_dcfb48536b8clevel0_row6\" class=\"row_heading level0 row6\" >G</th>\n",
       "                        <td id=\"T_36952538_41fb_11ea_863d_dcfb48536b8crow6_col0\" class=\"data row6 col0\" >0</td>\n",
       "                        <td id=\"T_36952538_41fb_11ea_863d_dcfb48536b8crow6_col1\" class=\"data row6 col1\" >0</td>\n",
       "            </tr>\n",
       "            <tr>\n",
       "                        <th id=\"T_36952538_41fb_11ea_863d_dcfb48536b8clevel0_row7\" class=\"row_heading level0 row7\" >H</th>\n",
       "                        <td id=\"T_36952538_41fb_11ea_863d_dcfb48536b8crow7_col0\" class=\"data row7 col0\" >1</td>\n",
       "                        <td id=\"T_36952538_41fb_11ea_863d_dcfb48536b8crow7_col1\" class=\"data row7 col1\" >1</td>\n",
       "            </tr>\n",
       "            <tr>\n",
       "                        <th id=\"T_36952538_41fb_11ea_863d_dcfb48536b8clevel0_row8\" class=\"row_heading level0 row8\" >I</th>\n",
       "                        <td id=\"T_36952538_41fb_11ea_863d_dcfb48536b8crow8_col0\" class=\"data row8 col0\" >1</td>\n",
       "                        <td id=\"T_36952538_41fb_11ea_863d_dcfb48536b8crow8_col1\" class=\"data row8 col1\" >1</td>\n",
       "            </tr>\n",
       "            <tr>\n",
       "                        <th id=\"T_36952538_41fb_11ea_863d_dcfb48536b8clevel0_row9\" class=\"row_heading level0 row9\" >J</th>\n",
       "                        <td id=\"T_36952538_41fb_11ea_863d_dcfb48536b8crow9_col0\" class=\"data row9 col0\" >1</td>\n",
       "                        <td id=\"T_36952538_41fb_11ea_863d_dcfb48536b8crow9_col1\" class=\"data row9 col1\" >1</td>\n",
       "            </tr>\n",
       "            <tr>\n",
       "                        <th id=\"T_36952538_41fb_11ea_863d_dcfb48536b8clevel0_row10\" class=\"row_heading level0 row10\" >K</th>\n",
       "                        <td id=\"T_36952538_41fb_11ea_863d_dcfb48536b8crow10_col0\" class=\"data row10 col0\" >1</td>\n",
       "                        <td id=\"T_36952538_41fb_11ea_863d_dcfb48536b8crow10_col1\" class=\"data row10 col1\" >0</td>\n",
       "            </tr>\n",
       "            <tr>\n",
       "                        <th id=\"T_36952538_41fb_11ea_863d_dcfb48536b8clevel0_row11\" class=\"row_heading level0 row11\" >L</th>\n",
       "                        <td id=\"T_36952538_41fb_11ea_863d_dcfb48536b8crow11_col0\" class=\"data row11 col0\" >1</td>\n",
       "                        <td id=\"T_36952538_41fb_11ea_863d_dcfb48536b8crow11_col1\" class=\"data row11 col1\" >0</td>\n",
       "            </tr>\n",
       "            <tr>\n",
       "                        <th id=\"T_36952538_41fb_11ea_863d_dcfb48536b8clevel0_row12\" class=\"row_heading level0 row12\" >M</th>\n",
       "                        <td id=\"T_36952538_41fb_11ea_863d_dcfb48536b8crow12_col0\" class=\"data row12 col0\" >0</td>\n",
       "                        <td id=\"T_36952538_41fb_11ea_863d_dcfb48536b8crow12_col1\" class=\"data row12 col1\" >0</td>\n",
       "            </tr>\n",
       "            <tr>\n",
       "                        <th id=\"T_36952538_41fb_11ea_863d_dcfb48536b8clevel0_row13\" class=\"row_heading level0 row13\" >N</th>\n",
       "                        <td id=\"T_36952538_41fb_11ea_863d_dcfb48536b8crow13_col0\" class=\"data row13 col0\" >1</td>\n",
       "                        <td id=\"T_36952538_41fb_11ea_863d_dcfb48536b8crow13_col1\" class=\"data row13 col1\" >1</td>\n",
       "            </tr>\n",
       "            <tr>\n",
       "                        <th id=\"T_36952538_41fb_11ea_863d_dcfb48536b8clevel0_row14\" class=\"row_heading level0 row14\" >O</th>\n",
       "                        <td id=\"T_36952538_41fb_11ea_863d_dcfb48536b8crow14_col0\" class=\"data row14 col0\" >1</td>\n",
       "                        <td id=\"T_36952538_41fb_11ea_863d_dcfb48536b8crow14_col1\" class=\"data row14 col1\" >1</td>\n",
       "            </tr>\n",
       "            <tr>\n",
       "                        <th id=\"T_36952538_41fb_11ea_863d_dcfb48536b8clevel0_row15\" class=\"row_heading level0 row15\" >P</th>\n",
       "                        <td id=\"T_36952538_41fb_11ea_863d_dcfb48536b8crow15_col0\" class=\"data row15 col0\" >0</td>\n",
       "                        <td id=\"T_36952538_41fb_11ea_863d_dcfb48536b8crow15_col1\" class=\"data row15 col1\" >1</td>\n",
       "            </tr>\n",
       "    </tbody></table>"
      ],
      "text/plain": [
       "<pandas.io.formats.style.Styler at 0x7fa4cb35bda0>"
      ]
     },
     "metadata": {},
     "output_type": "display_data"
    }
   ],
   "source": [
    "pair = pd.concat([sample_set(), sample_set()], axis=1)\n",
    "pair.columns=['X','Y']\n",
    "pp_set(pair)"
   ]
  },
  {
   "cell_type": "markdown",
   "metadata": {
    "hidden": true
   },
   "source": [
    "Let's define 3 kinds of rows:\n",
    "1. <span style=\"background-color:lightgreen;\">Green rows</span>: these are rows with entries (1,1)\n",
    "2. <span style=\"background-color:darkorange;\">Orange</span> rows: these are rows with entries (0,1) or (1,0)\n",
    "3. Gray rows: these are rows with entries (0,0)"
   ]
  },
  {
   "cell_type": "code",
   "execution_count": 103,
   "metadata": {
    "hidden": true,
    "slideshow": {
     "slide_type": "skip"
    }
   },
   "outputs": [],
   "source": [
    "def pp_jaccard(df):\n",
    "    def highlight_eq_rows(row):\n",
    "        l = row.iloc[0]\n",
    "        r = row.iloc[1]\n",
    "        if l == 0 and r == 0:\n",
    "            return ['']* 2\n",
    "        elif l != r:\n",
    "            return ['background-color: darkorange']* 2\n",
    "        else:\n",
    "            return ['background-color: lightgreen'] * 2\n",
    "    return df.style.apply(highlight_eq_rows, axis=1)"
   ]
  },
  {
   "cell_type": "code",
   "execution_count": 105,
   "metadata": {
    "hidden": true,
    "slideshow": {
     "slide_type": "subslide"
    }
   },
   "outputs": [
    {
     "data": {
      "text/html": [
       "<style  type=\"text/css\" >\n",
       "    #T_5b3837c0_41fb_11ea_863d_dcfb48536b8crow0_col0 {\n",
       "            background-color:  lightgreen;\n",
       "        }    #T_5b3837c0_41fb_11ea_863d_dcfb48536b8crow0_col1 {\n",
       "            background-color:  lightgreen;\n",
       "        }    #T_5b3837c0_41fb_11ea_863d_dcfb48536b8crow1_col0 {\n",
       "            background-color:  lightgreen;\n",
       "        }    #T_5b3837c0_41fb_11ea_863d_dcfb48536b8crow1_col1 {\n",
       "            background-color:  lightgreen;\n",
       "        }    #T_5b3837c0_41fb_11ea_863d_dcfb48536b8crow3_col0 {\n",
       "            background-color:  lightgreen;\n",
       "        }    #T_5b3837c0_41fb_11ea_863d_dcfb48536b8crow3_col1 {\n",
       "            background-color:  lightgreen;\n",
       "        }    #T_5b3837c0_41fb_11ea_863d_dcfb48536b8crow7_col0 {\n",
       "            background-color:  lightgreen;\n",
       "        }    #T_5b3837c0_41fb_11ea_863d_dcfb48536b8crow7_col1 {\n",
       "            background-color:  lightgreen;\n",
       "        }    #T_5b3837c0_41fb_11ea_863d_dcfb48536b8crow8_col0 {\n",
       "            background-color:  lightgreen;\n",
       "        }    #T_5b3837c0_41fb_11ea_863d_dcfb48536b8crow8_col1 {\n",
       "            background-color:  lightgreen;\n",
       "        }    #T_5b3837c0_41fb_11ea_863d_dcfb48536b8crow9_col0 {\n",
       "            background-color:  lightgreen;\n",
       "        }    #T_5b3837c0_41fb_11ea_863d_dcfb48536b8crow9_col1 {\n",
       "            background-color:  lightgreen;\n",
       "        }    #T_5b3837c0_41fb_11ea_863d_dcfb48536b8crow10_col0 {\n",
       "            background-color:  darkorange;\n",
       "        }    #T_5b3837c0_41fb_11ea_863d_dcfb48536b8crow10_col1 {\n",
       "            background-color:  darkorange;\n",
       "        }    #T_5b3837c0_41fb_11ea_863d_dcfb48536b8crow11_col0 {\n",
       "            background-color:  darkorange;\n",
       "        }    #T_5b3837c0_41fb_11ea_863d_dcfb48536b8crow11_col1 {\n",
       "            background-color:  darkorange;\n",
       "        }    #T_5b3837c0_41fb_11ea_863d_dcfb48536b8crow13_col0 {\n",
       "            background-color:  lightgreen;\n",
       "        }    #T_5b3837c0_41fb_11ea_863d_dcfb48536b8crow13_col1 {\n",
       "            background-color:  lightgreen;\n",
       "        }    #T_5b3837c0_41fb_11ea_863d_dcfb48536b8crow14_col0 {\n",
       "            background-color:  lightgreen;\n",
       "        }    #T_5b3837c0_41fb_11ea_863d_dcfb48536b8crow14_col1 {\n",
       "            background-color:  lightgreen;\n",
       "        }    #T_5b3837c0_41fb_11ea_863d_dcfb48536b8crow15_col0 {\n",
       "            background-color:  darkorange;\n",
       "        }    #T_5b3837c0_41fb_11ea_863d_dcfb48536b8crow15_col1 {\n",
       "            background-color:  darkorange;\n",
       "        }</style><table id=\"T_5b3837c0_41fb_11ea_863d_dcfb48536b8c\" ><thead>    <tr>        <th class=\"blank level0\" ></th>        <th class=\"col_heading level0 col0\" >X</th>        <th class=\"col_heading level0 col1\" >Y</th>    </tr></thead><tbody>\n",
       "                <tr>\n",
       "                        <th id=\"T_5b3837c0_41fb_11ea_863d_dcfb48536b8clevel0_row0\" class=\"row_heading level0 row0\" >A</th>\n",
       "                        <td id=\"T_5b3837c0_41fb_11ea_863d_dcfb48536b8crow0_col0\" class=\"data row0 col0\" >1</td>\n",
       "                        <td id=\"T_5b3837c0_41fb_11ea_863d_dcfb48536b8crow0_col1\" class=\"data row0 col1\" >1</td>\n",
       "            </tr>\n",
       "            <tr>\n",
       "                        <th id=\"T_5b3837c0_41fb_11ea_863d_dcfb48536b8clevel0_row1\" class=\"row_heading level0 row1\" >B</th>\n",
       "                        <td id=\"T_5b3837c0_41fb_11ea_863d_dcfb48536b8crow1_col0\" class=\"data row1 col0\" >1</td>\n",
       "                        <td id=\"T_5b3837c0_41fb_11ea_863d_dcfb48536b8crow1_col1\" class=\"data row1 col1\" >1</td>\n",
       "            </tr>\n",
       "            <tr>\n",
       "                        <th id=\"T_5b3837c0_41fb_11ea_863d_dcfb48536b8clevel0_row2\" class=\"row_heading level0 row2\" >C</th>\n",
       "                        <td id=\"T_5b3837c0_41fb_11ea_863d_dcfb48536b8crow2_col0\" class=\"data row2 col0\" >0</td>\n",
       "                        <td id=\"T_5b3837c0_41fb_11ea_863d_dcfb48536b8crow2_col1\" class=\"data row2 col1\" >0</td>\n",
       "            </tr>\n",
       "            <tr>\n",
       "                        <th id=\"T_5b3837c0_41fb_11ea_863d_dcfb48536b8clevel0_row3\" class=\"row_heading level0 row3\" >D</th>\n",
       "                        <td id=\"T_5b3837c0_41fb_11ea_863d_dcfb48536b8crow3_col0\" class=\"data row3 col0\" >1</td>\n",
       "                        <td id=\"T_5b3837c0_41fb_11ea_863d_dcfb48536b8crow3_col1\" class=\"data row3 col1\" >1</td>\n",
       "            </tr>\n",
       "            <tr>\n",
       "                        <th id=\"T_5b3837c0_41fb_11ea_863d_dcfb48536b8clevel0_row4\" class=\"row_heading level0 row4\" >E</th>\n",
       "                        <td id=\"T_5b3837c0_41fb_11ea_863d_dcfb48536b8crow4_col0\" class=\"data row4 col0\" >0</td>\n",
       "                        <td id=\"T_5b3837c0_41fb_11ea_863d_dcfb48536b8crow4_col1\" class=\"data row4 col1\" >0</td>\n",
       "            </tr>\n",
       "            <tr>\n",
       "                        <th id=\"T_5b3837c0_41fb_11ea_863d_dcfb48536b8clevel0_row5\" class=\"row_heading level0 row5\" >F</th>\n",
       "                        <td id=\"T_5b3837c0_41fb_11ea_863d_dcfb48536b8crow5_col0\" class=\"data row5 col0\" >0</td>\n",
       "                        <td id=\"T_5b3837c0_41fb_11ea_863d_dcfb48536b8crow5_col1\" class=\"data row5 col1\" >0</td>\n",
       "            </tr>\n",
       "            <tr>\n",
       "                        <th id=\"T_5b3837c0_41fb_11ea_863d_dcfb48536b8clevel0_row6\" class=\"row_heading level0 row6\" >G</th>\n",
       "                        <td id=\"T_5b3837c0_41fb_11ea_863d_dcfb48536b8crow6_col0\" class=\"data row6 col0\" >0</td>\n",
       "                        <td id=\"T_5b3837c0_41fb_11ea_863d_dcfb48536b8crow6_col1\" class=\"data row6 col1\" >0</td>\n",
       "            </tr>\n",
       "            <tr>\n",
       "                        <th id=\"T_5b3837c0_41fb_11ea_863d_dcfb48536b8clevel0_row7\" class=\"row_heading level0 row7\" >H</th>\n",
       "                        <td id=\"T_5b3837c0_41fb_11ea_863d_dcfb48536b8crow7_col0\" class=\"data row7 col0\" >1</td>\n",
       "                        <td id=\"T_5b3837c0_41fb_11ea_863d_dcfb48536b8crow7_col1\" class=\"data row7 col1\" >1</td>\n",
       "            </tr>\n",
       "            <tr>\n",
       "                        <th id=\"T_5b3837c0_41fb_11ea_863d_dcfb48536b8clevel0_row8\" class=\"row_heading level0 row8\" >I</th>\n",
       "                        <td id=\"T_5b3837c0_41fb_11ea_863d_dcfb48536b8crow8_col0\" class=\"data row8 col0\" >1</td>\n",
       "                        <td id=\"T_5b3837c0_41fb_11ea_863d_dcfb48536b8crow8_col1\" class=\"data row8 col1\" >1</td>\n",
       "            </tr>\n",
       "            <tr>\n",
       "                        <th id=\"T_5b3837c0_41fb_11ea_863d_dcfb48536b8clevel0_row9\" class=\"row_heading level0 row9\" >J</th>\n",
       "                        <td id=\"T_5b3837c0_41fb_11ea_863d_dcfb48536b8crow9_col0\" class=\"data row9 col0\" >1</td>\n",
       "                        <td id=\"T_5b3837c0_41fb_11ea_863d_dcfb48536b8crow9_col1\" class=\"data row9 col1\" >1</td>\n",
       "            </tr>\n",
       "            <tr>\n",
       "                        <th id=\"T_5b3837c0_41fb_11ea_863d_dcfb48536b8clevel0_row10\" class=\"row_heading level0 row10\" >K</th>\n",
       "                        <td id=\"T_5b3837c0_41fb_11ea_863d_dcfb48536b8crow10_col0\" class=\"data row10 col0\" >1</td>\n",
       "                        <td id=\"T_5b3837c0_41fb_11ea_863d_dcfb48536b8crow10_col1\" class=\"data row10 col1\" >0</td>\n",
       "            </tr>\n",
       "            <tr>\n",
       "                        <th id=\"T_5b3837c0_41fb_11ea_863d_dcfb48536b8clevel0_row11\" class=\"row_heading level0 row11\" >L</th>\n",
       "                        <td id=\"T_5b3837c0_41fb_11ea_863d_dcfb48536b8crow11_col0\" class=\"data row11 col0\" >1</td>\n",
       "                        <td id=\"T_5b3837c0_41fb_11ea_863d_dcfb48536b8crow11_col1\" class=\"data row11 col1\" >0</td>\n",
       "            </tr>\n",
       "            <tr>\n",
       "                        <th id=\"T_5b3837c0_41fb_11ea_863d_dcfb48536b8clevel0_row12\" class=\"row_heading level0 row12\" >M</th>\n",
       "                        <td id=\"T_5b3837c0_41fb_11ea_863d_dcfb48536b8crow12_col0\" class=\"data row12 col0\" >0</td>\n",
       "                        <td id=\"T_5b3837c0_41fb_11ea_863d_dcfb48536b8crow12_col1\" class=\"data row12 col1\" >0</td>\n",
       "            </tr>\n",
       "            <tr>\n",
       "                        <th id=\"T_5b3837c0_41fb_11ea_863d_dcfb48536b8clevel0_row13\" class=\"row_heading level0 row13\" >N</th>\n",
       "                        <td id=\"T_5b3837c0_41fb_11ea_863d_dcfb48536b8crow13_col0\" class=\"data row13 col0\" >1</td>\n",
       "                        <td id=\"T_5b3837c0_41fb_11ea_863d_dcfb48536b8crow13_col1\" class=\"data row13 col1\" >1</td>\n",
       "            </tr>\n",
       "            <tr>\n",
       "                        <th id=\"T_5b3837c0_41fb_11ea_863d_dcfb48536b8clevel0_row14\" class=\"row_heading level0 row14\" >O</th>\n",
       "                        <td id=\"T_5b3837c0_41fb_11ea_863d_dcfb48536b8crow14_col0\" class=\"data row14 col0\" >1</td>\n",
       "                        <td id=\"T_5b3837c0_41fb_11ea_863d_dcfb48536b8crow14_col1\" class=\"data row14 col1\" >1</td>\n",
       "            </tr>\n",
       "            <tr>\n",
       "                        <th id=\"T_5b3837c0_41fb_11ea_863d_dcfb48536b8clevel0_row15\" class=\"row_heading level0 row15\" >P</th>\n",
       "                        <td id=\"T_5b3837c0_41fb_11ea_863d_dcfb48536b8crow15_col0\" class=\"data row15 col0\" >0</td>\n",
       "                        <td id=\"T_5b3837c0_41fb_11ea_863d_dcfb48536b8crow15_col1\" class=\"data row15 col1\" >1</td>\n",
       "            </tr>\n",
       "    </tbody></table>"
      ],
      "text/plain": [
       "<pandas.io.formats.style.Styler at 0x7fa4cb3b9f98>"
      ]
     },
     "execution_count": 105,
     "metadata": {},
     "output_type": "execute_result"
    }
   ],
   "source": [
    "pp_jaccard(pair)"
   ]
  },
  {
   "cell_type": "markdown",
   "metadata": {
    "hidden": true
   },
   "source": [
    "Let's draw a random permutation and visualize what the minhash of each of the sets is:"
   ]
  },
  {
   "cell_type": "code",
   "execution_count": 121,
   "metadata": {
    "hidden": true,
    "slideshow": {
     "slide_type": "subslide"
    }
   },
   "outputs": [
    {
     "data": {
      "text/html": [
       "<style  type=\"text/css\" >\n",
       "    #T_8b06f8d0_41fb_11ea_863d_dcfb48536b8crow0_col0 {\n",
       "            background-color: white;\n",
       "        }    #T_8b06f8d0_41fb_11ea_863d_dcfb48536b8crow0_col1 {\n",
       "            background-color: white;\n",
       "        }    #T_8b06f8d0_41fb_11ea_863d_dcfb48536b8crow1_col0 {\n",
       "            background-color: white;\n",
       "        }    #T_8b06f8d0_41fb_11ea_863d_dcfb48536b8crow1_col1 {\n",
       "            background-color: white;\n",
       "        }    #T_8b06f8d0_41fb_11ea_863d_dcfb48536b8crow2_col0 {\n",
       "            background-color: white;\n",
       "        }    #T_8b06f8d0_41fb_11ea_863d_dcfb48536b8crow2_col1 {\n",
       "            background-color: white;\n",
       "        }    #T_8b06f8d0_41fb_11ea_863d_dcfb48536b8crow3_col0 {\n",
       "            background-color: gold;\n",
       "        }    #T_8b06f8d0_41fb_11ea_863d_dcfb48536b8crow3_col1 {\n",
       "            background-color: white;\n",
       "        }    #T_8b06f8d0_41fb_11ea_863d_dcfb48536b8crow4_col0 {\n",
       "            background-color: white;\n",
       "        }    #T_8b06f8d0_41fb_11ea_863d_dcfb48536b8crow4_col1 {\n",
       "            background-color: white;\n",
       "        }    #T_8b06f8d0_41fb_11ea_863d_dcfb48536b8crow5_col0 {\n",
       "            background-color: white;\n",
       "        }    #T_8b06f8d0_41fb_11ea_863d_dcfb48536b8crow5_col1 {\n",
       "            background-color: gold;\n",
       "        }    #T_8b06f8d0_41fb_11ea_863d_dcfb48536b8crow6_col0 {\n",
       "            background-color: white;\n",
       "        }    #T_8b06f8d0_41fb_11ea_863d_dcfb48536b8crow6_col1 {\n",
       "            background-color: white;\n",
       "        }    #T_8b06f8d0_41fb_11ea_863d_dcfb48536b8crow7_col0 {\n",
       "            background-color: white;\n",
       "        }    #T_8b06f8d0_41fb_11ea_863d_dcfb48536b8crow7_col1 {\n",
       "            background-color: white;\n",
       "        }    #T_8b06f8d0_41fb_11ea_863d_dcfb48536b8crow8_col0 {\n",
       "            background-color: white;\n",
       "        }    #T_8b06f8d0_41fb_11ea_863d_dcfb48536b8crow8_col1 {\n",
       "            background-color: white;\n",
       "        }    #T_8b06f8d0_41fb_11ea_863d_dcfb48536b8crow9_col0 {\n",
       "            background-color: white;\n",
       "        }    #T_8b06f8d0_41fb_11ea_863d_dcfb48536b8crow9_col1 {\n",
       "            background-color: white;\n",
       "        }    #T_8b06f8d0_41fb_11ea_863d_dcfb48536b8crow10_col0 {\n",
       "            background-color: white;\n",
       "        }    #T_8b06f8d0_41fb_11ea_863d_dcfb48536b8crow10_col1 {\n",
       "            background-color: white;\n",
       "        }    #T_8b06f8d0_41fb_11ea_863d_dcfb48536b8crow11_col0 {\n",
       "            background-color: white;\n",
       "        }    #T_8b06f8d0_41fb_11ea_863d_dcfb48536b8crow11_col1 {\n",
       "            background-color: white;\n",
       "        }    #T_8b06f8d0_41fb_11ea_863d_dcfb48536b8crow12_col0 {\n",
       "            background-color: white;\n",
       "        }    #T_8b06f8d0_41fb_11ea_863d_dcfb48536b8crow12_col1 {\n",
       "            background-color: white;\n",
       "        }    #T_8b06f8d0_41fb_11ea_863d_dcfb48536b8crow13_col0 {\n",
       "            background-color: white;\n",
       "        }    #T_8b06f8d0_41fb_11ea_863d_dcfb48536b8crow13_col1 {\n",
       "            background-color: white;\n",
       "        }    #T_8b06f8d0_41fb_11ea_863d_dcfb48536b8crow14_col0 {\n",
       "            background-color: white;\n",
       "        }    #T_8b06f8d0_41fb_11ea_863d_dcfb48536b8crow14_col1 {\n",
       "            background-color: white;\n",
       "        }    #T_8b06f8d0_41fb_11ea_863d_dcfb48536b8crow15_col0 {\n",
       "            background-color: white;\n",
       "        }    #T_8b06f8d0_41fb_11ea_863d_dcfb48536b8crow15_col1 {\n",
       "            background-color: white;\n",
       "        }</style><table id=\"T_8b06f8d0_41fb_11ea_863d_dcfb48536b8c\" ><thead>    <tr>        <th class=\"blank level0\" ></th>        <th class=\"col_heading level0 col0\" >X</th>        <th class=\"col_heading level0 col1\" >Y</th>    </tr></thead><tbody>\n",
       "                <tr>\n",
       "                        <th id=\"T_8b06f8d0_41fb_11ea_863d_dcfb48536b8clevel0_row0\" class=\"row_heading level0 row0\" >C</th>\n",
       "                        <td id=\"T_8b06f8d0_41fb_11ea_863d_dcfb48536b8crow0_col0\" class=\"data row0 col0\" >0</td>\n",
       "                        <td id=\"T_8b06f8d0_41fb_11ea_863d_dcfb48536b8crow0_col1\" class=\"data row0 col1\" >0</td>\n",
       "            </tr>\n",
       "            <tr>\n",
       "                        <th id=\"T_8b06f8d0_41fb_11ea_863d_dcfb48536b8clevel0_row1\" class=\"row_heading level0 row1\" >F</th>\n",
       "                        <td id=\"T_8b06f8d0_41fb_11ea_863d_dcfb48536b8crow1_col0\" class=\"data row1 col0\" >0</td>\n",
       "                        <td id=\"T_8b06f8d0_41fb_11ea_863d_dcfb48536b8crow1_col1\" class=\"data row1 col1\" >0</td>\n",
       "            </tr>\n",
       "            <tr>\n",
       "                        <th id=\"T_8b06f8d0_41fb_11ea_863d_dcfb48536b8clevel0_row2\" class=\"row_heading level0 row2\" >E</th>\n",
       "                        <td id=\"T_8b06f8d0_41fb_11ea_863d_dcfb48536b8crow2_col0\" class=\"data row2 col0\" >0</td>\n",
       "                        <td id=\"T_8b06f8d0_41fb_11ea_863d_dcfb48536b8crow2_col1\" class=\"data row2 col1\" >0</td>\n",
       "            </tr>\n",
       "            <tr>\n",
       "                        <th id=\"T_8b06f8d0_41fb_11ea_863d_dcfb48536b8clevel0_row3\" class=\"row_heading level0 row3\" >L</th>\n",
       "                        <td id=\"T_8b06f8d0_41fb_11ea_863d_dcfb48536b8crow3_col0\" class=\"data row3 col0\" >1</td>\n",
       "                        <td id=\"T_8b06f8d0_41fb_11ea_863d_dcfb48536b8crow3_col1\" class=\"data row3 col1\" >0</td>\n",
       "            </tr>\n",
       "            <tr>\n",
       "                        <th id=\"T_8b06f8d0_41fb_11ea_863d_dcfb48536b8clevel0_row4\" class=\"row_heading level0 row4\" >M</th>\n",
       "                        <td id=\"T_8b06f8d0_41fb_11ea_863d_dcfb48536b8crow4_col0\" class=\"data row4 col0\" >0</td>\n",
       "                        <td id=\"T_8b06f8d0_41fb_11ea_863d_dcfb48536b8crow4_col1\" class=\"data row4 col1\" >0</td>\n",
       "            </tr>\n",
       "            <tr>\n",
       "                        <th id=\"T_8b06f8d0_41fb_11ea_863d_dcfb48536b8clevel0_row5\" class=\"row_heading level0 row5\" >I</th>\n",
       "                        <td id=\"T_8b06f8d0_41fb_11ea_863d_dcfb48536b8crow5_col0\" class=\"data row5 col0\" >1</td>\n",
       "                        <td id=\"T_8b06f8d0_41fb_11ea_863d_dcfb48536b8crow5_col1\" class=\"data row5 col1\" >1</td>\n",
       "            </tr>\n",
       "            <tr>\n",
       "                        <th id=\"T_8b06f8d0_41fb_11ea_863d_dcfb48536b8clevel0_row6\" class=\"row_heading level0 row6\" >K</th>\n",
       "                        <td id=\"T_8b06f8d0_41fb_11ea_863d_dcfb48536b8crow6_col0\" class=\"data row6 col0\" >1</td>\n",
       "                        <td id=\"T_8b06f8d0_41fb_11ea_863d_dcfb48536b8crow6_col1\" class=\"data row6 col1\" >0</td>\n",
       "            </tr>\n",
       "            <tr>\n",
       "                        <th id=\"T_8b06f8d0_41fb_11ea_863d_dcfb48536b8clevel0_row7\" class=\"row_heading level0 row7\" >H</th>\n",
       "                        <td id=\"T_8b06f8d0_41fb_11ea_863d_dcfb48536b8crow7_col0\" class=\"data row7 col0\" >1</td>\n",
       "                        <td id=\"T_8b06f8d0_41fb_11ea_863d_dcfb48536b8crow7_col1\" class=\"data row7 col1\" >1</td>\n",
       "            </tr>\n",
       "            <tr>\n",
       "                        <th id=\"T_8b06f8d0_41fb_11ea_863d_dcfb48536b8clevel0_row8\" class=\"row_heading level0 row8\" >P</th>\n",
       "                        <td id=\"T_8b06f8d0_41fb_11ea_863d_dcfb48536b8crow8_col0\" class=\"data row8 col0\" >0</td>\n",
       "                        <td id=\"T_8b06f8d0_41fb_11ea_863d_dcfb48536b8crow8_col1\" class=\"data row8 col1\" >1</td>\n",
       "            </tr>\n",
       "            <tr>\n",
       "                        <th id=\"T_8b06f8d0_41fb_11ea_863d_dcfb48536b8clevel0_row9\" class=\"row_heading level0 row9\" >G</th>\n",
       "                        <td id=\"T_8b06f8d0_41fb_11ea_863d_dcfb48536b8crow9_col0\" class=\"data row9 col0\" >0</td>\n",
       "                        <td id=\"T_8b06f8d0_41fb_11ea_863d_dcfb48536b8crow9_col1\" class=\"data row9 col1\" >0</td>\n",
       "            </tr>\n",
       "            <tr>\n",
       "                        <th id=\"T_8b06f8d0_41fb_11ea_863d_dcfb48536b8clevel0_row10\" class=\"row_heading level0 row10\" >N</th>\n",
       "                        <td id=\"T_8b06f8d0_41fb_11ea_863d_dcfb48536b8crow10_col0\" class=\"data row10 col0\" >1</td>\n",
       "                        <td id=\"T_8b06f8d0_41fb_11ea_863d_dcfb48536b8crow10_col1\" class=\"data row10 col1\" >1</td>\n",
       "            </tr>\n",
       "            <tr>\n",
       "                        <th id=\"T_8b06f8d0_41fb_11ea_863d_dcfb48536b8clevel0_row11\" class=\"row_heading level0 row11\" >A</th>\n",
       "                        <td id=\"T_8b06f8d0_41fb_11ea_863d_dcfb48536b8crow11_col0\" class=\"data row11 col0\" >1</td>\n",
       "                        <td id=\"T_8b06f8d0_41fb_11ea_863d_dcfb48536b8crow11_col1\" class=\"data row11 col1\" >1</td>\n",
       "            </tr>\n",
       "            <tr>\n",
       "                        <th id=\"T_8b06f8d0_41fb_11ea_863d_dcfb48536b8clevel0_row12\" class=\"row_heading level0 row12\" >B</th>\n",
       "                        <td id=\"T_8b06f8d0_41fb_11ea_863d_dcfb48536b8crow12_col0\" class=\"data row12 col0\" >1</td>\n",
       "                        <td id=\"T_8b06f8d0_41fb_11ea_863d_dcfb48536b8crow12_col1\" class=\"data row12 col1\" >1</td>\n",
       "            </tr>\n",
       "            <tr>\n",
       "                        <th id=\"T_8b06f8d0_41fb_11ea_863d_dcfb48536b8clevel0_row13\" class=\"row_heading level0 row13\" >J</th>\n",
       "                        <td id=\"T_8b06f8d0_41fb_11ea_863d_dcfb48536b8crow13_col0\" class=\"data row13 col0\" >1</td>\n",
       "                        <td id=\"T_8b06f8d0_41fb_11ea_863d_dcfb48536b8crow13_col1\" class=\"data row13 col1\" >1</td>\n",
       "            </tr>\n",
       "            <tr>\n",
       "                        <th id=\"T_8b06f8d0_41fb_11ea_863d_dcfb48536b8clevel0_row14\" class=\"row_heading level0 row14\" >D</th>\n",
       "                        <td id=\"T_8b06f8d0_41fb_11ea_863d_dcfb48536b8crow14_col0\" class=\"data row14 col0\" >1</td>\n",
       "                        <td id=\"T_8b06f8d0_41fb_11ea_863d_dcfb48536b8crow14_col1\" class=\"data row14 col1\" >1</td>\n",
       "            </tr>\n",
       "            <tr>\n",
       "                        <th id=\"T_8b06f8d0_41fb_11ea_863d_dcfb48536b8clevel0_row15\" class=\"row_heading level0 row15\" >O</th>\n",
       "                        <td id=\"T_8b06f8d0_41fb_11ea_863d_dcfb48536b8crow15_col0\" class=\"data row15 col0\" >1</td>\n",
       "                        <td id=\"T_8b06f8d0_41fb_11ea_863d_dcfb48536b8crow15_col1\" class=\"data row15 col1\" >1</td>\n",
       "            </tr>\n",
       "    </tbody></table>"
      ],
      "text/plain": [
       "<pandas.io.formats.style.Styler at 0x7fa4cb33b9b0>"
      ]
     },
     "metadata": {},
     "output_type": "display_data"
    }
   ],
   "source": [
    "pp_minhash(pair)"
   ]
  },
  {
   "cell_type": "markdown",
   "metadata": {
    "hidden": true
   },
   "source": [
    "It turns out, that the probability of having an equal minhash is:\n",
    "\n",
    "$$ P(minhash(X) = minhash(Y)) = \\frac{\\color{green}{green}}{\\color{green}{green}+\\color{darkorange}{orange}}$$\n",
    "\n",
    "\n",
    "Thus, if we sample the minhash operation enough times, we can get a reliable estimate of the true Jaccard similarity.\n",
    "\n",
    "Let's see if this holds empirically."
   ]
  },
  {
   "cell_type": "code",
   "execution_count": 122,
   "metadata": {
    "hidden": true,
    "slideshow": {
     "slide_type": "skip"
    }
   },
   "outputs": [],
   "source": [
    "def get_mh(s):\n",
    "    p = permute(s)\n",
    "    return p.index[p.apply(lambda x: x.tolist().index(1), axis=0)]"
   ]
  },
  {
   "cell_type": "code",
   "execution_count": 123,
   "metadata": {
    "hidden": true,
    "slideshow": {
     "slide_type": "skip"
    }
   },
   "outputs": [],
   "source": [
    "def jac_sim(pair):\n",
    "    return (pair['X'] & pair['Y']).sum() / (pair['X'] | pair['Y']).sum()"
   ]
  },
  {
   "cell_type": "code",
   "execution_count": 124,
   "metadata": {
    "hidden": true,
    "slideshow": {
     "slide_type": "skip"
    }
   },
   "outputs": [
    {
     "data": {
      "text/plain": [
       "0.7272727272727273"
      ]
     },
     "execution_count": 124,
     "metadata": {},
     "output_type": "execute_result"
    }
   ],
   "source": [
    "jac_sim(pair)"
   ]
  },
  {
   "cell_type": "code",
   "execution_count": 125,
   "metadata": {
    "hidden": true
   },
   "outputs": [],
   "source": [
    "from math import sqrt\n",
    "def wilson(p, n, z = 1.96):\n",
    "    denominator = 1 + z**2/n\n",
    "    centre_adjusted_probability = p + z*z / (2*n)\n",
    "    adjusted_standard_deviation = sqrt((p*(1 - p) + z*z / (4*n)) / n)\n",
    "    \n",
    "    return f\"{centre_adjusted_probability:.2f}+-{2*adjusted_standard_deviation:.2f}\""
   ]
  },
  {
   "cell_type": "code",
   "execution_count": 126,
   "metadata": {
    "hidden": true
   },
   "outputs": [
    {
     "data": {
      "text/plain": [
       "'0.73+-0.02'"
      ]
     },
     "metadata": {},
     "output_type": "display_data"
    }
   ],
   "source": [
    "eq = []\n",
    "for i in range(2000):\n",
    "    mh_equality = get_mh(pair)\n",
    "    eq.append(mh_equality[0] == mh_equality[1])\n",
    "display(wilson(np.sum(eq)/len(eq), len(eq)))\n"
   ]
  },
  {
   "cell_type": "markdown",
   "metadata": {
    "hidden": true
   },
   "source": [
    "To construct minhash signatures, we fix N random permutations.\n",
    "Then, the signature for a set would be a list containing the minhashes of the set under the different permutations. "
   ]
  },
  {
   "cell_type": "markdown",
   "metadata": {
    "heading_collapsed": true
   },
   "source": [
    "# 5. Min - okay. Why hash? Minhash in Practice"
   ]
  },
  {
   "cell_type": "markdown",
   "metadata": {
    "hidden": true
   },
   "source": [
    "We've come up with a way to map sets to similarity-preserving signatures. Unfortunately, one of the steps involves calculating permutations of the universe, which is an expensive/slow operation when the universe is large. In practice, instead of permuting the universe and finding the minumum present element, we use a **hash function and pretend like it's giving us an ordering**.\n",
    "\n",
    "Let's consider the function f(x) = 5 * x + 7 mod 17. In that case, for the set {A, B, D} we would get:\n",
    "<table>\n",
    "    <thead>\n",
    "      <tr> <td>Element</td> <td>Original index</td> <td> 5x+7 mod 17 </td></tr>\n",
    "    </thead>\n",
    "    <tbody  >\n",
    "        <tr><td>A</td><td>0</td><td>7</td></tr>\n",
    "        <tr><td>B</td><td>1</td><td>12</td></tr>\n",
    "        <tr><td>D</td><td>3</td><td style=\"background-color:gold\">5</td></tr>\n",
    "    </tbody>\n",
    "</table>\n",
    "\n",
    "In this case, the minhash for the set {A,B,D} would be **D** because it receives the minumal value of the hash function.\n",
    "\n",
    "To sum up, to generate minhash signatures of documents, the procedure is as follows:\n",
    "\n",
    "1. Map documents to sets (Domain dependent)\n",
    "2. Generate a number of random hash functions\n",
    "3. For each set, for each hash function, compute the hash values of all present elements and find the minimums. These minima make up the minhash signature."
   ]
  },
  {
   "cell_type": "markdown",
   "metadata": {
    "heading_collapsed": true,
    "slideshow": {
     "slide_type": "slide"
    }
   },
   "source": [
    "# 6. Locality Sensitive Hashing"
   ]
  },
  {
   "cell_type": "markdown",
   "metadata": {
    "hidden": true
   },
   "source": [
    "So, we've come up with a way to compare sets based on their *Minhash signature*. However, we still need to do the full $\\frac{n*(n-1)}{2}$ comparisons.    \n",
    "This is where Locality Sensitive Hashing comes into play. Suppose we have minhash signatures of length 12. Then, we can divide each signature into `b` bands of `r` rows, such that `b*r = 12`"
   ]
  },
  {
   "cell_type": "markdown",
   "metadata": {
    "hidden": true
   },
   "source": [
    "This is how it works:\n",
    "1. Divide the signature into bands\n",
    "2. For each band, index the signature based on the hash of a band \n",
    "3. For each band, for each bucket compare only the collisions "
   ]
  },
  {
   "cell_type": "markdown",
   "metadata": {
    "hidden": true
   },
   "source": [
    "<table>\n",
    "    <tbody>\n",
    "        <tr> <td> Doc 1 <td style=\"border-left:2px solid black;background-color: lightgreen\"> 12 </td> <td style=\"background-color: lightgreen\"> 15</td> <td style=\"background-color: lightgreen\"> 7</td> <td style=\"border-right:2px solid black;background-color:lightgreen\"> 21 </td> <td style=\"background-color:darkorange\"> 78 </td> <td style=\"background-color:darkorange\"> 66 </td> <td style=\"background-color:darkorange\"> 51 </td> <td style=\"background-color:darkorange; border-right:2px solid black;\"> 43 </td> <td style=\"background-color:violet\"> 113 </td> <td style=\"background-color:violet\"> 41 </td> <td style=\"background-color:violet\"> 16 </td> <td style=\"background-color:violet;border-right:2px solid black;\"> 2 </td>  </tr>\n",
    "        <tr> <td> Doc 2 <td style=\"border-left:2px solid black;background-color: lightgreen\"> 12 </td> <td style=\"background-color: lightgreen\"> 15</td> <td style=\"background-color: lightgreen\"> 7</td> <td style=\"border-right:2px solid black;background-color:lightgreen\"> 21 </td> <td style=\"background-color:darkorange\"> 78 </td> <td style=\"background-color:darkorange\"> 66 </td> <td style=\"background-color:darkorange\"> 51 </td> <td style=\"background-color:darkorange; border-right:2px solid black;\"> 54 </td> <td style=\"background-color:violet\"> 113 </td> <td style=\"background-color:violet\"> 17 </td> <td style=\"background-color:violet\"> 16 </td> <td style=\"background-color:violet;border-right:2px solid black;\"> 2 </td>  </tr>\n",
    "        <tr> <td> Doc 3 <td style=\"border-left:2px solid black;background-color: lightgreen\"> 12 </td> <td style=\"background-color: lightgreen\"> 15</td> <td style=\"background-color: lightgreen\"> 7</td> <td style=\"border-right:2px solid black;background-color:lightgreen\"> 18 </td> <td style=\"background-color:darkorange\"> 21 </td> <td style=\"background-color:darkorange\"> 14 </td> <td style=\"background-color:darkorange\"> 48 </td> <td style=\"background-color:darkorange; border-right:2px solid black;\"> 25 </td> <td style=\"background-color:violet\"> 113 </td> <td style=\"background-color:violet\"> 42 </td> <td style=\"background-color:violet\"> 8 </td> <td style=\"background-color:violet;border-right:2px solid black;\"> 16 </td>  </tr>\n",
    "    </tbody>\n",
    "    <caption align=\"bottom\"> Splitting signatures with N=12 into b=3 bands of r=4 entries </caption>\n",
    "</table>"
   ]
  },
  {
   "cell_type": "markdown",
   "metadata": {
    "hidden": true
   },
   "source": [
    "<div style=\"display:flex;\">\n",
    "    \n",
    "<table style=\"margin-top:12px;\">\n",
    "    <caption>Band 1 hashes</caption>\n",
    "    <tbody>\n",
    "        <tr> <td style=\"background-color:lightgreen\">(12, 15, 7, 21) </td> <td> Doc 1, Doc 2 </td> </tr>\n",
    "        <tr> <td style=\"background-color:lightgreen\">(12, 15, 7, 18) </td> <td> Doc 3 </td> </tr>\n",
    "    </tbody>\n",
    "</table> \n",
    "<table >\n",
    "    <caption>Band 2 hashes</caption>\n",
    "    <tbody>\n",
    "        <tr> <td style=\"background-color:darkorange\">(78, 66, 51, 43) </td> <td> Doc 1</td> </tr>\n",
    "        <tr> <td style=\"background-color:darkorange\">(78, 66, 51, 54) </td> <td> Doc 2</td> </tr>\n",
    "        <tr> <td style=\"background-color:darkorange\">(21, 14, 48, 25) </td> <td> Doc 3</td> </tr>\n",
    "    </tbody>\n",
    "</table> \n",
    "<table > \n",
    "    <caption>Band 3 hashes</caption>\n",
    "    <tbody>\n",
    "        <tr> <td style=\"background-color:violet\">(113, 41, 16, 2) </td> <td> Doc 1 </td> </tr>\n",
    "        <tr> <td style=\"background-color:violet\">(113, 17, 16, 2) </td> <td> Doc 2 </td> </tr>\n",
    "        <tr> <td style=\"background-color:violet\">(113, 42, 8, 16) </td> <td> Doc 3 </td> </tr>\n",
    "    </tbody>\n",
    "</table> </div>"
   ]
  },
  {
   "cell_type": "markdown",
   "metadata": {
    "heading_collapsed": true
   },
   "source": [
    "# 7. Selecting the band width for LSH"
   ]
  },
  {
   "cell_type": "markdown",
   "metadata": {
    "hidden": true
   },
   "source": [
    "Choosing the band width is quite important: it has repercurssions in precision, recall and even performance.\n",
    "Let's see what is the relationhip between the jaccard similarity $s$ of two documents with $b$ bands and $r$ entries in each band.\n",
    "\n",
    "1. The probability that the signatures agree in all entries of one particular band is $s^r$\n",
    "2. The probability that the signatures disagree in at least one row of a particular band is $1 − s^r$\n",
    "3. The probability that the signatures disagree in at least one row of each of the bands is $(1 − s^r)^b$\n",
    "4. The probability that the signatures agree in all the rows of at least one band, and therefore become a candidate pair, is $$1 − (1 − s^r)^b$$\n"
   ]
  },
  {
   "cell_type": "code",
   "execution_count": 127,
   "metadata": {
    "hidden": true
   },
   "outputs": [],
   "source": [
    "from ipywidgets import interact, interactive, fixed, interact_manual\n",
    "import ipywidgets as widgets\n",
    "import matplotlib.pyplot as plt\n",
    "%matplotlib inline\n",
    "import seaborn as sns\n",
    "sns.set('talk')\n",
    "sns.set_style('whitegrid')"
   ]
  },
  {
   "cell_type": "code",
   "execution_count": 128,
   "metadata": {
    "hidden": true
   },
   "outputs": [
    {
     "data": {
      "application/vnd.jupyter.widget-view+json": {
       "model_id": "0918363861454ec1ac7965c719c906fb",
       "version_major": 2,
       "version_minor": 0
      },
      "text/plain": [
       "interactive(children=(IntSlider(value=13, description='r', max=25, min=1), Output()), _dom_classes=('widget-in…"
      ]
     },
     "metadata": {},
     "output_type": "display_data"
    }
   ],
   "source": [
    "@interact(r=(1, 25,1))\n",
    "def probability_of_match(r):\n",
    "    b = 100 // r\n",
    "    xs = np.arange(0, 1, 0.001)\n",
    "    ys = 1 - (1 - xs**r) ** b\n",
    "    fig, ax = plt.subplots(figsize=(12,6))\n",
    "    sns.despine(fig)\n",
    "    ax.set_ylabel('Probability of Collision', size=18)\n",
    "    ax.set_xlabel('Jaccard Similarity', size = 18)\n",
    "    #ax.plot(xs, ys, 'bo-', lw=4, markevery=[800]);\n",
    "    ax.annotate(f\"{ys[800]:.2f}\", (xs[800], ys[800]), textcoords=\"offset points\", xytext=(-50,0),c='b', weight='bold')\n",
    "    ax.set_title(\"You must find the right balance between band width and \\n number of bands\", loc='left', pad=15)\n",
    "    ax.fill_between(xs[:801], ys[:801], facecolor='darkorange', lw=4);\n",
    "    ax.fill_between(xs[800:].tolist(),ys[800:].tolist(), facecolor='b', lw=4);"
   ]
  },
  {
   "cell_type": "markdown",
   "metadata": {
    "heading_collapsed": true
   },
   "source": [
    "# Additional Resources\n",
    "\n",
    "1. [Mining of Massive Datasets Chapter 3](http://www.mmds.org/)\n",
    "2. [Reformer - The Efficient Transformer](http://ai.googleblog.com/2020/01/reformer-efficient-transformer.html)\n",
    "3. [Datasketch](http://ekzhu.com/datasketch/lsh.html)\n",
    "4. [Spark Minhash LSH](https://spark.apache.org/docs/2.1.0/ml-features.html#minhash-for-jaccard-distance)"
   ]
  }
 ],
 "metadata": {
  "kernelspec": {
   "display_name": "Python 3",
   "language": "python",
   "name": "python3"
  },
  "language_info": {
   "codemirror_mode": {
    "name": "ipython",
    "version": 3
   },
   "file_extension": ".py",
   "mimetype": "text/x-python",
   "name": "python",
   "nbconvert_exporter": "python",
   "pygments_lexer": "ipython3",
   "version": "3.6.9"
  },
  "varInspector": {
   "cols": {
    "lenName": 16,
    "lenType": 16,
    "lenVar": 40
   },
   "kernels_config": {
    "python": {
     "delete_cmd_postfix": "",
     "delete_cmd_prefix": "del ",
     "library": "var_list.py",
     "varRefreshCmd": "print(var_dic_list())"
    },
    "r": {
     "delete_cmd_postfix": ") ",
     "delete_cmd_prefix": "rm(",
     "library": "var_list.r",
     "varRefreshCmd": "cat(var_dic_list()) "
    }
   },
   "types_to_exclude": [
    "module",
    "function",
    "builtin_function_or_method",
    "instance",
    "_Feature"
   ],
   "window_display": false
  }
 },
 "nbformat": 4,
 "nbformat_minor": 4
}
