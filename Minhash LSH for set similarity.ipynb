{
 "cells": [
  {
   "cell_type": "markdown",
   "metadata": {
    "heading_collapsed": true,
    "slideshow": {
     "slide_type": "slide"
    }
   },
   "source": [
    "# Minhash LSH for Set Similarity"
   ]
  },
  {
   "cell_type": "markdown",
   "metadata": {
    "hidden": true,
    "slideshow": {
     "slide_type": "fragment"
    }
   },
   "source": [
    "The Minhash-LSH algorithm is very suitable for finding duplicates in an efficient manner. This notebook will outline the main concepts and considerations related to the algorithm.\n",
    "\n",
    ">The method relies\n",
    "on the notion of locality-sensitive hash functions. Intuitively, a hash function is locality-sensitive if\n",
    "its probability of collision is higher for “nearby” points than for points that are “far apart”   \n",
    ">-- <A href=\"https://arxiv.org/abs/1509.02897\"><cite>Andoni et al, Practical and Optimal LSH for Angular Distance</cite></A>"
   ]
  },
  {
   "cell_type": "markdown",
   "metadata": {
    "heading_collapsed": true,
    "slideshow": {
     "slide_type": "slide"
    }
   },
   "source": [
    "# Imports"
   ]
  },
  {
   "cell_type": "code",
   "execution_count": 1,
   "metadata": {
    "hidden": true,
    "slideshow": {
     "slide_type": "skip"
    }
   },
   "outputs": [
    {
     "data": {
      "text/html": [
       "<style>.container { width:90% !important; }</style>"
      ],
      "text/plain": [
       "<IPython.core.display.HTML object>"
      ]
     },
     "metadata": {},
     "output_type": "display_data"
    }
   ],
   "source": [
    "import pandas as pd\n",
    "import numpy as np\n",
    "from IPython.core.display import display, HTML\n",
    "display(HTML(\"<style>.container { width:90% !important; }</style>\"))"
   ]
  },
  {
   "cell_type": "markdown",
   "metadata": {
    "heading_collapsed": true,
    "slideshow": {
     "slide_type": "slide"
    }
   },
   "source": [
    "# 1. Representing sets via their Characteristic matrix"
   ]
  },
  {
   "cell_type": "markdown",
   "metadata": {
    "hidden": true,
    "slideshow": {
     "slide_type": "subslide"
    }
   },
   "source": [
    "For our running examples, let's use the universe of the first 15 english letters: A-P.\n",
    "\n",
    "The characteristic matrix of a set is a binary representation where the elements of the universe are enumerated and each set has a `0` for missing elements and a `1` for present elements. E.g. the set {A,B,D} would be \n",
    "\n",
    "<table> \n",
    "    <tr> <td> A </td> <td style=\"background-color: gold\"> 1 </tr>\n",
    "    <tr> <td> B </td> <td style=\"background-color: gold\"> 1 </tr>\n",
    "    <tr> <td> C </td> <td> 0 </tr>\n",
    "    <tr> <td> D </td> <td style=\"background-color: gold\"> 1 </tr>\n",
    "    <tr> <td> E </td> <td> 0 </tr>\n",
    "    <tr> <td> F </td> <td> ... </tr>\n",
    "</table>"
   ]
  },
  {
   "cell_type": "code",
   "execution_count": 2,
   "metadata": {
    "hidden": true,
    "slideshow": {
     "slide_type": "subslide"
    }
   },
   "outputs": [
    {
     "data": {
      "text/plain": [
       "['A',\n",
       " 'B',\n",
       " 'C',\n",
       " 'D',\n",
       " 'E',\n",
       " 'F',\n",
       " 'G',\n",
       " 'H',\n",
       " 'I',\n",
       " 'J',\n",
       " 'K',\n",
       " 'L',\n",
       " 'M',\n",
       " 'N',\n",
       " 'O',\n",
       " 'P']"
      ]
     },
     "execution_count": 2,
     "metadata": {},
     "output_type": "execute_result"
    }
   ],
   "source": [
    "UNIVERSE = list(\"ABCDEFGHIJKLMNOP\")\n",
    "UNIVERSE"
   ]
  },
  {
   "cell_type": "markdown",
   "metadata": {
    "hidden": true
   },
   "source": [
    "Let's sample some sets:"
   ]
  },
  {
   "cell_type": "code",
   "execution_count": 3,
   "metadata": {
    "hidden": true
   },
   "outputs": [
    {
     "data": {
      "text/html": [
       "<style  type=\"text/css\" >\n",
       "    #T_014aa236_35fb_11ea_95b0_dcfb48536b8crow0_col0 {\n",
       "            background-color:  gold;\n",
       "        }    #T_014aa236_35fb_11ea_95b0_dcfb48536b8crow1_col0 {\n",
       "            background-color:  white;\n",
       "        }    #T_014aa236_35fb_11ea_95b0_dcfb48536b8crow2_col0 {\n",
       "            background-color:  white;\n",
       "        }    #T_014aa236_35fb_11ea_95b0_dcfb48536b8crow3_col0 {\n",
       "            background-color:  white;\n",
       "        }    #T_014aa236_35fb_11ea_95b0_dcfb48536b8crow4_col0 {\n",
       "            background-color:  white;\n",
       "        }    #T_014aa236_35fb_11ea_95b0_dcfb48536b8crow5_col0 {\n",
       "            background-color:  gold;\n",
       "        }    #T_014aa236_35fb_11ea_95b0_dcfb48536b8crow6_col0 {\n",
       "            background-color:  white;\n",
       "        }    #T_014aa236_35fb_11ea_95b0_dcfb48536b8crow7_col0 {\n",
       "            background-color:  gold;\n",
       "        }    #T_014aa236_35fb_11ea_95b0_dcfb48536b8crow8_col0 {\n",
       "            background-color:  gold;\n",
       "        }    #T_014aa236_35fb_11ea_95b0_dcfb48536b8crow9_col0 {\n",
       "            background-color:  white;\n",
       "        }    #T_014aa236_35fb_11ea_95b0_dcfb48536b8crow10_col0 {\n",
       "            background-color:  white;\n",
       "        }    #T_014aa236_35fb_11ea_95b0_dcfb48536b8crow11_col0 {\n",
       "            background-color:  gold;\n",
       "        }    #T_014aa236_35fb_11ea_95b0_dcfb48536b8crow12_col0 {\n",
       "            background-color:  gold;\n",
       "        }    #T_014aa236_35fb_11ea_95b0_dcfb48536b8crow13_col0 {\n",
       "            background-color:  white;\n",
       "        }    #T_014aa236_35fb_11ea_95b0_dcfb48536b8crow14_col0 {\n",
       "            background-color:  gold;\n",
       "        }    #T_014aa236_35fb_11ea_95b0_dcfb48536b8crow15_col0 {\n",
       "            background-color:  white;\n",
       "        }</style><table id=\"T_014aa236_35fb_11ea_95b0_dcfb48536b8c\" ><thead>    <tr>        <th class=\"blank level0\" ></th>        <th class=\"col_heading level0 col0\" ></th>    </tr></thead><tbody>\n",
       "                <tr>\n",
       "                        <th id=\"T_014aa236_35fb_11ea_95b0_dcfb48536b8clevel0_row0\" class=\"row_heading level0 row0\" >A</th>\n",
       "                        <td id=\"T_014aa236_35fb_11ea_95b0_dcfb48536b8crow0_col0\" class=\"data row0 col0\" >1</td>\n",
       "            </tr>\n",
       "            <tr>\n",
       "                        <th id=\"T_014aa236_35fb_11ea_95b0_dcfb48536b8clevel0_row1\" class=\"row_heading level0 row1\" >B</th>\n",
       "                        <td id=\"T_014aa236_35fb_11ea_95b0_dcfb48536b8crow1_col0\" class=\"data row1 col0\" >0</td>\n",
       "            </tr>\n",
       "            <tr>\n",
       "                        <th id=\"T_014aa236_35fb_11ea_95b0_dcfb48536b8clevel0_row2\" class=\"row_heading level0 row2\" >C</th>\n",
       "                        <td id=\"T_014aa236_35fb_11ea_95b0_dcfb48536b8crow2_col0\" class=\"data row2 col0\" >0</td>\n",
       "            </tr>\n",
       "            <tr>\n",
       "                        <th id=\"T_014aa236_35fb_11ea_95b0_dcfb48536b8clevel0_row3\" class=\"row_heading level0 row3\" >D</th>\n",
       "                        <td id=\"T_014aa236_35fb_11ea_95b0_dcfb48536b8crow3_col0\" class=\"data row3 col0\" >0</td>\n",
       "            </tr>\n",
       "            <tr>\n",
       "                        <th id=\"T_014aa236_35fb_11ea_95b0_dcfb48536b8clevel0_row4\" class=\"row_heading level0 row4\" >E</th>\n",
       "                        <td id=\"T_014aa236_35fb_11ea_95b0_dcfb48536b8crow4_col0\" class=\"data row4 col0\" >0</td>\n",
       "            </tr>\n",
       "            <tr>\n",
       "                        <th id=\"T_014aa236_35fb_11ea_95b0_dcfb48536b8clevel0_row5\" class=\"row_heading level0 row5\" >F</th>\n",
       "                        <td id=\"T_014aa236_35fb_11ea_95b0_dcfb48536b8crow5_col0\" class=\"data row5 col0\" >1</td>\n",
       "            </tr>\n",
       "            <tr>\n",
       "                        <th id=\"T_014aa236_35fb_11ea_95b0_dcfb48536b8clevel0_row6\" class=\"row_heading level0 row6\" >G</th>\n",
       "                        <td id=\"T_014aa236_35fb_11ea_95b0_dcfb48536b8crow6_col0\" class=\"data row6 col0\" >0</td>\n",
       "            </tr>\n",
       "            <tr>\n",
       "                        <th id=\"T_014aa236_35fb_11ea_95b0_dcfb48536b8clevel0_row7\" class=\"row_heading level0 row7\" >H</th>\n",
       "                        <td id=\"T_014aa236_35fb_11ea_95b0_dcfb48536b8crow7_col0\" class=\"data row7 col0\" >1</td>\n",
       "            </tr>\n",
       "            <tr>\n",
       "                        <th id=\"T_014aa236_35fb_11ea_95b0_dcfb48536b8clevel0_row8\" class=\"row_heading level0 row8\" >I</th>\n",
       "                        <td id=\"T_014aa236_35fb_11ea_95b0_dcfb48536b8crow8_col0\" class=\"data row8 col0\" >1</td>\n",
       "            </tr>\n",
       "            <tr>\n",
       "                        <th id=\"T_014aa236_35fb_11ea_95b0_dcfb48536b8clevel0_row9\" class=\"row_heading level0 row9\" >J</th>\n",
       "                        <td id=\"T_014aa236_35fb_11ea_95b0_dcfb48536b8crow9_col0\" class=\"data row9 col0\" >0</td>\n",
       "            </tr>\n",
       "            <tr>\n",
       "                        <th id=\"T_014aa236_35fb_11ea_95b0_dcfb48536b8clevel0_row10\" class=\"row_heading level0 row10\" >K</th>\n",
       "                        <td id=\"T_014aa236_35fb_11ea_95b0_dcfb48536b8crow10_col0\" class=\"data row10 col0\" >0</td>\n",
       "            </tr>\n",
       "            <tr>\n",
       "                        <th id=\"T_014aa236_35fb_11ea_95b0_dcfb48536b8clevel0_row11\" class=\"row_heading level0 row11\" >L</th>\n",
       "                        <td id=\"T_014aa236_35fb_11ea_95b0_dcfb48536b8crow11_col0\" class=\"data row11 col0\" >1</td>\n",
       "            </tr>\n",
       "            <tr>\n",
       "                        <th id=\"T_014aa236_35fb_11ea_95b0_dcfb48536b8clevel0_row12\" class=\"row_heading level0 row12\" >M</th>\n",
       "                        <td id=\"T_014aa236_35fb_11ea_95b0_dcfb48536b8crow12_col0\" class=\"data row12 col0\" >1</td>\n",
       "            </tr>\n",
       "            <tr>\n",
       "                        <th id=\"T_014aa236_35fb_11ea_95b0_dcfb48536b8clevel0_row13\" class=\"row_heading level0 row13\" >N</th>\n",
       "                        <td id=\"T_014aa236_35fb_11ea_95b0_dcfb48536b8crow13_col0\" class=\"data row13 col0\" >0</td>\n",
       "            </tr>\n",
       "            <tr>\n",
       "                        <th id=\"T_014aa236_35fb_11ea_95b0_dcfb48536b8clevel0_row14\" class=\"row_heading level0 row14\" >O</th>\n",
       "                        <td id=\"T_014aa236_35fb_11ea_95b0_dcfb48536b8crow14_col0\" class=\"data row14 col0\" >1</td>\n",
       "            </tr>\n",
       "            <tr>\n",
       "                        <th id=\"T_014aa236_35fb_11ea_95b0_dcfb48536b8clevel0_row15\" class=\"row_heading level0 row15\" >P</th>\n",
       "                        <td id=\"T_014aa236_35fb_11ea_95b0_dcfb48536b8crow15_col0\" class=\"data row15 col0\" >0</td>\n",
       "            </tr>\n",
       "    </tbody></table>"
      ],
      "text/plain": [
       "<pandas.io.formats.style.Styler at 0x7f7a6d128eb8>"
      ]
     },
     "metadata": {},
     "output_type": "display_data"
    }
   ],
   "source": [
    "def sample_set():\n",
    "    \"\"\"\n",
    "    Samples a random set from the universe.\n",
    "    \"\"\"\n",
    "    return pd.DataFrame(np.random.randint(0, 2, size=len(UNIVERSE)), index=UNIVERSE, columns=[\"\"])\n",
    "\n",
    "def pp_set(s):\n",
    "    \"\"\"\n",
    "    Pretty prints sets - highlights the present elements\n",
    "    \"\"\"\n",
    "    def highlight_ones(x):\n",
    "        return f\"background-color: {'gold' if x==1 else 'white'}\"\n",
    "    display(s.style.applymap(highlight_ones))\n",
    "s = sample_set()\n",
    "pp_set(sample_set())"
   ]
  },
  {
   "cell_type": "markdown",
   "metadata": {
    "heading_collapsed": true,
    "slideshow": {
     "slide_type": "slide"
    }
   },
   "source": [
    "# 2. Jaccard Similarity"
   ]
  },
  {
   "cell_type": "markdown",
   "metadata": {
    "hidden": true,
    "slideshow": {
     "slide_type": "slide"
    }
   },
   "source": [
    "The Jaccard Similarity of a pair of sets is defined as:\n",
    "\n",
    "$$ jac\\_sim(A,B) = \\frac{|A\\cap B|}{|A \\cup B|}$$\n",
    "\n",
    "Examples:\n",
    "\n",
    "$$ jac\\_sim(\\{A,B,C\\}, \\{A,B,D\\}) = \\frac{1}{2}$$\n",
    "$$ jac\\_sim(\\{A,C\\}, \\{A,B,D\\}) = \\frac{1}{4}$$\n",
    "$$ jac\\_sim(\\{C\\}, \\{A,B,D\\}) = \\frac{0}{4}$$\n",
    "$$ jac\\_sim(\\{A,B,C,D\\}, \\{A,B,C,E\\}) = \\frac{3}{5}$$"
   ]
  },
  {
   "cell_type": "markdown",
   "metadata": {
    "heading_collapsed": true,
    "slideshow": {
     "slide_type": "slide"
    }
   },
   "source": [
    "# 3. Minhash"
   ]
  },
  {
   "cell_type": "markdown",
   "metadata": {
    "hidden": true,
    "slideshow": {
     "slide_type": "subslide"
    }
   },
   "source": [
    "The operation to get the minhash of a set:\n",
    "1. Permute the enumeration of the Universe.\n",
    "2. The minhash of a set is the first present element under the new enumeration.\n",
    "\n",
    "Example:\n",
    "\n",
    "Suppose *ABCDEFGHIJKLMNOP* is permuted to *HIDCABJEFKLMNOPG*.\n",
    "Then, {ABD}\n",
    "<table> \n",
    "    <tr> <td> A </td> <td> 1 </tr>\n",
    "    <tr> <td> B </td> <td> 1 </tr>\n",
    "    <tr> <td> C </td> <td> 0 </tr>\n",
    "    <tr> <td> D </td> <td> 1 </tr>\n",
    "    <tr> <td> E </td> <td> 0 </tr>\n",
    "    <tr> <td> F </td> <td> ... </tr>\n",
    "</table>\n",
    "will become \n",
    "<table> \n",
    "    <tr> <td> H </td> <td> 0 </tr>\n",
    "    <tr> <td> I </td> <td> 0 </tr>\n",
    "    <tr> <td style=\"background-color:yellow\"> D </td> <td style=\"background-color:yellow\"> 1 </tr>\n",
    "    <tr> <td> C </td> <td> 0 </tr>\n",
    "    <tr> <td> A </td> <td> 1 </tr>\n",
    "    <tr> <td> B </td> <td> 1 </tr>\n",
    "    <tr> <td> J </td> <td> ... </tr>\n",
    "</table>\n",
    "\n",
    "and so the minhash of ABD under this permutation is `D`."
   ]
  },
  {
   "cell_type": "code",
   "execution_count": 4,
   "metadata": {
    "hidden": true,
    "slideshow": {
     "slide_type": "skip"
    }
   },
   "outputs": [
    {
     "data": {
      "text/html": [
       "<style>\n",
       ".output {\n",
       "    flex-direction: row;\n",
       "}\n",
       "</style>"
      ],
      "text/plain": [
       "<IPython.core.display.HTML object>"
      ]
     },
     "execution_count": 4,
     "metadata": {},
     "output_type": "execute_result"
    }
   ],
   "source": [
    "from IPython.display import display, HTML\n",
    "\n",
    "CSS = \"\"\"\n",
    ".output {\n",
    "    flex-direction: row;\n",
    "}\n",
    "\"\"\"\n",
    "\n",
    "HTML('<style>{}</style>'.format(CSS))"
   ]
  },
  {
   "cell_type": "code",
   "execution_count": 5,
   "metadata": {
    "hidden": true,
    "slideshow": {
     "slide_type": "slide"
    }
   },
   "outputs": [
    {
     "data": {
      "text/html": [
       "<style  type=\"text/css\" >\n",
       "    #T_0342c140_35fb_11ea_95b0_dcfb48536b8crow0_col0 {\n",
       "            background-color:  gold;\n",
       "        }    #T_0342c140_35fb_11ea_95b0_dcfb48536b8crow1_col0 {\n",
       "            background-color:  white;\n",
       "        }    #T_0342c140_35fb_11ea_95b0_dcfb48536b8crow2_col0 {\n",
       "            background-color:  white;\n",
       "        }    #T_0342c140_35fb_11ea_95b0_dcfb48536b8crow3_col0 {\n",
       "            background-color:  white;\n",
       "        }    #T_0342c140_35fb_11ea_95b0_dcfb48536b8crow4_col0 {\n",
       "            background-color:  gold;\n",
       "        }    #T_0342c140_35fb_11ea_95b0_dcfb48536b8crow5_col0 {\n",
       "            background-color:  gold;\n",
       "        }    #T_0342c140_35fb_11ea_95b0_dcfb48536b8crow6_col0 {\n",
       "            background-color:  white;\n",
       "        }    #T_0342c140_35fb_11ea_95b0_dcfb48536b8crow7_col0 {\n",
       "            background-color:  white;\n",
       "        }    #T_0342c140_35fb_11ea_95b0_dcfb48536b8crow8_col0 {\n",
       "            background-color:  gold;\n",
       "        }    #T_0342c140_35fb_11ea_95b0_dcfb48536b8crow9_col0 {\n",
       "            background-color:  gold;\n",
       "        }    #T_0342c140_35fb_11ea_95b0_dcfb48536b8crow10_col0 {\n",
       "            background-color:  white;\n",
       "        }    #T_0342c140_35fb_11ea_95b0_dcfb48536b8crow11_col0 {\n",
       "            background-color:  gold;\n",
       "        }    #T_0342c140_35fb_11ea_95b0_dcfb48536b8crow12_col0 {\n",
       "            background-color:  gold;\n",
       "        }    #T_0342c140_35fb_11ea_95b0_dcfb48536b8crow13_col0 {\n",
       "            background-color:  gold;\n",
       "        }    #T_0342c140_35fb_11ea_95b0_dcfb48536b8crow14_col0 {\n",
       "            background-color:  white;\n",
       "        }    #T_0342c140_35fb_11ea_95b0_dcfb48536b8crow15_col0 {\n",
       "            background-color:  white;\n",
       "        }</style><table id=\"T_0342c140_35fb_11ea_95b0_dcfb48536b8c\" ><thead>    <tr>        <th class=\"blank level0\" ></th>        <th class=\"col_heading level0 col0\" ></th>    </tr></thead><tbody>\n",
       "                <tr>\n",
       "                        <th id=\"T_0342c140_35fb_11ea_95b0_dcfb48536b8clevel0_row0\" class=\"row_heading level0 row0\" >A</th>\n",
       "                        <td id=\"T_0342c140_35fb_11ea_95b0_dcfb48536b8crow0_col0\" class=\"data row0 col0\" >1</td>\n",
       "            </tr>\n",
       "            <tr>\n",
       "                        <th id=\"T_0342c140_35fb_11ea_95b0_dcfb48536b8clevel0_row1\" class=\"row_heading level0 row1\" >B</th>\n",
       "                        <td id=\"T_0342c140_35fb_11ea_95b0_dcfb48536b8crow1_col0\" class=\"data row1 col0\" >0</td>\n",
       "            </tr>\n",
       "            <tr>\n",
       "                        <th id=\"T_0342c140_35fb_11ea_95b0_dcfb48536b8clevel0_row2\" class=\"row_heading level0 row2\" >C</th>\n",
       "                        <td id=\"T_0342c140_35fb_11ea_95b0_dcfb48536b8crow2_col0\" class=\"data row2 col0\" >0</td>\n",
       "            </tr>\n",
       "            <tr>\n",
       "                        <th id=\"T_0342c140_35fb_11ea_95b0_dcfb48536b8clevel0_row3\" class=\"row_heading level0 row3\" >D</th>\n",
       "                        <td id=\"T_0342c140_35fb_11ea_95b0_dcfb48536b8crow3_col0\" class=\"data row3 col0\" >0</td>\n",
       "            </tr>\n",
       "            <tr>\n",
       "                        <th id=\"T_0342c140_35fb_11ea_95b0_dcfb48536b8clevel0_row4\" class=\"row_heading level0 row4\" >E</th>\n",
       "                        <td id=\"T_0342c140_35fb_11ea_95b0_dcfb48536b8crow4_col0\" class=\"data row4 col0\" >1</td>\n",
       "            </tr>\n",
       "            <tr>\n",
       "                        <th id=\"T_0342c140_35fb_11ea_95b0_dcfb48536b8clevel0_row5\" class=\"row_heading level0 row5\" >F</th>\n",
       "                        <td id=\"T_0342c140_35fb_11ea_95b0_dcfb48536b8crow5_col0\" class=\"data row5 col0\" >1</td>\n",
       "            </tr>\n",
       "            <tr>\n",
       "                        <th id=\"T_0342c140_35fb_11ea_95b0_dcfb48536b8clevel0_row6\" class=\"row_heading level0 row6\" >G</th>\n",
       "                        <td id=\"T_0342c140_35fb_11ea_95b0_dcfb48536b8crow6_col0\" class=\"data row6 col0\" >0</td>\n",
       "            </tr>\n",
       "            <tr>\n",
       "                        <th id=\"T_0342c140_35fb_11ea_95b0_dcfb48536b8clevel0_row7\" class=\"row_heading level0 row7\" >H</th>\n",
       "                        <td id=\"T_0342c140_35fb_11ea_95b0_dcfb48536b8crow7_col0\" class=\"data row7 col0\" >0</td>\n",
       "            </tr>\n",
       "            <tr>\n",
       "                        <th id=\"T_0342c140_35fb_11ea_95b0_dcfb48536b8clevel0_row8\" class=\"row_heading level0 row8\" >I</th>\n",
       "                        <td id=\"T_0342c140_35fb_11ea_95b0_dcfb48536b8crow8_col0\" class=\"data row8 col0\" >1</td>\n",
       "            </tr>\n",
       "            <tr>\n",
       "                        <th id=\"T_0342c140_35fb_11ea_95b0_dcfb48536b8clevel0_row9\" class=\"row_heading level0 row9\" >J</th>\n",
       "                        <td id=\"T_0342c140_35fb_11ea_95b0_dcfb48536b8crow9_col0\" class=\"data row9 col0\" >1</td>\n",
       "            </tr>\n",
       "            <tr>\n",
       "                        <th id=\"T_0342c140_35fb_11ea_95b0_dcfb48536b8clevel0_row10\" class=\"row_heading level0 row10\" >K</th>\n",
       "                        <td id=\"T_0342c140_35fb_11ea_95b0_dcfb48536b8crow10_col0\" class=\"data row10 col0\" >0</td>\n",
       "            </tr>\n",
       "            <tr>\n",
       "                        <th id=\"T_0342c140_35fb_11ea_95b0_dcfb48536b8clevel0_row11\" class=\"row_heading level0 row11\" >L</th>\n",
       "                        <td id=\"T_0342c140_35fb_11ea_95b0_dcfb48536b8crow11_col0\" class=\"data row11 col0\" >1</td>\n",
       "            </tr>\n",
       "            <tr>\n",
       "                        <th id=\"T_0342c140_35fb_11ea_95b0_dcfb48536b8clevel0_row12\" class=\"row_heading level0 row12\" >M</th>\n",
       "                        <td id=\"T_0342c140_35fb_11ea_95b0_dcfb48536b8crow12_col0\" class=\"data row12 col0\" >1</td>\n",
       "            </tr>\n",
       "            <tr>\n",
       "                        <th id=\"T_0342c140_35fb_11ea_95b0_dcfb48536b8clevel0_row13\" class=\"row_heading level0 row13\" >N</th>\n",
       "                        <td id=\"T_0342c140_35fb_11ea_95b0_dcfb48536b8crow13_col0\" class=\"data row13 col0\" >1</td>\n",
       "            </tr>\n",
       "            <tr>\n",
       "                        <th id=\"T_0342c140_35fb_11ea_95b0_dcfb48536b8clevel0_row14\" class=\"row_heading level0 row14\" >O</th>\n",
       "                        <td id=\"T_0342c140_35fb_11ea_95b0_dcfb48536b8crow14_col0\" class=\"data row14 col0\" >0</td>\n",
       "            </tr>\n",
       "            <tr>\n",
       "                        <th id=\"T_0342c140_35fb_11ea_95b0_dcfb48536b8clevel0_row15\" class=\"row_heading level0 row15\" >P</th>\n",
       "                        <td id=\"T_0342c140_35fb_11ea_95b0_dcfb48536b8crow15_col0\" class=\"data row15 col0\" >0</td>\n",
       "            </tr>\n",
       "    </tbody></table>"
      ],
      "text/plain": [
       "<pandas.io.formats.style.Styler at 0x7f7a6b868320>"
      ]
     },
     "metadata": {},
     "output_type": "display_data"
    },
    {
     "data": {
      "text/html": [
       "<div style=\"top:50%;position:absolute;  margin: 0;\"> => permute => </div>"
      ],
      "text/plain": [
       "<IPython.core.display.HTML object>"
      ]
     },
     "metadata": {},
     "output_type": "display_data"
    },
    {
     "data": {
      "text/html": [
       "<style  type=\"text/css\" >\n",
       "    #T_0342c141_35fb_11ea_95b0_dcfb48536b8crow0_col0 {\n",
       "            background-color:  gold;\n",
       "        }    #T_0342c141_35fb_11ea_95b0_dcfb48536b8crow1_col0 {\n",
       "            background-color:  gold;\n",
       "        }    #T_0342c141_35fb_11ea_95b0_dcfb48536b8crow2_col0 {\n",
       "            background-color:  gold;\n",
       "        }    #T_0342c141_35fb_11ea_95b0_dcfb48536b8crow3_col0 {\n",
       "            background-color:  white;\n",
       "        }    #T_0342c141_35fb_11ea_95b0_dcfb48536b8crow4_col0 {\n",
       "            background-color:  white;\n",
       "        }    #T_0342c141_35fb_11ea_95b0_dcfb48536b8crow5_col0 {\n",
       "            background-color:  white;\n",
       "        }    #T_0342c141_35fb_11ea_95b0_dcfb48536b8crow6_col0 {\n",
       "            background-color:  white;\n",
       "        }    #T_0342c141_35fb_11ea_95b0_dcfb48536b8crow7_col0 {\n",
       "            background-color:  white;\n",
       "        }    #T_0342c141_35fb_11ea_95b0_dcfb48536b8crow8_col0 {\n",
       "            background-color:  white;\n",
       "        }    #T_0342c141_35fb_11ea_95b0_dcfb48536b8crow9_col0 {\n",
       "            background-color:  white;\n",
       "        }    #T_0342c141_35fb_11ea_95b0_dcfb48536b8crow10_col0 {\n",
       "            background-color:  gold;\n",
       "        }    #T_0342c141_35fb_11ea_95b0_dcfb48536b8crow11_col0 {\n",
       "            background-color:  gold;\n",
       "        }    #T_0342c141_35fb_11ea_95b0_dcfb48536b8crow12_col0 {\n",
       "            background-color:  white;\n",
       "        }    #T_0342c141_35fb_11ea_95b0_dcfb48536b8crow13_col0 {\n",
       "            background-color:  gold;\n",
       "        }    #T_0342c141_35fb_11ea_95b0_dcfb48536b8crow14_col0 {\n",
       "            background-color:  gold;\n",
       "        }    #T_0342c141_35fb_11ea_95b0_dcfb48536b8crow15_col0 {\n",
       "            background-color:  gold;\n",
       "        }</style><table id=\"T_0342c141_35fb_11ea_95b0_dcfb48536b8c\" ><thead>    <tr>        <th class=\"blank level0\" ></th>        <th class=\"col_heading level0 col0\" ></th>    </tr></thead><tbody>\n",
       "                <tr>\n",
       "                        <th id=\"T_0342c141_35fb_11ea_95b0_dcfb48536b8clevel0_row0\" class=\"row_heading level0 row0\" >M</th>\n",
       "                        <td id=\"T_0342c141_35fb_11ea_95b0_dcfb48536b8crow0_col0\" class=\"data row0 col0\" >1</td>\n",
       "            </tr>\n",
       "            <tr>\n",
       "                        <th id=\"T_0342c141_35fb_11ea_95b0_dcfb48536b8clevel0_row1\" class=\"row_heading level0 row1\" >J</th>\n",
       "                        <td id=\"T_0342c141_35fb_11ea_95b0_dcfb48536b8crow1_col0\" class=\"data row1 col0\" >1</td>\n",
       "            </tr>\n",
       "            <tr>\n",
       "                        <th id=\"T_0342c141_35fb_11ea_95b0_dcfb48536b8clevel0_row2\" class=\"row_heading level0 row2\" >E</th>\n",
       "                        <td id=\"T_0342c141_35fb_11ea_95b0_dcfb48536b8crow2_col0\" class=\"data row2 col0\" >1</td>\n",
       "            </tr>\n",
       "            <tr>\n",
       "                        <th id=\"T_0342c141_35fb_11ea_95b0_dcfb48536b8clevel0_row3\" class=\"row_heading level0 row3\" >G</th>\n",
       "                        <td id=\"T_0342c141_35fb_11ea_95b0_dcfb48536b8crow3_col0\" class=\"data row3 col0\" >0</td>\n",
       "            </tr>\n",
       "            <tr>\n",
       "                        <th id=\"T_0342c141_35fb_11ea_95b0_dcfb48536b8clevel0_row4\" class=\"row_heading level0 row4\" >C</th>\n",
       "                        <td id=\"T_0342c141_35fb_11ea_95b0_dcfb48536b8crow4_col0\" class=\"data row4 col0\" >0</td>\n",
       "            </tr>\n",
       "            <tr>\n",
       "                        <th id=\"T_0342c141_35fb_11ea_95b0_dcfb48536b8clevel0_row5\" class=\"row_heading level0 row5\" >B</th>\n",
       "                        <td id=\"T_0342c141_35fb_11ea_95b0_dcfb48536b8crow5_col0\" class=\"data row5 col0\" >0</td>\n",
       "            </tr>\n",
       "            <tr>\n",
       "                        <th id=\"T_0342c141_35fb_11ea_95b0_dcfb48536b8clevel0_row6\" class=\"row_heading level0 row6\" >P</th>\n",
       "                        <td id=\"T_0342c141_35fb_11ea_95b0_dcfb48536b8crow6_col0\" class=\"data row6 col0\" >0</td>\n",
       "            </tr>\n",
       "            <tr>\n",
       "                        <th id=\"T_0342c141_35fb_11ea_95b0_dcfb48536b8clevel0_row7\" class=\"row_heading level0 row7\" >K</th>\n",
       "                        <td id=\"T_0342c141_35fb_11ea_95b0_dcfb48536b8crow7_col0\" class=\"data row7 col0\" >0</td>\n",
       "            </tr>\n",
       "            <tr>\n",
       "                        <th id=\"T_0342c141_35fb_11ea_95b0_dcfb48536b8clevel0_row8\" class=\"row_heading level0 row8\" >H</th>\n",
       "                        <td id=\"T_0342c141_35fb_11ea_95b0_dcfb48536b8crow8_col0\" class=\"data row8 col0\" >0</td>\n",
       "            </tr>\n",
       "            <tr>\n",
       "                        <th id=\"T_0342c141_35fb_11ea_95b0_dcfb48536b8clevel0_row9\" class=\"row_heading level0 row9\" >O</th>\n",
       "                        <td id=\"T_0342c141_35fb_11ea_95b0_dcfb48536b8crow9_col0\" class=\"data row9 col0\" >0</td>\n",
       "            </tr>\n",
       "            <tr>\n",
       "                        <th id=\"T_0342c141_35fb_11ea_95b0_dcfb48536b8clevel0_row10\" class=\"row_heading level0 row10\" >A</th>\n",
       "                        <td id=\"T_0342c141_35fb_11ea_95b0_dcfb48536b8crow10_col0\" class=\"data row10 col0\" >1</td>\n",
       "            </tr>\n",
       "            <tr>\n",
       "                        <th id=\"T_0342c141_35fb_11ea_95b0_dcfb48536b8clevel0_row11\" class=\"row_heading level0 row11\" >F</th>\n",
       "                        <td id=\"T_0342c141_35fb_11ea_95b0_dcfb48536b8crow11_col0\" class=\"data row11 col0\" >1</td>\n",
       "            </tr>\n",
       "            <tr>\n",
       "                        <th id=\"T_0342c141_35fb_11ea_95b0_dcfb48536b8clevel0_row12\" class=\"row_heading level0 row12\" >D</th>\n",
       "                        <td id=\"T_0342c141_35fb_11ea_95b0_dcfb48536b8crow12_col0\" class=\"data row12 col0\" >0</td>\n",
       "            </tr>\n",
       "            <tr>\n",
       "                        <th id=\"T_0342c141_35fb_11ea_95b0_dcfb48536b8clevel0_row13\" class=\"row_heading level0 row13\" >I</th>\n",
       "                        <td id=\"T_0342c141_35fb_11ea_95b0_dcfb48536b8crow13_col0\" class=\"data row13 col0\" >1</td>\n",
       "            </tr>\n",
       "            <tr>\n",
       "                        <th id=\"T_0342c141_35fb_11ea_95b0_dcfb48536b8clevel0_row14\" class=\"row_heading level0 row14\" >L</th>\n",
       "                        <td id=\"T_0342c141_35fb_11ea_95b0_dcfb48536b8crow14_col0\" class=\"data row14 col0\" >1</td>\n",
       "            </tr>\n",
       "            <tr>\n",
       "                        <th id=\"T_0342c141_35fb_11ea_95b0_dcfb48536b8clevel0_row15\" class=\"row_heading level0 row15\" >N</th>\n",
       "                        <td id=\"T_0342c141_35fb_11ea_95b0_dcfb48536b8crow15_col0\" class=\"data row15 col0\" >1</td>\n",
       "            </tr>\n",
       "    </tbody></table>"
      ],
      "text/plain": [
       "<pandas.io.formats.style.Styler at 0x7f7a6b868438>"
      ]
     },
     "metadata": {},
     "output_type": "display_data"
    },
    {
     "data": {
      "text/html": [
       "<div style=\"top:50%;position:absolute;  margin: 0;\"> => minhash =></div>"
      ],
      "text/plain": [
       "<IPython.core.display.HTML object>"
      ]
     },
     "metadata": {},
     "output_type": "display_data"
    },
    {
     "data": {
      "text/html": [
       "<style  type=\"text/css\" >\n",
       "    #T_0342c142_35fb_11ea_95b0_dcfb48536b8crow0_col0 {\n",
       "            background-color: gold;\n",
       "        }    #T_0342c142_35fb_11ea_95b0_dcfb48536b8crow1_col0 {\n",
       "            background-color: white;\n",
       "        }    #T_0342c142_35fb_11ea_95b0_dcfb48536b8crow2_col0 {\n",
       "            background-color: white;\n",
       "        }    #T_0342c142_35fb_11ea_95b0_dcfb48536b8crow3_col0 {\n",
       "            background-color: white;\n",
       "        }    #T_0342c142_35fb_11ea_95b0_dcfb48536b8crow4_col0 {\n",
       "            background-color: white;\n",
       "        }    #T_0342c142_35fb_11ea_95b0_dcfb48536b8crow5_col0 {\n",
       "            background-color: white;\n",
       "        }    #T_0342c142_35fb_11ea_95b0_dcfb48536b8crow6_col0 {\n",
       "            background-color: white;\n",
       "        }    #T_0342c142_35fb_11ea_95b0_dcfb48536b8crow7_col0 {\n",
       "            background-color: white;\n",
       "        }    #T_0342c142_35fb_11ea_95b0_dcfb48536b8crow8_col0 {\n",
       "            background-color: white;\n",
       "        }    #T_0342c142_35fb_11ea_95b0_dcfb48536b8crow9_col0 {\n",
       "            background-color: white;\n",
       "        }    #T_0342c142_35fb_11ea_95b0_dcfb48536b8crow10_col0 {\n",
       "            background-color: white;\n",
       "        }    #T_0342c142_35fb_11ea_95b0_dcfb48536b8crow11_col0 {\n",
       "            background-color: white;\n",
       "        }    #T_0342c142_35fb_11ea_95b0_dcfb48536b8crow12_col0 {\n",
       "            background-color: white;\n",
       "        }    #T_0342c142_35fb_11ea_95b0_dcfb48536b8crow13_col0 {\n",
       "            background-color: white;\n",
       "        }    #T_0342c142_35fb_11ea_95b0_dcfb48536b8crow14_col0 {\n",
       "            background-color: white;\n",
       "        }    #T_0342c142_35fb_11ea_95b0_dcfb48536b8crow15_col0 {\n",
       "            background-color: white;\n",
       "        }</style><table id=\"T_0342c142_35fb_11ea_95b0_dcfb48536b8c\" ><thead>    <tr>        <th class=\"blank level0\" ></th>        <th class=\"col_heading level0 col0\" ></th>    </tr></thead><tbody>\n",
       "                <tr>\n",
       "                        <th id=\"T_0342c142_35fb_11ea_95b0_dcfb48536b8clevel0_row0\" class=\"row_heading level0 row0\" >M</th>\n",
       "                        <td id=\"T_0342c142_35fb_11ea_95b0_dcfb48536b8crow0_col0\" class=\"data row0 col0\" >1</td>\n",
       "            </tr>\n",
       "            <tr>\n",
       "                        <th id=\"T_0342c142_35fb_11ea_95b0_dcfb48536b8clevel0_row1\" class=\"row_heading level0 row1\" >J</th>\n",
       "                        <td id=\"T_0342c142_35fb_11ea_95b0_dcfb48536b8crow1_col0\" class=\"data row1 col0\" >1</td>\n",
       "            </tr>\n",
       "            <tr>\n",
       "                        <th id=\"T_0342c142_35fb_11ea_95b0_dcfb48536b8clevel0_row2\" class=\"row_heading level0 row2\" >E</th>\n",
       "                        <td id=\"T_0342c142_35fb_11ea_95b0_dcfb48536b8crow2_col0\" class=\"data row2 col0\" >1</td>\n",
       "            </tr>\n",
       "            <tr>\n",
       "                        <th id=\"T_0342c142_35fb_11ea_95b0_dcfb48536b8clevel0_row3\" class=\"row_heading level0 row3\" >G</th>\n",
       "                        <td id=\"T_0342c142_35fb_11ea_95b0_dcfb48536b8crow3_col0\" class=\"data row3 col0\" >0</td>\n",
       "            </tr>\n",
       "            <tr>\n",
       "                        <th id=\"T_0342c142_35fb_11ea_95b0_dcfb48536b8clevel0_row4\" class=\"row_heading level0 row4\" >C</th>\n",
       "                        <td id=\"T_0342c142_35fb_11ea_95b0_dcfb48536b8crow4_col0\" class=\"data row4 col0\" >0</td>\n",
       "            </tr>\n",
       "            <tr>\n",
       "                        <th id=\"T_0342c142_35fb_11ea_95b0_dcfb48536b8clevel0_row5\" class=\"row_heading level0 row5\" >B</th>\n",
       "                        <td id=\"T_0342c142_35fb_11ea_95b0_dcfb48536b8crow5_col0\" class=\"data row5 col0\" >0</td>\n",
       "            </tr>\n",
       "            <tr>\n",
       "                        <th id=\"T_0342c142_35fb_11ea_95b0_dcfb48536b8clevel0_row6\" class=\"row_heading level0 row6\" >P</th>\n",
       "                        <td id=\"T_0342c142_35fb_11ea_95b0_dcfb48536b8crow6_col0\" class=\"data row6 col0\" >0</td>\n",
       "            </tr>\n",
       "            <tr>\n",
       "                        <th id=\"T_0342c142_35fb_11ea_95b0_dcfb48536b8clevel0_row7\" class=\"row_heading level0 row7\" >K</th>\n",
       "                        <td id=\"T_0342c142_35fb_11ea_95b0_dcfb48536b8crow7_col0\" class=\"data row7 col0\" >0</td>\n",
       "            </tr>\n",
       "            <tr>\n",
       "                        <th id=\"T_0342c142_35fb_11ea_95b0_dcfb48536b8clevel0_row8\" class=\"row_heading level0 row8\" >H</th>\n",
       "                        <td id=\"T_0342c142_35fb_11ea_95b0_dcfb48536b8crow8_col0\" class=\"data row8 col0\" >0</td>\n",
       "            </tr>\n",
       "            <tr>\n",
       "                        <th id=\"T_0342c142_35fb_11ea_95b0_dcfb48536b8clevel0_row9\" class=\"row_heading level0 row9\" >O</th>\n",
       "                        <td id=\"T_0342c142_35fb_11ea_95b0_dcfb48536b8crow9_col0\" class=\"data row9 col0\" >0</td>\n",
       "            </tr>\n",
       "            <tr>\n",
       "                        <th id=\"T_0342c142_35fb_11ea_95b0_dcfb48536b8clevel0_row10\" class=\"row_heading level0 row10\" >A</th>\n",
       "                        <td id=\"T_0342c142_35fb_11ea_95b0_dcfb48536b8crow10_col0\" class=\"data row10 col0\" >1</td>\n",
       "            </tr>\n",
       "            <tr>\n",
       "                        <th id=\"T_0342c142_35fb_11ea_95b0_dcfb48536b8clevel0_row11\" class=\"row_heading level0 row11\" >F</th>\n",
       "                        <td id=\"T_0342c142_35fb_11ea_95b0_dcfb48536b8crow11_col0\" class=\"data row11 col0\" >1</td>\n",
       "            </tr>\n",
       "            <tr>\n",
       "                        <th id=\"T_0342c142_35fb_11ea_95b0_dcfb48536b8clevel0_row12\" class=\"row_heading level0 row12\" >D</th>\n",
       "                        <td id=\"T_0342c142_35fb_11ea_95b0_dcfb48536b8crow12_col0\" class=\"data row12 col0\" >0</td>\n",
       "            </tr>\n",
       "            <tr>\n",
       "                        <th id=\"T_0342c142_35fb_11ea_95b0_dcfb48536b8clevel0_row13\" class=\"row_heading level0 row13\" >I</th>\n",
       "                        <td id=\"T_0342c142_35fb_11ea_95b0_dcfb48536b8crow13_col0\" class=\"data row13 col0\" >1</td>\n",
       "            </tr>\n",
       "            <tr>\n",
       "                        <th id=\"T_0342c142_35fb_11ea_95b0_dcfb48536b8clevel0_row14\" class=\"row_heading level0 row14\" >L</th>\n",
       "                        <td id=\"T_0342c142_35fb_11ea_95b0_dcfb48536b8crow14_col0\" class=\"data row14 col0\" >1</td>\n",
       "            </tr>\n",
       "            <tr>\n",
       "                        <th id=\"T_0342c142_35fb_11ea_95b0_dcfb48536b8clevel0_row15\" class=\"row_heading level0 row15\" >N</th>\n",
       "                        <td id=\"T_0342c142_35fb_11ea_95b0_dcfb48536b8crow15_col0\" class=\"data row15 col0\" >1</td>\n",
       "            </tr>\n",
       "    </tbody></table>"
      ],
      "text/plain": [
       "<pandas.io.formats.style.Styler at 0x7f7a6b868400>"
      ]
     },
     "metadata": {},
     "output_type": "display_data"
    }
   ],
   "source": [
    "def permute(s):\n",
    "    return s.reindex(np.random.permutation(s.index))\n",
    "    \n",
    "def pp_minhash(s, permute_set=True):\n",
    "    p = permute(s) if permute_set else s\n",
    "    def find_first(rows):\n",
    "        res = ['background-color:white']  * len(rows)\n",
    "        res[rows.tolist().index(1)] = 'background-color:gold'\n",
    "        return res\n",
    "    display(p.style.apply(find_first, axis=0))\n",
    "\n",
    "pp_set(s)\n",
    "p = permute(s)\n",
    "display(HTML('<div style=\"top:50%;position:absolute;  margin: 0;\"> => permute => </div>'))\n",
    "pp_set(p)\n",
    "display(HTML('<div style=\"top:50%;position:absolute;  margin: 0;\"> => minhash =></div>'))\n",
    "pp_minhash(p, permute_set=False)"
   ]
  },
  {
   "cell_type": "markdown",
   "metadata": {
    "heading_collapsed": true,
    "slideshow": {
     "slide_type": "slide"
    }
   },
   "source": [
    "# 4. Minhash equality probability is Jaccard similarity"
   ]
  },
  {
   "cell_type": "code",
   "execution_count": 56,
   "metadata": {
    "hidden": true,
    "slideshow": {
     "slide_type": "subslide"
    }
   },
   "outputs": [
    {
     "data": {
      "text/html": [
       "<style  type=\"text/css\" >\n",
       "    #T_6ae7af92_35f9_11ea_95b0_dcfb48536b8crow0_col0 {\n",
       "            background-color:  gold;\n",
       "        }    #T_6ae7af92_35f9_11ea_95b0_dcfb48536b8crow0_col1 {\n",
       "            background-color:  white;\n",
       "        }    #T_6ae7af92_35f9_11ea_95b0_dcfb48536b8crow1_col0 {\n",
       "            background-color:  white;\n",
       "        }    #T_6ae7af92_35f9_11ea_95b0_dcfb48536b8crow1_col1 {\n",
       "            background-color:  gold;\n",
       "        }    #T_6ae7af92_35f9_11ea_95b0_dcfb48536b8crow2_col0 {\n",
       "            background-color:  gold;\n",
       "        }    #T_6ae7af92_35f9_11ea_95b0_dcfb48536b8crow2_col1 {\n",
       "            background-color:  gold;\n",
       "        }    #T_6ae7af92_35f9_11ea_95b0_dcfb48536b8crow3_col0 {\n",
       "            background-color:  gold;\n",
       "        }    #T_6ae7af92_35f9_11ea_95b0_dcfb48536b8crow3_col1 {\n",
       "            background-color:  white;\n",
       "        }    #T_6ae7af92_35f9_11ea_95b0_dcfb48536b8crow4_col0 {\n",
       "            background-color:  gold;\n",
       "        }    #T_6ae7af92_35f9_11ea_95b0_dcfb48536b8crow4_col1 {\n",
       "            background-color:  gold;\n",
       "        }    #T_6ae7af92_35f9_11ea_95b0_dcfb48536b8crow5_col0 {\n",
       "            background-color:  white;\n",
       "        }    #T_6ae7af92_35f9_11ea_95b0_dcfb48536b8crow5_col1 {\n",
       "            background-color:  white;\n",
       "        }    #T_6ae7af92_35f9_11ea_95b0_dcfb48536b8crow6_col0 {\n",
       "            background-color:  white;\n",
       "        }    #T_6ae7af92_35f9_11ea_95b0_dcfb48536b8crow6_col1 {\n",
       "            background-color:  white;\n",
       "        }    #T_6ae7af92_35f9_11ea_95b0_dcfb48536b8crow7_col0 {\n",
       "            background-color:  gold;\n",
       "        }    #T_6ae7af92_35f9_11ea_95b0_dcfb48536b8crow7_col1 {\n",
       "            background-color:  gold;\n",
       "        }    #T_6ae7af92_35f9_11ea_95b0_dcfb48536b8crow8_col0 {\n",
       "            background-color:  white;\n",
       "        }    #T_6ae7af92_35f9_11ea_95b0_dcfb48536b8crow8_col1 {\n",
       "            background-color:  white;\n",
       "        }    #T_6ae7af92_35f9_11ea_95b0_dcfb48536b8crow9_col0 {\n",
       "            background-color:  gold;\n",
       "        }    #T_6ae7af92_35f9_11ea_95b0_dcfb48536b8crow9_col1 {\n",
       "            background-color:  gold;\n",
       "        }    #T_6ae7af92_35f9_11ea_95b0_dcfb48536b8crow10_col0 {\n",
       "            background-color:  gold;\n",
       "        }    #T_6ae7af92_35f9_11ea_95b0_dcfb48536b8crow10_col1 {\n",
       "            background-color:  gold;\n",
       "        }    #T_6ae7af92_35f9_11ea_95b0_dcfb48536b8crow11_col0 {\n",
       "            background-color:  white;\n",
       "        }    #T_6ae7af92_35f9_11ea_95b0_dcfb48536b8crow11_col1 {\n",
       "            background-color:  gold;\n",
       "        }    #T_6ae7af92_35f9_11ea_95b0_dcfb48536b8crow12_col0 {\n",
       "            background-color:  gold;\n",
       "        }    #T_6ae7af92_35f9_11ea_95b0_dcfb48536b8crow12_col1 {\n",
       "            background-color:  white;\n",
       "        }    #T_6ae7af92_35f9_11ea_95b0_dcfb48536b8crow13_col0 {\n",
       "            background-color:  white;\n",
       "        }    #T_6ae7af92_35f9_11ea_95b0_dcfb48536b8crow13_col1 {\n",
       "            background-color:  white;\n",
       "        }    #T_6ae7af92_35f9_11ea_95b0_dcfb48536b8crow14_col0 {\n",
       "            background-color:  white;\n",
       "        }    #T_6ae7af92_35f9_11ea_95b0_dcfb48536b8crow14_col1 {\n",
       "            background-color:  white;\n",
       "        }    #T_6ae7af92_35f9_11ea_95b0_dcfb48536b8crow15_col0 {\n",
       "            background-color:  white;\n",
       "        }    #T_6ae7af92_35f9_11ea_95b0_dcfb48536b8crow15_col1 {\n",
       "            background-color:  white;\n",
       "        }</style><table id=\"T_6ae7af92_35f9_11ea_95b0_dcfb48536b8c\" ><thead>    <tr>        <th class=\"blank level0\" ></th>        <th class=\"col_heading level0 col0\" >X</th>        <th class=\"col_heading level0 col1\" >Y</th>    </tr></thead><tbody>\n",
       "                <tr>\n",
       "                        <th id=\"T_6ae7af92_35f9_11ea_95b0_dcfb48536b8clevel0_row0\" class=\"row_heading level0 row0\" >A</th>\n",
       "                        <td id=\"T_6ae7af92_35f9_11ea_95b0_dcfb48536b8crow0_col0\" class=\"data row0 col0\" >1</td>\n",
       "                        <td id=\"T_6ae7af92_35f9_11ea_95b0_dcfb48536b8crow0_col1\" class=\"data row0 col1\" >0</td>\n",
       "            </tr>\n",
       "            <tr>\n",
       "                        <th id=\"T_6ae7af92_35f9_11ea_95b0_dcfb48536b8clevel0_row1\" class=\"row_heading level0 row1\" >B</th>\n",
       "                        <td id=\"T_6ae7af92_35f9_11ea_95b0_dcfb48536b8crow1_col0\" class=\"data row1 col0\" >0</td>\n",
       "                        <td id=\"T_6ae7af92_35f9_11ea_95b0_dcfb48536b8crow1_col1\" class=\"data row1 col1\" >1</td>\n",
       "            </tr>\n",
       "            <tr>\n",
       "                        <th id=\"T_6ae7af92_35f9_11ea_95b0_dcfb48536b8clevel0_row2\" class=\"row_heading level0 row2\" >C</th>\n",
       "                        <td id=\"T_6ae7af92_35f9_11ea_95b0_dcfb48536b8crow2_col0\" class=\"data row2 col0\" >1</td>\n",
       "                        <td id=\"T_6ae7af92_35f9_11ea_95b0_dcfb48536b8crow2_col1\" class=\"data row2 col1\" >1</td>\n",
       "            </tr>\n",
       "            <tr>\n",
       "                        <th id=\"T_6ae7af92_35f9_11ea_95b0_dcfb48536b8clevel0_row3\" class=\"row_heading level0 row3\" >D</th>\n",
       "                        <td id=\"T_6ae7af92_35f9_11ea_95b0_dcfb48536b8crow3_col0\" class=\"data row3 col0\" >1</td>\n",
       "                        <td id=\"T_6ae7af92_35f9_11ea_95b0_dcfb48536b8crow3_col1\" class=\"data row3 col1\" >0</td>\n",
       "            </tr>\n",
       "            <tr>\n",
       "                        <th id=\"T_6ae7af92_35f9_11ea_95b0_dcfb48536b8clevel0_row4\" class=\"row_heading level0 row4\" >E</th>\n",
       "                        <td id=\"T_6ae7af92_35f9_11ea_95b0_dcfb48536b8crow4_col0\" class=\"data row4 col0\" >1</td>\n",
       "                        <td id=\"T_6ae7af92_35f9_11ea_95b0_dcfb48536b8crow4_col1\" class=\"data row4 col1\" >1</td>\n",
       "            </tr>\n",
       "            <tr>\n",
       "                        <th id=\"T_6ae7af92_35f9_11ea_95b0_dcfb48536b8clevel0_row5\" class=\"row_heading level0 row5\" >F</th>\n",
       "                        <td id=\"T_6ae7af92_35f9_11ea_95b0_dcfb48536b8crow5_col0\" class=\"data row5 col0\" >0</td>\n",
       "                        <td id=\"T_6ae7af92_35f9_11ea_95b0_dcfb48536b8crow5_col1\" class=\"data row5 col1\" >0</td>\n",
       "            </tr>\n",
       "            <tr>\n",
       "                        <th id=\"T_6ae7af92_35f9_11ea_95b0_dcfb48536b8clevel0_row6\" class=\"row_heading level0 row6\" >G</th>\n",
       "                        <td id=\"T_6ae7af92_35f9_11ea_95b0_dcfb48536b8crow6_col0\" class=\"data row6 col0\" >0</td>\n",
       "                        <td id=\"T_6ae7af92_35f9_11ea_95b0_dcfb48536b8crow6_col1\" class=\"data row6 col1\" >0</td>\n",
       "            </tr>\n",
       "            <tr>\n",
       "                        <th id=\"T_6ae7af92_35f9_11ea_95b0_dcfb48536b8clevel0_row7\" class=\"row_heading level0 row7\" >H</th>\n",
       "                        <td id=\"T_6ae7af92_35f9_11ea_95b0_dcfb48536b8crow7_col0\" class=\"data row7 col0\" >1</td>\n",
       "                        <td id=\"T_6ae7af92_35f9_11ea_95b0_dcfb48536b8crow7_col1\" class=\"data row7 col1\" >1</td>\n",
       "            </tr>\n",
       "            <tr>\n",
       "                        <th id=\"T_6ae7af92_35f9_11ea_95b0_dcfb48536b8clevel0_row8\" class=\"row_heading level0 row8\" >I</th>\n",
       "                        <td id=\"T_6ae7af92_35f9_11ea_95b0_dcfb48536b8crow8_col0\" class=\"data row8 col0\" >0</td>\n",
       "                        <td id=\"T_6ae7af92_35f9_11ea_95b0_dcfb48536b8crow8_col1\" class=\"data row8 col1\" >0</td>\n",
       "            </tr>\n",
       "            <tr>\n",
       "                        <th id=\"T_6ae7af92_35f9_11ea_95b0_dcfb48536b8clevel0_row9\" class=\"row_heading level0 row9\" >J</th>\n",
       "                        <td id=\"T_6ae7af92_35f9_11ea_95b0_dcfb48536b8crow9_col0\" class=\"data row9 col0\" >1</td>\n",
       "                        <td id=\"T_6ae7af92_35f9_11ea_95b0_dcfb48536b8crow9_col1\" class=\"data row9 col1\" >1</td>\n",
       "            </tr>\n",
       "            <tr>\n",
       "                        <th id=\"T_6ae7af92_35f9_11ea_95b0_dcfb48536b8clevel0_row10\" class=\"row_heading level0 row10\" >K</th>\n",
       "                        <td id=\"T_6ae7af92_35f9_11ea_95b0_dcfb48536b8crow10_col0\" class=\"data row10 col0\" >1</td>\n",
       "                        <td id=\"T_6ae7af92_35f9_11ea_95b0_dcfb48536b8crow10_col1\" class=\"data row10 col1\" >1</td>\n",
       "            </tr>\n",
       "            <tr>\n",
       "                        <th id=\"T_6ae7af92_35f9_11ea_95b0_dcfb48536b8clevel0_row11\" class=\"row_heading level0 row11\" >L</th>\n",
       "                        <td id=\"T_6ae7af92_35f9_11ea_95b0_dcfb48536b8crow11_col0\" class=\"data row11 col0\" >0</td>\n",
       "                        <td id=\"T_6ae7af92_35f9_11ea_95b0_dcfb48536b8crow11_col1\" class=\"data row11 col1\" >1</td>\n",
       "            </tr>\n",
       "            <tr>\n",
       "                        <th id=\"T_6ae7af92_35f9_11ea_95b0_dcfb48536b8clevel0_row12\" class=\"row_heading level0 row12\" >M</th>\n",
       "                        <td id=\"T_6ae7af92_35f9_11ea_95b0_dcfb48536b8crow12_col0\" class=\"data row12 col0\" >1</td>\n",
       "                        <td id=\"T_6ae7af92_35f9_11ea_95b0_dcfb48536b8crow12_col1\" class=\"data row12 col1\" >0</td>\n",
       "            </tr>\n",
       "            <tr>\n",
       "                        <th id=\"T_6ae7af92_35f9_11ea_95b0_dcfb48536b8clevel0_row13\" class=\"row_heading level0 row13\" >N</th>\n",
       "                        <td id=\"T_6ae7af92_35f9_11ea_95b0_dcfb48536b8crow13_col0\" class=\"data row13 col0\" >0</td>\n",
       "                        <td id=\"T_6ae7af92_35f9_11ea_95b0_dcfb48536b8crow13_col1\" class=\"data row13 col1\" >0</td>\n",
       "            </tr>\n",
       "            <tr>\n",
       "                        <th id=\"T_6ae7af92_35f9_11ea_95b0_dcfb48536b8clevel0_row14\" class=\"row_heading level0 row14\" >O</th>\n",
       "                        <td id=\"T_6ae7af92_35f9_11ea_95b0_dcfb48536b8crow14_col0\" class=\"data row14 col0\" >0</td>\n",
       "                        <td id=\"T_6ae7af92_35f9_11ea_95b0_dcfb48536b8crow14_col1\" class=\"data row14 col1\" >0</td>\n",
       "            </tr>\n",
       "            <tr>\n",
       "                        <th id=\"T_6ae7af92_35f9_11ea_95b0_dcfb48536b8clevel0_row15\" class=\"row_heading level0 row15\" >P</th>\n",
       "                        <td id=\"T_6ae7af92_35f9_11ea_95b0_dcfb48536b8crow15_col0\" class=\"data row15 col0\" >0</td>\n",
       "                        <td id=\"T_6ae7af92_35f9_11ea_95b0_dcfb48536b8crow15_col1\" class=\"data row15 col1\" >0</td>\n",
       "            </tr>\n",
       "    </tbody></table>"
      ],
      "text/plain": [
       "<pandas.io.formats.style.Styler at 0x7f23c491e470>"
      ]
     },
     "metadata": {},
     "output_type": "display_data"
    }
   ],
   "source": [
    "pair = pd.concat([sample_set(), sample_set()], axis=1)\n",
    "pair.columns=['X','Y']\n",
    "pp_set(pair)"
   ]
  },
  {
   "cell_type": "code",
   "execution_count": 57,
   "metadata": {
    "hidden": true,
    "slideshow": {
     "slide_type": "skip"
    }
   },
   "outputs": [],
   "source": [
    "def pp_jaccard(df):\n",
    "    def highlight_eq_rows(row):\n",
    "        l = row.iloc[0]\n",
    "        r = row.iloc[1]\n",
    "        if l == 0 and r == 0:\n",
    "            return ['']* 2\n",
    "        elif l != r:\n",
    "            return ['background-color: darkorange']* 2\n",
    "        else:\n",
    "            return ['background-color: lightgreen'] * 2\n",
    "    return df.style.apply(highlight_eq_rows, axis=1)"
   ]
  },
  {
   "cell_type": "code",
   "execution_count": 58,
   "metadata": {
    "hidden": true,
    "slideshow": {
     "slide_type": "subslide"
    }
   },
   "outputs": [
    {
     "data": {
      "text/html": [
       "<style  type=\"text/css\" >\n",
       "    #T_7eda3934_35f9_11ea_95b0_dcfb48536b8crow0_col0 {\n",
       "            background-color:  darkorange;\n",
       "        }    #T_7eda3934_35f9_11ea_95b0_dcfb48536b8crow0_col1 {\n",
       "            background-color:  darkorange;\n",
       "        }    #T_7eda3934_35f9_11ea_95b0_dcfb48536b8crow1_col0 {\n",
       "            background-color:  darkorange;\n",
       "        }    #T_7eda3934_35f9_11ea_95b0_dcfb48536b8crow1_col1 {\n",
       "            background-color:  darkorange;\n",
       "        }    #T_7eda3934_35f9_11ea_95b0_dcfb48536b8crow2_col0 {\n",
       "            background-color:  lightgreen;\n",
       "        }    #T_7eda3934_35f9_11ea_95b0_dcfb48536b8crow2_col1 {\n",
       "            background-color:  lightgreen;\n",
       "        }    #T_7eda3934_35f9_11ea_95b0_dcfb48536b8crow3_col0 {\n",
       "            background-color:  darkorange;\n",
       "        }    #T_7eda3934_35f9_11ea_95b0_dcfb48536b8crow3_col1 {\n",
       "            background-color:  darkorange;\n",
       "        }    #T_7eda3934_35f9_11ea_95b0_dcfb48536b8crow4_col0 {\n",
       "            background-color:  lightgreen;\n",
       "        }    #T_7eda3934_35f9_11ea_95b0_dcfb48536b8crow4_col1 {\n",
       "            background-color:  lightgreen;\n",
       "        }    #T_7eda3934_35f9_11ea_95b0_dcfb48536b8crow7_col0 {\n",
       "            background-color:  lightgreen;\n",
       "        }    #T_7eda3934_35f9_11ea_95b0_dcfb48536b8crow7_col1 {\n",
       "            background-color:  lightgreen;\n",
       "        }    #T_7eda3934_35f9_11ea_95b0_dcfb48536b8crow9_col0 {\n",
       "            background-color:  lightgreen;\n",
       "        }    #T_7eda3934_35f9_11ea_95b0_dcfb48536b8crow9_col1 {\n",
       "            background-color:  lightgreen;\n",
       "        }    #T_7eda3934_35f9_11ea_95b0_dcfb48536b8crow10_col0 {\n",
       "            background-color:  lightgreen;\n",
       "        }    #T_7eda3934_35f9_11ea_95b0_dcfb48536b8crow10_col1 {\n",
       "            background-color:  lightgreen;\n",
       "        }    #T_7eda3934_35f9_11ea_95b0_dcfb48536b8crow11_col0 {\n",
       "            background-color:  darkorange;\n",
       "        }    #T_7eda3934_35f9_11ea_95b0_dcfb48536b8crow11_col1 {\n",
       "            background-color:  darkorange;\n",
       "        }    #T_7eda3934_35f9_11ea_95b0_dcfb48536b8crow12_col0 {\n",
       "            background-color:  darkorange;\n",
       "        }    #T_7eda3934_35f9_11ea_95b0_dcfb48536b8crow12_col1 {\n",
       "            background-color:  darkorange;\n",
       "        }</style><table id=\"T_7eda3934_35f9_11ea_95b0_dcfb48536b8c\" ><thead>    <tr>        <th class=\"blank level0\" ></th>        <th class=\"col_heading level0 col0\" >X</th>        <th class=\"col_heading level0 col1\" >Y</th>    </tr></thead><tbody>\n",
       "                <tr>\n",
       "                        <th id=\"T_7eda3934_35f9_11ea_95b0_dcfb48536b8clevel0_row0\" class=\"row_heading level0 row0\" >A</th>\n",
       "                        <td id=\"T_7eda3934_35f9_11ea_95b0_dcfb48536b8crow0_col0\" class=\"data row0 col0\" >1</td>\n",
       "                        <td id=\"T_7eda3934_35f9_11ea_95b0_dcfb48536b8crow0_col1\" class=\"data row0 col1\" >0</td>\n",
       "            </tr>\n",
       "            <tr>\n",
       "                        <th id=\"T_7eda3934_35f9_11ea_95b0_dcfb48536b8clevel0_row1\" class=\"row_heading level0 row1\" >B</th>\n",
       "                        <td id=\"T_7eda3934_35f9_11ea_95b0_dcfb48536b8crow1_col0\" class=\"data row1 col0\" >0</td>\n",
       "                        <td id=\"T_7eda3934_35f9_11ea_95b0_dcfb48536b8crow1_col1\" class=\"data row1 col1\" >1</td>\n",
       "            </tr>\n",
       "            <tr>\n",
       "                        <th id=\"T_7eda3934_35f9_11ea_95b0_dcfb48536b8clevel0_row2\" class=\"row_heading level0 row2\" >C</th>\n",
       "                        <td id=\"T_7eda3934_35f9_11ea_95b0_dcfb48536b8crow2_col0\" class=\"data row2 col0\" >1</td>\n",
       "                        <td id=\"T_7eda3934_35f9_11ea_95b0_dcfb48536b8crow2_col1\" class=\"data row2 col1\" >1</td>\n",
       "            </tr>\n",
       "            <tr>\n",
       "                        <th id=\"T_7eda3934_35f9_11ea_95b0_dcfb48536b8clevel0_row3\" class=\"row_heading level0 row3\" >D</th>\n",
       "                        <td id=\"T_7eda3934_35f9_11ea_95b0_dcfb48536b8crow3_col0\" class=\"data row3 col0\" >1</td>\n",
       "                        <td id=\"T_7eda3934_35f9_11ea_95b0_dcfb48536b8crow3_col1\" class=\"data row3 col1\" >0</td>\n",
       "            </tr>\n",
       "            <tr>\n",
       "                        <th id=\"T_7eda3934_35f9_11ea_95b0_dcfb48536b8clevel0_row4\" class=\"row_heading level0 row4\" >E</th>\n",
       "                        <td id=\"T_7eda3934_35f9_11ea_95b0_dcfb48536b8crow4_col0\" class=\"data row4 col0\" >1</td>\n",
       "                        <td id=\"T_7eda3934_35f9_11ea_95b0_dcfb48536b8crow4_col1\" class=\"data row4 col1\" >1</td>\n",
       "            </tr>\n",
       "            <tr>\n",
       "                        <th id=\"T_7eda3934_35f9_11ea_95b0_dcfb48536b8clevel0_row5\" class=\"row_heading level0 row5\" >F</th>\n",
       "                        <td id=\"T_7eda3934_35f9_11ea_95b0_dcfb48536b8crow5_col0\" class=\"data row5 col0\" >0</td>\n",
       "                        <td id=\"T_7eda3934_35f9_11ea_95b0_dcfb48536b8crow5_col1\" class=\"data row5 col1\" >0</td>\n",
       "            </tr>\n",
       "            <tr>\n",
       "                        <th id=\"T_7eda3934_35f9_11ea_95b0_dcfb48536b8clevel0_row6\" class=\"row_heading level0 row6\" >G</th>\n",
       "                        <td id=\"T_7eda3934_35f9_11ea_95b0_dcfb48536b8crow6_col0\" class=\"data row6 col0\" >0</td>\n",
       "                        <td id=\"T_7eda3934_35f9_11ea_95b0_dcfb48536b8crow6_col1\" class=\"data row6 col1\" >0</td>\n",
       "            </tr>\n",
       "            <tr>\n",
       "                        <th id=\"T_7eda3934_35f9_11ea_95b0_dcfb48536b8clevel0_row7\" class=\"row_heading level0 row7\" >H</th>\n",
       "                        <td id=\"T_7eda3934_35f9_11ea_95b0_dcfb48536b8crow7_col0\" class=\"data row7 col0\" >1</td>\n",
       "                        <td id=\"T_7eda3934_35f9_11ea_95b0_dcfb48536b8crow7_col1\" class=\"data row7 col1\" >1</td>\n",
       "            </tr>\n",
       "            <tr>\n",
       "                        <th id=\"T_7eda3934_35f9_11ea_95b0_dcfb48536b8clevel0_row8\" class=\"row_heading level0 row8\" >I</th>\n",
       "                        <td id=\"T_7eda3934_35f9_11ea_95b0_dcfb48536b8crow8_col0\" class=\"data row8 col0\" >0</td>\n",
       "                        <td id=\"T_7eda3934_35f9_11ea_95b0_dcfb48536b8crow8_col1\" class=\"data row8 col1\" >0</td>\n",
       "            </tr>\n",
       "            <tr>\n",
       "                        <th id=\"T_7eda3934_35f9_11ea_95b0_dcfb48536b8clevel0_row9\" class=\"row_heading level0 row9\" >J</th>\n",
       "                        <td id=\"T_7eda3934_35f9_11ea_95b0_dcfb48536b8crow9_col0\" class=\"data row9 col0\" >1</td>\n",
       "                        <td id=\"T_7eda3934_35f9_11ea_95b0_dcfb48536b8crow9_col1\" class=\"data row9 col1\" >1</td>\n",
       "            </tr>\n",
       "            <tr>\n",
       "                        <th id=\"T_7eda3934_35f9_11ea_95b0_dcfb48536b8clevel0_row10\" class=\"row_heading level0 row10\" >K</th>\n",
       "                        <td id=\"T_7eda3934_35f9_11ea_95b0_dcfb48536b8crow10_col0\" class=\"data row10 col0\" >1</td>\n",
       "                        <td id=\"T_7eda3934_35f9_11ea_95b0_dcfb48536b8crow10_col1\" class=\"data row10 col1\" >1</td>\n",
       "            </tr>\n",
       "            <tr>\n",
       "                        <th id=\"T_7eda3934_35f9_11ea_95b0_dcfb48536b8clevel0_row11\" class=\"row_heading level0 row11\" >L</th>\n",
       "                        <td id=\"T_7eda3934_35f9_11ea_95b0_dcfb48536b8crow11_col0\" class=\"data row11 col0\" >0</td>\n",
       "                        <td id=\"T_7eda3934_35f9_11ea_95b0_dcfb48536b8crow11_col1\" class=\"data row11 col1\" >1</td>\n",
       "            </tr>\n",
       "            <tr>\n",
       "                        <th id=\"T_7eda3934_35f9_11ea_95b0_dcfb48536b8clevel0_row12\" class=\"row_heading level0 row12\" >M</th>\n",
       "                        <td id=\"T_7eda3934_35f9_11ea_95b0_dcfb48536b8crow12_col0\" class=\"data row12 col0\" >1</td>\n",
       "                        <td id=\"T_7eda3934_35f9_11ea_95b0_dcfb48536b8crow12_col1\" class=\"data row12 col1\" >0</td>\n",
       "            </tr>\n",
       "            <tr>\n",
       "                        <th id=\"T_7eda3934_35f9_11ea_95b0_dcfb48536b8clevel0_row13\" class=\"row_heading level0 row13\" >N</th>\n",
       "                        <td id=\"T_7eda3934_35f9_11ea_95b0_dcfb48536b8crow13_col0\" class=\"data row13 col0\" >0</td>\n",
       "                        <td id=\"T_7eda3934_35f9_11ea_95b0_dcfb48536b8crow13_col1\" class=\"data row13 col1\" >0</td>\n",
       "            </tr>\n",
       "            <tr>\n",
       "                        <th id=\"T_7eda3934_35f9_11ea_95b0_dcfb48536b8clevel0_row14\" class=\"row_heading level0 row14\" >O</th>\n",
       "                        <td id=\"T_7eda3934_35f9_11ea_95b0_dcfb48536b8crow14_col0\" class=\"data row14 col0\" >0</td>\n",
       "                        <td id=\"T_7eda3934_35f9_11ea_95b0_dcfb48536b8crow14_col1\" class=\"data row14 col1\" >0</td>\n",
       "            </tr>\n",
       "            <tr>\n",
       "                        <th id=\"T_7eda3934_35f9_11ea_95b0_dcfb48536b8clevel0_row15\" class=\"row_heading level0 row15\" >P</th>\n",
       "                        <td id=\"T_7eda3934_35f9_11ea_95b0_dcfb48536b8crow15_col0\" class=\"data row15 col0\" >0</td>\n",
       "                        <td id=\"T_7eda3934_35f9_11ea_95b0_dcfb48536b8crow15_col1\" class=\"data row15 col1\" >0</td>\n",
       "            </tr>\n",
       "    </tbody></table>"
      ],
      "text/plain": [
       "<pandas.io.formats.style.Styler at 0x7f23c4a03470>"
      ]
     },
     "execution_count": 58,
     "metadata": {},
     "output_type": "execute_result"
    }
   ],
   "source": [
    "pp_jaccard(pair)"
   ]
  },
  {
   "cell_type": "code",
   "execution_count": 64,
   "metadata": {
    "hidden": true,
    "slideshow": {
     "slide_type": "subslide"
    }
   },
   "outputs": [
    {
     "data": {
      "text/html": [
       "<style  type=\"text/css\" >\n",
       "    #T_8ad8770b_35f9_11ea_95b0_dcfb48536b8crow0_col0 {\n",
       "            background-color: gold;\n",
       "        }    #T_8ad8770b_35f9_11ea_95b0_dcfb48536b8crow0_col1 {\n",
       "            background-color: white;\n",
       "        }    #T_8ad8770b_35f9_11ea_95b0_dcfb48536b8crow1_col0 {\n",
       "            background-color: white;\n",
       "        }    #T_8ad8770b_35f9_11ea_95b0_dcfb48536b8crow1_col1 {\n",
       "            background-color: gold;\n",
       "        }    #T_8ad8770b_35f9_11ea_95b0_dcfb48536b8crow2_col0 {\n",
       "            background-color: white;\n",
       "        }    #T_8ad8770b_35f9_11ea_95b0_dcfb48536b8crow2_col1 {\n",
       "            background-color: white;\n",
       "        }    #T_8ad8770b_35f9_11ea_95b0_dcfb48536b8crow3_col0 {\n",
       "            background-color: white;\n",
       "        }    #T_8ad8770b_35f9_11ea_95b0_dcfb48536b8crow3_col1 {\n",
       "            background-color: white;\n",
       "        }    #T_8ad8770b_35f9_11ea_95b0_dcfb48536b8crow4_col0 {\n",
       "            background-color: white;\n",
       "        }    #T_8ad8770b_35f9_11ea_95b0_dcfb48536b8crow4_col1 {\n",
       "            background-color: white;\n",
       "        }    #T_8ad8770b_35f9_11ea_95b0_dcfb48536b8crow5_col0 {\n",
       "            background-color: white;\n",
       "        }    #T_8ad8770b_35f9_11ea_95b0_dcfb48536b8crow5_col1 {\n",
       "            background-color: white;\n",
       "        }    #T_8ad8770b_35f9_11ea_95b0_dcfb48536b8crow6_col0 {\n",
       "            background-color: white;\n",
       "        }    #T_8ad8770b_35f9_11ea_95b0_dcfb48536b8crow6_col1 {\n",
       "            background-color: white;\n",
       "        }    #T_8ad8770b_35f9_11ea_95b0_dcfb48536b8crow7_col0 {\n",
       "            background-color: white;\n",
       "        }    #T_8ad8770b_35f9_11ea_95b0_dcfb48536b8crow7_col1 {\n",
       "            background-color: white;\n",
       "        }    #T_8ad8770b_35f9_11ea_95b0_dcfb48536b8crow8_col0 {\n",
       "            background-color: white;\n",
       "        }    #T_8ad8770b_35f9_11ea_95b0_dcfb48536b8crow8_col1 {\n",
       "            background-color: white;\n",
       "        }    #T_8ad8770b_35f9_11ea_95b0_dcfb48536b8crow9_col0 {\n",
       "            background-color: white;\n",
       "        }    #T_8ad8770b_35f9_11ea_95b0_dcfb48536b8crow9_col1 {\n",
       "            background-color: white;\n",
       "        }    #T_8ad8770b_35f9_11ea_95b0_dcfb48536b8crow10_col0 {\n",
       "            background-color: white;\n",
       "        }    #T_8ad8770b_35f9_11ea_95b0_dcfb48536b8crow10_col1 {\n",
       "            background-color: white;\n",
       "        }    #T_8ad8770b_35f9_11ea_95b0_dcfb48536b8crow11_col0 {\n",
       "            background-color: white;\n",
       "        }    #T_8ad8770b_35f9_11ea_95b0_dcfb48536b8crow11_col1 {\n",
       "            background-color: white;\n",
       "        }    #T_8ad8770b_35f9_11ea_95b0_dcfb48536b8crow12_col0 {\n",
       "            background-color: white;\n",
       "        }    #T_8ad8770b_35f9_11ea_95b0_dcfb48536b8crow12_col1 {\n",
       "            background-color: white;\n",
       "        }    #T_8ad8770b_35f9_11ea_95b0_dcfb48536b8crow13_col0 {\n",
       "            background-color: white;\n",
       "        }    #T_8ad8770b_35f9_11ea_95b0_dcfb48536b8crow13_col1 {\n",
       "            background-color: white;\n",
       "        }    #T_8ad8770b_35f9_11ea_95b0_dcfb48536b8crow14_col0 {\n",
       "            background-color: white;\n",
       "        }    #T_8ad8770b_35f9_11ea_95b0_dcfb48536b8crow14_col1 {\n",
       "            background-color: white;\n",
       "        }    #T_8ad8770b_35f9_11ea_95b0_dcfb48536b8crow15_col0 {\n",
       "            background-color: white;\n",
       "        }    #T_8ad8770b_35f9_11ea_95b0_dcfb48536b8crow15_col1 {\n",
       "            background-color: white;\n",
       "        }</style><table id=\"T_8ad8770b_35f9_11ea_95b0_dcfb48536b8c\" ><thead>    <tr>        <th class=\"blank level0\" ></th>        <th class=\"col_heading level0 col0\" >X</th>        <th class=\"col_heading level0 col1\" >Y</th>    </tr></thead><tbody>\n",
       "                <tr>\n",
       "                        <th id=\"T_8ad8770b_35f9_11ea_95b0_dcfb48536b8clevel0_row0\" class=\"row_heading level0 row0\" >A</th>\n",
       "                        <td id=\"T_8ad8770b_35f9_11ea_95b0_dcfb48536b8crow0_col0\" class=\"data row0 col0\" >1</td>\n",
       "                        <td id=\"T_8ad8770b_35f9_11ea_95b0_dcfb48536b8crow0_col1\" class=\"data row0 col1\" >0</td>\n",
       "            </tr>\n",
       "            <tr>\n",
       "                        <th id=\"T_8ad8770b_35f9_11ea_95b0_dcfb48536b8clevel0_row1\" class=\"row_heading level0 row1\" >C</th>\n",
       "                        <td id=\"T_8ad8770b_35f9_11ea_95b0_dcfb48536b8crow1_col0\" class=\"data row1 col0\" >1</td>\n",
       "                        <td id=\"T_8ad8770b_35f9_11ea_95b0_dcfb48536b8crow1_col1\" class=\"data row1 col1\" >1</td>\n",
       "            </tr>\n",
       "            <tr>\n",
       "                        <th id=\"T_8ad8770b_35f9_11ea_95b0_dcfb48536b8clevel0_row2\" class=\"row_heading level0 row2\" >I</th>\n",
       "                        <td id=\"T_8ad8770b_35f9_11ea_95b0_dcfb48536b8crow2_col0\" class=\"data row2 col0\" >0</td>\n",
       "                        <td id=\"T_8ad8770b_35f9_11ea_95b0_dcfb48536b8crow2_col1\" class=\"data row2 col1\" >0</td>\n",
       "            </tr>\n",
       "            <tr>\n",
       "                        <th id=\"T_8ad8770b_35f9_11ea_95b0_dcfb48536b8clevel0_row3\" class=\"row_heading level0 row3\" >N</th>\n",
       "                        <td id=\"T_8ad8770b_35f9_11ea_95b0_dcfb48536b8crow3_col0\" class=\"data row3 col0\" >0</td>\n",
       "                        <td id=\"T_8ad8770b_35f9_11ea_95b0_dcfb48536b8crow3_col1\" class=\"data row3 col1\" >0</td>\n",
       "            </tr>\n",
       "            <tr>\n",
       "                        <th id=\"T_8ad8770b_35f9_11ea_95b0_dcfb48536b8clevel0_row4\" class=\"row_heading level0 row4\" >H</th>\n",
       "                        <td id=\"T_8ad8770b_35f9_11ea_95b0_dcfb48536b8crow4_col0\" class=\"data row4 col0\" >1</td>\n",
       "                        <td id=\"T_8ad8770b_35f9_11ea_95b0_dcfb48536b8crow4_col1\" class=\"data row4 col1\" >1</td>\n",
       "            </tr>\n",
       "            <tr>\n",
       "                        <th id=\"T_8ad8770b_35f9_11ea_95b0_dcfb48536b8clevel0_row5\" class=\"row_heading level0 row5\" >F</th>\n",
       "                        <td id=\"T_8ad8770b_35f9_11ea_95b0_dcfb48536b8crow5_col0\" class=\"data row5 col0\" >0</td>\n",
       "                        <td id=\"T_8ad8770b_35f9_11ea_95b0_dcfb48536b8crow5_col1\" class=\"data row5 col1\" >0</td>\n",
       "            </tr>\n",
       "            <tr>\n",
       "                        <th id=\"T_8ad8770b_35f9_11ea_95b0_dcfb48536b8clevel0_row6\" class=\"row_heading level0 row6\" >G</th>\n",
       "                        <td id=\"T_8ad8770b_35f9_11ea_95b0_dcfb48536b8crow6_col0\" class=\"data row6 col0\" >0</td>\n",
       "                        <td id=\"T_8ad8770b_35f9_11ea_95b0_dcfb48536b8crow6_col1\" class=\"data row6 col1\" >0</td>\n",
       "            </tr>\n",
       "            <tr>\n",
       "                        <th id=\"T_8ad8770b_35f9_11ea_95b0_dcfb48536b8clevel0_row7\" class=\"row_heading level0 row7\" >M</th>\n",
       "                        <td id=\"T_8ad8770b_35f9_11ea_95b0_dcfb48536b8crow7_col0\" class=\"data row7 col0\" >1</td>\n",
       "                        <td id=\"T_8ad8770b_35f9_11ea_95b0_dcfb48536b8crow7_col1\" class=\"data row7 col1\" >0</td>\n",
       "            </tr>\n",
       "            <tr>\n",
       "                        <th id=\"T_8ad8770b_35f9_11ea_95b0_dcfb48536b8clevel0_row8\" class=\"row_heading level0 row8\" >L</th>\n",
       "                        <td id=\"T_8ad8770b_35f9_11ea_95b0_dcfb48536b8crow8_col0\" class=\"data row8 col0\" >0</td>\n",
       "                        <td id=\"T_8ad8770b_35f9_11ea_95b0_dcfb48536b8crow8_col1\" class=\"data row8 col1\" >1</td>\n",
       "            </tr>\n",
       "            <tr>\n",
       "                        <th id=\"T_8ad8770b_35f9_11ea_95b0_dcfb48536b8clevel0_row9\" class=\"row_heading level0 row9\" >D</th>\n",
       "                        <td id=\"T_8ad8770b_35f9_11ea_95b0_dcfb48536b8crow9_col0\" class=\"data row9 col0\" >1</td>\n",
       "                        <td id=\"T_8ad8770b_35f9_11ea_95b0_dcfb48536b8crow9_col1\" class=\"data row9 col1\" >0</td>\n",
       "            </tr>\n",
       "            <tr>\n",
       "                        <th id=\"T_8ad8770b_35f9_11ea_95b0_dcfb48536b8clevel0_row10\" class=\"row_heading level0 row10\" >B</th>\n",
       "                        <td id=\"T_8ad8770b_35f9_11ea_95b0_dcfb48536b8crow10_col0\" class=\"data row10 col0\" >0</td>\n",
       "                        <td id=\"T_8ad8770b_35f9_11ea_95b0_dcfb48536b8crow10_col1\" class=\"data row10 col1\" >1</td>\n",
       "            </tr>\n",
       "            <tr>\n",
       "                        <th id=\"T_8ad8770b_35f9_11ea_95b0_dcfb48536b8clevel0_row11\" class=\"row_heading level0 row11\" >E</th>\n",
       "                        <td id=\"T_8ad8770b_35f9_11ea_95b0_dcfb48536b8crow11_col0\" class=\"data row11 col0\" >1</td>\n",
       "                        <td id=\"T_8ad8770b_35f9_11ea_95b0_dcfb48536b8crow11_col1\" class=\"data row11 col1\" >1</td>\n",
       "            </tr>\n",
       "            <tr>\n",
       "                        <th id=\"T_8ad8770b_35f9_11ea_95b0_dcfb48536b8clevel0_row12\" class=\"row_heading level0 row12\" >O</th>\n",
       "                        <td id=\"T_8ad8770b_35f9_11ea_95b0_dcfb48536b8crow12_col0\" class=\"data row12 col0\" >0</td>\n",
       "                        <td id=\"T_8ad8770b_35f9_11ea_95b0_dcfb48536b8crow12_col1\" class=\"data row12 col1\" >0</td>\n",
       "            </tr>\n",
       "            <tr>\n",
       "                        <th id=\"T_8ad8770b_35f9_11ea_95b0_dcfb48536b8clevel0_row13\" class=\"row_heading level0 row13\" >P</th>\n",
       "                        <td id=\"T_8ad8770b_35f9_11ea_95b0_dcfb48536b8crow13_col0\" class=\"data row13 col0\" >0</td>\n",
       "                        <td id=\"T_8ad8770b_35f9_11ea_95b0_dcfb48536b8crow13_col1\" class=\"data row13 col1\" >0</td>\n",
       "            </tr>\n",
       "            <tr>\n",
       "                        <th id=\"T_8ad8770b_35f9_11ea_95b0_dcfb48536b8clevel0_row14\" class=\"row_heading level0 row14\" >K</th>\n",
       "                        <td id=\"T_8ad8770b_35f9_11ea_95b0_dcfb48536b8crow14_col0\" class=\"data row14 col0\" >1</td>\n",
       "                        <td id=\"T_8ad8770b_35f9_11ea_95b0_dcfb48536b8crow14_col1\" class=\"data row14 col1\" >1</td>\n",
       "            </tr>\n",
       "            <tr>\n",
       "                        <th id=\"T_8ad8770b_35f9_11ea_95b0_dcfb48536b8clevel0_row15\" class=\"row_heading level0 row15\" >J</th>\n",
       "                        <td id=\"T_8ad8770b_35f9_11ea_95b0_dcfb48536b8crow15_col0\" class=\"data row15 col0\" >1</td>\n",
       "                        <td id=\"T_8ad8770b_35f9_11ea_95b0_dcfb48536b8crow15_col1\" class=\"data row15 col1\" >1</td>\n",
       "            </tr>\n",
       "    </tbody></table>"
      ],
      "text/plain": [
       "<pandas.io.formats.style.Styler at 0x7f23c4916518>"
      ]
     },
     "metadata": {},
     "output_type": "display_data"
    }
   ],
   "source": [
    "pp_minhash(pair)"
   ]
  },
  {
   "cell_type": "code",
   "execution_count": 65,
   "metadata": {
    "hidden": true,
    "slideshow": {
     "slide_type": "skip"
    }
   },
   "outputs": [],
   "source": [
    "def get_mh(s):\n",
    "    p = permute(s)\n",
    "    return p.index[p.apply(lambda x: x.tolist().index(1), axis=0)]"
   ]
  },
  {
   "cell_type": "code",
   "execution_count": 66,
   "metadata": {
    "hidden": true,
    "slideshow": {
     "slide_type": "skip"
    }
   },
   "outputs": [],
   "source": [
    "def jac_sim(pair):\n",
    "    return (pair['X'] & pair['Y']).sum() / (pair['X'] | pair['Y']).sum()"
   ]
  },
  {
   "cell_type": "code",
   "execution_count": 67,
   "metadata": {
    "hidden": true,
    "slideshow": {
     "slide_type": "skip"
    }
   },
   "outputs": [
    {
     "data": {
      "text/plain": [
       "0.5"
      ]
     },
     "execution_count": 67,
     "metadata": {},
     "output_type": "execute_result"
    }
   ],
   "source": [
    "jac_sim(pair)"
   ]
  },
  {
   "cell_type": "code",
   "execution_count": 68,
   "metadata": {
    "hidden": true
   },
   "outputs": [],
   "source": [
    "from math import sqrt\n",
    "def wilson(p, n, z = 1.96):\n",
    "    denominator = 1 + z**2/n\n",
    "    centre_adjusted_probability = p + z*z / (2*n)\n",
    "    adjusted_standard_deviation = sqrt((p*(1 - p) + z*z / (4*n)) / n)\n",
    "    \n",
    "    return f\"{centre_adjusted_probability:.2f}+-{2*adjusted_standard_deviation:.2f}\""
   ]
  },
  {
   "cell_type": "code",
   "execution_count": 76,
   "metadata": {
    "hidden": true
   },
   "outputs": [
    {
     "data": {
      "text/plain": [
       "'0.51+-0.02'"
      ]
     },
     "metadata": {},
     "output_type": "display_data"
    }
   ],
   "source": [
    "eq = []\n",
    "for i in range(2000):\n",
    "    mh_equality = get_mh(pair)\n",
    "    eq.append(mh_equality[0] == mh_equality[1])\n",
    "display(wilson(np.sum(eq)/len(eq), len(eq)))\n"
   ]
  },
  {
   "cell_type": "markdown",
   "metadata": {},
   "source": [
    "# 5. Minhash in Practice"
   ]
  },
  {
   "cell_type": "markdown",
   "metadata": {},
   "source": [
    "We've come up with a way to map sets to similarity-preserving signatures. Unfortunately, one of the steps involves calculating permutations of the universe, which is an expensive/slow operation when the universe is large. In practice, instead of permuting the universe and finding the minumum present element, we use a **hash function and pretend like it's giving us an ordering**.\n",
    "\n",
    "Let's consider the function f(x) = 2*x + 7 mod 17. In that case, for the set {A, B, D} we would get:\n",
    "<table>\n",
    "    <thead>\n",
    "      <tr> <td>Element</td> <td>Original index</td> <td> 5x+7 mod 17 </td></tr>\n",
    "    </thead>\n",
    "    <tbody  >\n",
    "        <tr><td>A</td><td>0</td><td>7</td></tr>\n",
    "        <tr><td>B</td><td>1</td><td>12</td></tr>\n",
    "        <tr><td>D</td><td>3</td><td style=\"background-color:gold\">5</td></tr>\n",
    "    </tbody>\n",
    "</table>\n",
    "\n",
    "In this case, the minhash for the set {A,B,D} would be **D** because it receives the minumal value of the hash function.\n",
    "\n",
    "To sum up, to generate minhash signatures of documents, the procedure is as follows:\n",
    "\n",
    "1. Map documents to sets (Domain dependent)\n",
    "2. Generate a number of random hash functions\n",
    "3. For each set, for each hash function, compute the hash values of all present elements and find the minimums. These minima make up the minhash signature."
   ]
  },
  {
   "cell_type": "markdown",
   "metadata": {
    "slideshow": {
     "slide_type": "slide"
    }
   },
   "source": [
    "# 6. Locality Sensitive Hashing"
   ]
  },
  {
   "cell_type": "markdown",
   "metadata": {},
   "source": [
    "So, we've come up with a way to compare sets based on their *Minhash signature*. However, we still need to do the full $\\frac{n*(n-1)}{2}$ comparisons.    \n",
    "This is where Locality Sensitive Hashing comes into play. Suppose we have minhash signatures of length 100. Then, we can divide each signature into `b` bands of `r` rows, such that `b*r = 100`"
   ]
  },
  {
   "cell_type": "code",
   "execution_count": null,
   "metadata": {},
   "outputs": [],
   "source": []
  }
 ],
 "metadata": {
  "kernelspec": {
   "display_name": "Python 3",
   "language": "python",
   "name": "python3"
  },
  "language_info": {
   "codemirror_mode": {
    "name": "ipython",
    "version": 3
   },
   "file_extension": ".py",
   "mimetype": "text/x-python",
   "name": "python",
   "nbconvert_exporter": "python",
   "pygments_lexer": "ipython3",
   "version": "3.6.9"
  },
  "varInspector": {
   "cols": {
    "lenName": 16,
    "lenType": 16,
    "lenVar": 40
   },
   "kernels_config": {
    "python": {
     "delete_cmd_postfix": "",
     "delete_cmd_prefix": "del ",
     "library": "var_list.py",
     "varRefreshCmd": "print(var_dic_list())"
    },
    "r": {
     "delete_cmd_postfix": ") ",
     "delete_cmd_prefix": "rm(",
     "library": "var_list.r",
     "varRefreshCmd": "cat(var_dic_list()) "
    }
   },
   "types_to_exclude": [
    "module",
    "function",
    "builtin_function_or_method",
    "instance",
    "_Feature"
   ],
   "window_display": false
  }
 },
 "nbformat": 4,
 "nbformat_minor": 4
}
