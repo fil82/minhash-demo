{
 "cells": [
  {
   "cell_type": "markdown",
   "metadata": {
    "heading_collapsed": true,
    "slideshow": {
     "slide_type": "slide"
    }
   },
   "source": [
    "# Minhash LSH for Set Similarity"
   ]
  },
  {
   "cell_type": "markdown",
   "metadata": {
    "hidden": true,
    "slideshow": {
     "slide_type": "fragment"
    }
   },
   "source": [
    "The Minhash-LSH algorithm is very suitable for finding duplicates in an efficient manner. This notebook will outline the main concepts and considerations related to the algorithm.\n",
    "\n",
    ">The method relies\n",
    "on the notion of locality-sensitive hash functions. Intuitively, a hash function is locality-sensitive if\n",
    "its probability of collision is higher for “nearby” points than for points that are “far apart”   \n",
    ">-- <A href=\"https://arxiv.org/abs/1509.02897\"><cite>Andoni et al, Practical and Optimal LSH for Angular Distance</cite></A>"
   ]
  },
  {
   "cell_type": "markdown",
   "metadata": {
    "slideshow": {
     "slide_type": "slide"
    }
   },
   "source": [
    "# Imports"
   ]
  },
  {
   "cell_type": "code",
   "execution_count": 193,
   "metadata": {
    "slideshow": {
     "slide_type": "skip"
    }
   },
   "outputs": [
    {
     "data": {
      "text/html": [
       "<style>.container { width:90% !important; }</style>"
      ],
      "text/plain": [
       "<IPython.core.display.HTML object>"
      ]
     },
     "metadata": {},
     "output_type": "display_data"
    }
   ],
   "source": [
    "import pandas as pd\n",
    "import numpy as np\n",
    "from IPython.core.display import display, HTML\n",
    "display(HTML(\"<style>.container { width:90% !important; }</style>\"))"
   ]
  },
  {
   "cell_type": "markdown",
   "metadata": {
    "heading_collapsed": true,
    "slideshow": {
     "slide_type": "slide"
    }
   },
   "source": [
    "# Step 1: Representing sets via their Characteristic matrix"
   ]
  },
  {
   "cell_type": "markdown",
   "metadata": {
    "hidden": true,
    "slideshow": {
     "slide_type": "subslide"
    }
   },
   "source": [
    "For our running examples, let's use the universe of the first 15 english letters: A-P.\n",
    "\n",
    "The characteristic matrix of a set is a binary representation where the elements of the universe are enumerated and each set has a `0` for missing elements and a `1` for present elements. E.g. the set {A,B,D} would be \n",
    "\n",
    "<table> \n",
    "    <tr> <td> A </td> <td> 1 </tr>\n",
    "    <tr> <td> B </td> <td> 1 </tr>\n",
    "    <tr> <td> C </td> <td> 0 </tr>\n",
    "    <tr> <td> D </td> <td> 1 </tr>\n",
    "    <tr> <td> E </td> <td> 0 </tr>\n",
    "    <tr> <td> F </td> <td> ... </tr>\n",
    "</table>"
   ]
  },
  {
   "cell_type": "code",
   "execution_count": 24,
   "metadata": {
    "hidden": true,
    "slideshow": {
     "slide_type": "subslide"
    }
   },
   "outputs": [
    {
     "data": {
      "text/plain": [
       "['A',\n",
       " 'B',\n",
       " 'C',\n",
       " 'D',\n",
       " 'E',\n",
       " 'F',\n",
       " 'G',\n",
       " 'H',\n",
       " 'I',\n",
       " 'J',\n",
       " 'K',\n",
       " 'L',\n",
       " 'M',\n",
       " 'N',\n",
       " 'O',\n",
       " 'P']"
      ]
     },
     "execution_count": 24,
     "metadata": {},
     "output_type": "execute_result"
    }
   ],
   "source": [
    "UNIVERSE = list(\"ABCDEFGHIJKLMNOP\")\n",
    "UNIVERSE"
   ]
  },
  {
   "cell_type": "code",
   "execution_count": 25,
   "metadata": {
    "hidden": true
   },
   "outputs": [],
   "source": [
    "def sample_set():\n",
    "    \"\"\"\n",
    "    Samples a random set from the universe.\n",
    "    \"\"\"\n",
    "    return pd.DataFrame(np.random.randint(0, 2, size=len(UNIVERSE)), index=UNIVERSE)"
   ]
  },
  {
   "cell_type": "code",
   "execution_count": 47,
   "metadata": {
    "hidden": true
   },
   "outputs": [
    {
     "data": {
      "text/html": [
       "<style  type=\"text/css\" >\n",
       "    #T_1f50d12e_344d_11ea_93c5_df4cc2504b31row0_col0 {\n",
       "            background-color:  white;\n",
       "        }    #T_1f50d12e_344d_11ea_93c5_df4cc2504b31row1_col0 {\n",
       "            background-color:  yellow;\n",
       "        }    #T_1f50d12e_344d_11ea_93c5_df4cc2504b31row2_col0 {\n",
       "            background-color:  yellow;\n",
       "        }    #T_1f50d12e_344d_11ea_93c5_df4cc2504b31row3_col0 {\n",
       "            background-color:  white;\n",
       "        }    #T_1f50d12e_344d_11ea_93c5_df4cc2504b31row4_col0 {\n",
       "            background-color:  white;\n",
       "        }    #T_1f50d12e_344d_11ea_93c5_df4cc2504b31row5_col0 {\n",
       "            background-color:  yellow;\n",
       "        }    #T_1f50d12e_344d_11ea_93c5_df4cc2504b31row6_col0 {\n",
       "            background-color:  yellow;\n",
       "        }    #T_1f50d12e_344d_11ea_93c5_df4cc2504b31row7_col0 {\n",
       "            background-color:  white;\n",
       "        }    #T_1f50d12e_344d_11ea_93c5_df4cc2504b31row8_col0 {\n",
       "            background-color:  white;\n",
       "        }    #T_1f50d12e_344d_11ea_93c5_df4cc2504b31row9_col0 {\n",
       "            background-color:  white;\n",
       "        }    #T_1f50d12e_344d_11ea_93c5_df4cc2504b31row10_col0 {\n",
       "            background-color:  yellow;\n",
       "        }    #T_1f50d12e_344d_11ea_93c5_df4cc2504b31row11_col0 {\n",
       "            background-color:  white;\n",
       "        }    #T_1f50d12e_344d_11ea_93c5_df4cc2504b31row12_col0 {\n",
       "            background-color:  yellow;\n",
       "        }    #T_1f50d12e_344d_11ea_93c5_df4cc2504b31row13_col0 {\n",
       "            background-color:  white;\n",
       "        }    #T_1f50d12e_344d_11ea_93c5_df4cc2504b31row14_col0 {\n",
       "            background-color:  yellow;\n",
       "        }    #T_1f50d12e_344d_11ea_93c5_df4cc2504b31row15_col0 {\n",
       "            background-color:  white;\n",
       "        }</style><table id=\"T_1f50d12e_344d_11ea_93c5_df4cc2504b31\" ><thead>    <tr>        <th class=\"blank level0\" ></th>        <th class=\"col_heading level0 col0\" >0</th>    </tr></thead><tbody>\n",
       "                <tr>\n",
       "                        <th id=\"T_1f50d12e_344d_11ea_93c5_df4cc2504b31level0_row0\" class=\"row_heading level0 row0\" >A</th>\n",
       "                        <td id=\"T_1f50d12e_344d_11ea_93c5_df4cc2504b31row0_col0\" class=\"data row0 col0\" >0</td>\n",
       "            </tr>\n",
       "            <tr>\n",
       "                        <th id=\"T_1f50d12e_344d_11ea_93c5_df4cc2504b31level0_row1\" class=\"row_heading level0 row1\" >B</th>\n",
       "                        <td id=\"T_1f50d12e_344d_11ea_93c5_df4cc2504b31row1_col0\" class=\"data row1 col0\" >1</td>\n",
       "            </tr>\n",
       "            <tr>\n",
       "                        <th id=\"T_1f50d12e_344d_11ea_93c5_df4cc2504b31level0_row2\" class=\"row_heading level0 row2\" >C</th>\n",
       "                        <td id=\"T_1f50d12e_344d_11ea_93c5_df4cc2504b31row2_col0\" class=\"data row2 col0\" >1</td>\n",
       "            </tr>\n",
       "            <tr>\n",
       "                        <th id=\"T_1f50d12e_344d_11ea_93c5_df4cc2504b31level0_row3\" class=\"row_heading level0 row3\" >D</th>\n",
       "                        <td id=\"T_1f50d12e_344d_11ea_93c5_df4cc2504b31row3_col0\" class=\"data row3 col0\" >0</td>\n",
       "            </tr>\n",
       "            <tr>\n",
       "                        <th id=\"T_1f50d12e_344d_11ea_93c5_df4cc2504b31level0_row4\" class=\"row_heading level0 row4\" >E</th>\n",
       "                        <td id=\"T_1f50d12e_344d_11ea_93c5_df4cc2504b31row4_col0\" class=\"data row4 col0\" >0</td>\n",
       "            </tr>\n",
       "            <tr>\n",
       "                        <th id=\"T_1f50d12e_344d_11ea_93c5_df4cc2504b31level0_row5\" class=\"row_heading level0 row5\" >F</th>\n",
       "                        <td id=\"T_1f50d12e_344d_11ea_93c5_df4cc2504b31row5_col0\" class=\"data row5 col0\" >1</td>\n",
       "            </tr>\n",
       "            <tr>\n",
       "                        <th id=\"T_1f50d12e_344d_11ea_93c5_df4cc2504b31level0_row6\" class=\"row_heading level0 row6\" >G</th>\n",
       "                        <td id=\"T_1f50d12e_344d_11ea_93c5_df4cc2504b31row6_col0\" class=\"data row6 col0\" >1</td>\n",
       "            </tr>\n",
       "            <tr>\n",
       "                        <th id=\"T_1f50d12e_344d_11ea_93c5_df4cc2504b31level0_row7\" class=\"row_heading level0 row7\" >H</th>\n",
       "                        <td id=\"T_1f50d12e_344d_11ea_93c5_df4cc2504b31row7_col0\" class=\"data row7 col0\" >0</td>\n",
       "            </tr>\n",
       "            <tr>\n",
       "                        <th id=\"T_1f50d12e_344d_11ea_93c5_df4cc2504b31level0_row8\" class=\"row_heading level0 row8\" >I</th>\n",
       "                        <td id=\"T_1f50d12e_344d_11ea_93c5_df4cc2504b31row8_col0\" class=\"data row8 col0\" >0</td>\n",
       "            </tr>\n",
       "            <tr>\n",
       "                        <th id=\"T_1f50d12e_344d_11ea_93c5_df4cc2504b31level0_row9\" class=\"row_heading level0 row9\" >J</th>\n",
       "                        <td id=\"T_1f50d12e_344d_11ea_93c5_df4cc2504b31row9_col0\" class=\"data row9 col0\" >0</td>\n",
       "            </tr>\n",
       "            <tr>\n",
       "                        <th id=\"T_1f50d12e_344d_11ea_93c5_df4cc2504b31level0_row10\" class=\"row_heading level0 row10\" >K</th>\n",
       "                        <td id=\"T_1f50d12e_344d_11ea_93c5_df4cc2504b31row10_col0\" class=\"data row10 col0\" >1</td>\n",
       "            </tr>\n",
       "            <tr>\n",
       "                        <th id=\"T_1f50d12e_344d_11ea_93c5_df4cc2504b31level0_row11\" class=\"row_heading level0 row11\" >L</th>\n",
       "                        <td id=\"T_1f50d12e_344d_11ea_93c5_df4cc2504b31row11_col0\" class=\"data row11 col0\" >0</td>\n",
       "            </tr>\n",
       "            <tr>\n",
       "                        <th id=\"T_1f50d12e_344d_11ea_93c5_df4cc2504b31level0_row12\" class=\"row_heading level0 row12\" >M</th>\n",
       "                        <td id=\"T_1f50d12e_344d_11ea_93c5_df4cc2504b31row12_col0\" class=\"data row12 col0\" >1</td>\n",
       "            </tr>\n",
       "            <tr>\n",
       "                        <th id=\"T_1f50d12e_344d_11ea_93c5_df4cc2504b31level0_row13\" class=\"row_heading level0 row13\" >N</th>\n",
       "                        <td id=\"T_1f50d12e_344d_11ea_93c5_df4cc2504b31row13_col0\" class=\"data row13 col0\" >0</td>\n",
       "            </tr>\n",
       "            <tr>\n",
       "                        <th id=\"T_1f50d12e_344d_11ea_93c5_df4cc2504b31level0_row14\" class=\"row_heading level0 row14\" >O</th>\n",
       "                        <td id=\"T_1f50d12e_344d_11ea_93c5_df4cc2504b31row14_col0\" class=\"data row14 col0\" >1</td>\n",
       "            </tr>\n",
       "            <tr>\n",
       "                        <th id=\"T_1f50d12e_344d_11ea_93c5_df4cc2504b31level0_row15\" class=\"row_heading level0 row15\" >P</th>\n",
       "                        <td id=\"T_1f50d12e_344d_11ea_93c5_df4cc2504b31row15_col0\" class=\"data row15 col0\" >0</td>\n",
       "            </tr>\n",
       "    </tbody></table>"
      ],
      "text/plain": [
       "<pandas.io.formats.style.Styler at 0x7f04e5d86850>"
      ]
     },
     "metadata": {},
     "output_type": "display_data"
    }
   ],
   "source": [
    "def pp_set(s):\n",
    "    \"\"\"\n",
    "    Pretty prints sets - highlights the present elements\n",
    "    \"\"\"\n",
    "    def highlight_ones(x):\n",
    "        return f\"background-color: {'yellow' if x==1 else 'white'}\"\n",
    "    display(s.style.applymap(highlight_ones))\n",
    "s = sample_set()\n",
    "pp_set(sample_set())"
   ]
  },
  {
   "cell_type": "markdown",
   "metadata": {
    "slideshow": {
     "slide_type": "slide"
    }
   },
   "source": [
    "# Step 2: Jaccard Similarity"
   ]
  },
  {
   "cell_type": "markdown",
   "metadata": {
    "slideshow": {
     "slide_type": "slide"
    }
   },
   "source": [
    "The Jaccard Similarity of a pair of sets is defined as:\n",
    "\n",
    "$$ jac\\_sim(A,B) = \\frac{|A\\cap B|}{|A \\cup B|}$$\n",
    "\n",
    "Examples:\n",
    "\n",
    "$$ jac\\_sim(\\{A,B,C\\}, \\{A,B,D\\}) = \\frac{1}{2}$$\n",
    "$$ jac\\_sim(\\{A,C\\}, \\{A,B,D\\}) = \\frac{1}{4}$$\n",
    "$$ jac\\_sim(\\{C\\}, \\{A,B,D\\}) = \\frac{0}{4}$$\n",
    "$$ jac\\_sim(\\{A,B,C,D\\}, \\{A,B,C,E\\}) = \\frac{3}{5}$$"
   ]
  },
  {
   "cell_type": "markdown",
   "metadata": {
    "slideshow": {
     "slide_type": "slide"
    }
   },
   "source": [
    "# Step 3: Minhash"
   ]
  },
  {
   "cell_type": "markdown",
   "metadata": {
    "slideshow": {
     "slide_type": "subslide"
    }
   },
   "source": [
    "The operation to get the minhash of a set:\n",
    "1. Permute the enumeration of the Universe.\n",
    "2. The minhash of a set is the first present element under the new enumeration.\n",
    "\n",
    "Example:\n",
    "\n",
    "Suppose *ABCDEFGHIJKLMNOP* is permuted to *HIDCABJEFKLMNOPG*.\n",
    "Then, {ABD}\n",
    "<table> \n",
    "    <tr> <td> A </td> <td> 1 </tr>\n",
    "    <tr> <td> B </td> <td> 1 </tr>\n",
    "    <tr> <td> C </td> <td> 0 </tr>\n",
    "    <tr> <td> D </td> <td> 1 </tr>\n",
    "    <tr> <td> E </td> <td> 0 </tr>\n",
    "    <tr> <td> F </td> <td> ... </tr>\n",
    "</table>\n",
    "will become \n",
    "<table> \n",
    "    <tr> <td> H </td> <td> 0 </tr>\n",
    "    <tr> <td> I </td> <td> 0 </tr>\n",
    "    <tr> <td style=\"background-color:yellow\"> D </td> <td style=\"background-color:yellow\"> 1 </tr>\n",
    "    <tr> <td> C </td> <td> 0 </tr>\n",
    "    <tr> <td> A </td> <td> 1 </tr>\n",
    "    <tr> <td> B </td> <td> 1 </tr>\n",
    "    <tr> <td> J </td> <td> ... </tr>\n",
    "</table>\n",
    "\n",
    "and so the minhash of ABD under this permutation is `D`."
   ]
  },
  {
   "cell_type": "code",
   "execution_count": 51,
   "metadata": {
    "slideshow": {
     "slide_type": "skip"
    }
   },
   "outputs": [
    {
     "data": {
      "text/html": [
       "<style>\n",
       ".output {\n",
       "    flex-direction: row;\n",
       "}\n",
       "</style>"
      ],
      "text/plain": [
       "<IPython.core.display.HTML object>"
      ]
     },
     "execution_count": 51,
     "metadata": {},
     "output_type": "execute_result"
    }
   ],
   "source": [
    "from IPython.display import display, HTML\n",
    "\n",
    "CSS = \"\"\"\n",
    ".output {\n",
    "    flex-direction: row;\n",
    "}\n",
    "\"\"\"\n",
    "\n",
    "HTML('<style>{}</style>'.format(CSS))"
   ]
  },
  {
   "cell_type": "code",
   "execution_count": 70,
   "metadata": {
    "slideshow": {
     "slide_type": "slide"
    }
   },
   "outputs": [
    {
     "data": {
      "text/html": [
       "<style  type=\"text/css\" >\n",
       "    #T_7229a4d6_3451_11ea_93c5_df4cc2504b31row0_col0 {\n",
       "            background-color:  yellow;\n",
       "        }    #T_7229a4d6_3451_11ea_93c5_df4cc2504b31row1_col0 {\n",
       "            background-color:  white;\n",
       "        }    #T_7229a4d6_3451_11ea_93c5_df4cc2504b31row2_col0 {\n",
       "            background-color:  white;\n",
       "        }    #T_7229a4d6_3451_11ea_93c5_df4cc2504b31row3_col0 {\n",
       "            background-color:  white;\n",
       "        }    #T_7229a4d6_3451_11ea_93c5_df4cc2504b31row4_col0 {\n",
       "            background-color:  white;\n",
       "        }    #T_7229a4d6_3451_11ea_93c5_df4cc2504b31row5_col0 {\n",
       "            background-color:  white;\n",
       "        }    #T_7229a4d6_3451_11ea_93c5_df4cc2504b31row6_col0 {\n",
       "            background-color:  white;\n",
       "        }    #T_7229a4d6_3451_11ea_93c5_df4cc2504b31row7_col0 {\n",
       "            background-color:  yellow;\n",
       "        }    #T_7229a4d6_3451_11ea_93c5_df4cc2504b31row8_col0 {\n",
       "            background-color:  white;\n",
       "        }    #T_7229a4d6_3451_11ea_93c5_df4cc2504b31row9_col0 {\n",
       "            background-color:  yellow;\n",
       "        }    #T_7229a4d6_3451_11ea_93c5_df4cc2504b31row10_col0 {\n",
       "            background-color:  yellow;\n",
       "        }    #T_7229a4d6_3451_11ea_93c5_df4cc2504b31row11_col0 {\n",
       "            background-color:  yellow;\n",
       "        }    #T_7229a4d6_3451_11ea_93c5_df4cc2504b31row12_col0 {\n",
       "            background-color:  yellow;\n",
       "        }    #T_7229a4d6_3451_11ea_93c5_df4cc2504b31row13_col0 {\n",
       "            background-color:  yellow;\n",
       "        }    #T_7229a4d6_3451_11ea_93c5_df4cc2504b31row14_col0 {\n",
       "            background-color:  white;\n",
       "        }    #T_7229a4d6_3451_11ea_93c5_df4cc2504b31row15_col0 {\n",
       "            background-color:  yellow;\n",
       "        }</style><table id=\"T_7229a4d6_3451_11ea_93c5_df4cc2504b31\" ><thead>    <tr>        <th class=\"blank level0\" ></th>        <th class=\"col_heading level0 col0\" >0</th>    </tr></thead><tbody>\n",
       "                <tr>\n",
       "                        <th id=\"T_7229a4d6_3451_11ea_93c5_df4cc2504b31level0_row0\" class=\"row_heading level0 row0\" >A</th>\n",
       "                        <td id=\"T_7229a4d6_3451_11ea_93c5_df4cc2504b31row0_col0\" class=\"data row0 col0\" >1</td>\n",
       "            </tr>\n",
       "            <tr>\n",
       "                        <th id=\"T_7229a4d6_3451_11ea_93c5_df4cc2504b31level0_row1\" class=\"row_heading level0 row1\" >B</th>\n",
       "                        <td id=\"T_7229a4d6_3451_11ea_93c5_df4cc2504b31row1_col0\" class=\"data row1 col0\" >0</td>\n",
       "            </tr>\n",
       "            <tr>\n",
       "                        <th id=\"T_7229a4d6_3451_11ea_93c5_df4cc2504b31level0_row2\" class=\"row_heading level0 row2\" >C</th>\n",
       "                        <td id=\"T_7229a4d6_3451_11ea_93c5_df4cc2504b31row2_col0\" class=\"data row2 col0\" >0</td>\n",
       "            </tr>\n",
       "            <tr>\n",
       "                        <th id=\"T_7229a4d6_3451_11ea_93c5_df4cc2504b31level0_row3\" class=\"row_heading level0 row3\" >D</th>\n",
       "                        <td id=\"T_7229a4d6_3451_11ea_93c5_df4cc2504b31row3_col0\" class=\"data row3 col0\" >0</td>\n",
       "            </tr>\n",
       "            <tr>\n",
       "                        <th id=\"T_7229a4d6_3451_11ea_93c5_df4cc2504b31level0_row4\" class=\"row_heading level0 row4\" >E</th>\n",
       "                        <td id=\"T_7229a4d6_3451_11ea_93c5_df4cc2504b31row4_col0\" class=\"data row4 col0\" >0</td>\n",
       "            </tr>\n",
       "            <tr>\n",
       "                        <th id=\"T_7229a4d6_3451_11ea_93c5_df4cc2504b31level0_row5\" class=\"row_heading level0 row5\" >F</th>\n",
       "                        <td id=\"T_7229a4d6_3451_11ea_93c5_df4cc2504b31row5_col0\" class=\"data row5 col0\" >0</td>\n",
       "            </tr>\n",
       "            <tr>\n",
       "                        <th id=\"T_7229a4d6_3451_11ea_93c5_df4cc2504b31level0_row6\" class=\"row_heading level0 row6\" >G</th>\n",
       "                        <td id=\"T_7229a4d6_3451_11ea_93c5_df4cc2504b31row6_col0\" class=\"data row6 col0\" >0</td>\n",
       "            </tr>\n",
       "            <tr>\n",
       "                        <th id=\"T_7229a4d6_3451_11ea_93c5_df4cc2504b31level0_row7\" class=\"row_heading level0 row7\" >H</th>\n",
       "                        <td id=\"T_7229a4d6_3451_11ea_93c5_df4cc2504b31row7_col0\" class=\"data row7 col0\" >1</td>\n",
       "            </tr>\n",
       "            <tr>\n",
       "                        <th id=\"T_7229a4d6_3451_11ea_93c5_df4cc2504b31level0_row8\" class=\"row_heading level0 row8\" >I</th>\n",
       "                        <td id=\"T_7229a4d6_3451_11ea_93c5_df4cc2504b31row8_col0\" class=\"data row8 col0\" >0</td>\n",
       "            </tr>\n",
       "            <tr>\n",
       "                        <th id=\"T_7229a4d6_3451_11ea_93c5_df4cc2504b31level0_row9\" class=\"row_heading level0 row9\" >J</th>\n",
       "                        <td id=\"T_7229a4d6_3451_11ea_93c5_df4cc2504b31row9_col0\" class=\"data row9 col0\" >1</td>\n",
       "            </tr>\n",
       "            <tr>\n",
       "                        <th id=\"T_7229a4d6_3451_11ea_93c5_df4cc2504b31level0_row10\" class=\"row_heading level0 row10\" >K</th>\n",
       "                        <td id=\"T_7229a4d6_3451_11ea_93c5_df4cc2504b31row10_col0\" class=\"data row10 col0\" >1</td>\n",
       "            </tr>\n",
       "            <tr>\n",
       "                        <th id=\"T_7229a4d6_3451_11ea_93c5_df4cc2504b31level0_row11\" class=\"row_heading level0 row11\" >L</th>\n",
       "                        <td id=\"T_7229a4d6_3451_11ea_93c5_df4cc2504b31row11_col0\" class=\"data row11 col0\" >1</td>\n",
       "            </tr>\n",
       "            <tr>\n",
       "                        <th id=\"T_7229a4d6_3451_11ea_93c5_df4cc2504b31level0_row12\" class=\"row_heading level0 row12\" >M</th>\n",
       "                        <td id=\"T_7229a4d6_3451_11ea_93c5_df4cc2504b31row12_col0\" class=\"data row12 col0\" >1</td>\n",
       "            </tr>\n",
       "            <tr>\n",
       "                        <th id=\"T_7229a4d6_3451_11ea_93c5_df4cc2504b31level0_row13\" class=\"row_heading level0 row13\" >N</th>\n",
       "                        <td id=\"T_7229a4d6_3451_11ea_93c5_df4cc2504b31row13_col0\" class=\"data row13 col0\" >1</td>\n",
       "            </tr>\n",
       "            <tr>\n",
       "                        <th id=\"T_7229a4d6_3451_11ea_93c5_df4cc2504b31level0_row14\" class=\"row_heading level0 row14\" >O</th>\n",
       "                        <td id=\"T_7229a4d6_3451_11ea_93c5_df4cc2504b31row14_col0\" class=\"data row14 col0\" >0</td>\n",
       "            </tr>\n",
       "            <tr>\n",
       "                        <th id=\"T_7229a4d6_3451_11ea_93c5_df4cc2504b31level0_row15\" class=\"row_heading level0 row15\" >P</th>\n",
       "                        <td id=\"T_7229a4d6_3451_11ea_93c5_df4cc2504b31row15_col0\" class=\"data row15 col0\" >1</td>\n",
       "            </tr>\n",
       "    </tbody></table>"
      ],
      "text/plain": [
       "<pandas.io.formats.style.Styler at 0x7f04e5776d50>"
      ]
     },
     "metadata": {},
     "output_type": "display_data"
    },
    {
     "data": {
      "text/plain": [
       "'=> permute =>'"
      ]
     },
     "metadata": {},
     "output_type": "display_data"
    },
    {
     "data": {
      "text/html": [
       "<style  type=\"text/css\" >\n",
       "    #T_7229a4d7_3451_11ea_93c5_df4cc2504b31row0_col0 {\n",
       "            background-color:  white;\n",
       "        }    #T_7229a4d7_3451_11ea_93c5_df4cc2504b31row1_col0 {\n",
       "            background-color:  white;\n",
       "        }    #T_7229a4d7_3451_11ea_93c5_df4cc2504b31row2_col0 {\n",
       "            background-color:  yellow;\n",
       "        }    #T_7229a4d7_3451_11ea_93c5_df4cc2504b31row3_col0 {\n",
       "            background-color:  white;\n",
       "        }    #T_7229a4d7_3451_11ea_93c5_df4cc2504b31row4_col0 {\n",
       "            background-color:  yellow;\n",
       "        }    #T_7229a4d7_3451_11ea_93c5_df4cc2504b31row5_col0 {\n",
       "            background-color:  white;\n",
       "        }    #T_7229a4d7_3451_11ea_93c5_df4cc2504b31row6_col0 {\n",
       "            background-color:  yellow;\n",
       "        }    #T_7229a4d7_3451_11ea_93c5_df4cc2504b31row7_col0 {\n",
       "            background-color:  yellow;\n",
       "        }    #T_7229a4d7_3451_11ea_93c5_df4cc2504b31row8_col0 {\n",
       "            background-color:  white;\n",
       "        }    #T_7229a4d7_3451_11ea_93c5_df4cc2504b31row9_col0 {\n",
       "            background-color:  yellow;\n",
       "        }    #T_7229a4d7_3451_11ea_93c5_df4cc2504b31row10_col0 {\n",
       "            background-color:  yellow;\n",
       "        }    #T_7229a4d7_3451_11ea_93c5_df4cc2504b31row11_col0 {\n",
       "            background-color:  yellow;\n",
       "        }    #T_7229a4d7_3451_11ea_93c5_df4cc2504b31row12_col0 {\n",
       "            background-color:  yellow;\n",
       "        }    #T_7229a4d7_3451_11ea_93c5_df4cc2504b31row13_col0 {\n",
       "            background-color:  white;\n",
       "        }    #T_7229a4d7_3451_11ea_93c5_df4cc2504b31row14_col0 {\n",
       "            background-color:  white;\n",
       "        }    #T_7229a4d7_3451_11ea_93c5_df4cc2504b31row15_col0 {\n",
       "            background-color:  white;\n",
       "        }</style><table id=\"T_7229a4d7_3451_11ea_93c5_df4cc2504b31\" ><thead>    <tr>        <th class=\"blank level0\" ></th>        <th class=\"col_heading level0 col0\" >0</th>    </tr></thead><tbody>\n",
       "                <tr>\n",
       "                        <th id=\"T_7229a4d7_3451_11ea_93c5_df4cc2504b31level0_row0\" class=\"row_heading level0 row0\" >D</th>\n",
       "                        <td id=\"T_7229a4d7_3451_11ea_93c5_df4cc2504b31row0_col0\" class=\"data row0 col0\" >0</td>\n",
       "            </tr>\n",
       "            <tr>\n",
       "                        <th id=\"T_7229a4d7_3451_11ea_93c5_df4cc2504b31level0_row1\" class=\"row_heading level0 row1\" >O</th>\n",
       "                        <td id=\"T_7229a4d7_3451_11ea_93c5_df4cc2504b31row1_col0\" class=\"data row1 col0\" >0</td>\n",
       "            </tr>\n",
       "            <tr>\n",
       "                        <th id=\"T_7229a4d7_3451_11ea_93c5_df4cc2504b31level0_row2\" class=\"row_heading level0 row2\" >J</th>\n",
       "                        <td id=\"T_7229a4d7_3451_11ea_93c5_df4cc2504b31row2_col0\" class=\"data row2 col0\" >1</td>\n",
       "            </tr>\n",
       "            <tr>\n",
       "                        <th id=\"T_7229a4d7_3451_11ea_93c5_df4cc2504b31level0_row3\" class=\"row_heading level0 row3\" >E</th>\n",
       "                        <td id=\"T_7229a4d7_3451_11ea_93c5_df4cc2504b31row3_col0\" class=\"data row3 col0\" >0</td>\n",
       "            </tr>\n",
       "            <tr>\n",
       "                        <th id=\"T_7229a4d7_3451_11ea_93c5_df4cc2504b31level0_row4\" class=\"row_heading level0 row4\" >H</th>\n",
       "                        <td id=\"T_7229a4d7_3451_11ea_93c5_df4cc2504b31row4_col0\" class=\"data row4 col0\" >1</td>\n",
       "            </tr>\n",
       "            <tr>\n",
       "                        <th id=\"T_7229a4d7_3451_11ea_93c5_df4cc2504b31level0_row5\" class=\"row_heading level0 row5\" >B</th>\n",
       "                        <td id=\"T_7229a4d7_3451_11ea_93c5_df4cc2504b31row5_col0\" class=\"data row5 col0\" >0</td>\n",
       "            </tr>\n",
       "            <tr>\n",
       "                        <th id=\"T_7229a4d7_3451_11ea_93c5_df4cc2504b31level0_row6\" class=\"row_heading level0 row6\" >M</th>\n",
       "                        <td id=\"T_7229a4d7_3451_11ea_93c5_df4cc2504b31row6_col0\" class=\"data row6 col0\" >1</td>\n",
       "            </tr>\n",
       "            <tr>\n",
       "                        <th id=\"T_7229a4d7_3451_11ea_93c5_df4cc2504b31level0_row7\" class=\"row_heading level0 row7\" >N</th>\n",
       "                        <td id=\"T_7229a4d7_3451_11ea_93c5_df4cc2504b31row7_col0\" class=\"data row7 col0\" >1</td>\n",
       "            </tr>\n",
       "            <tr>\n",
       "                        <th id=\"T_7229a4d7_3451_11ea_93c5_df4cc2504b31level0_row8\" class=\"row_heading level0 row8\" >C</th>\n",
       "                        <td id=\"T_7229a4d7_3451_11ea_93c5_df4cc2504b31row8_col0\" class=\"data row8 col0\" >0</td>\n",
       "            </tr>\n",
       "            <tr>\n",
       "                        <th id=\"T_7229a4d7_3451_11ea_93c5_df4cc2504b31level0_row9\" class=\"row_heading level0 row9\" >K</th>\n",
       "                        <td id=\"T_7229a4d7_3451_11ea_93c5_df4cc2504b31row9_col0\" class=\"data row9 col0\" >1</td>\n",
       "            </tr>\n",
       "            <tr>\n",
       "                        <th id=\"T_7229a4d7_3451_11ea_93c5_df4cc2504b31level0_row10\" class=\"row_heading level0 row10\" >L</th>\n",
       "                        <td id=\"T_7229a4d7_3451_11ea_93c5_df4cc2504b31row10_col0\" class=\"data row10 col0\" >1</td>\n",
       "            </tr>\n",
       "            <tr>\n",
       "                        <th id=\"T_7229a4d7_3451_11ea_93c5_df4cc2504b31level0_row11\" class=\"row_heading level0 row11\" >A</th>\n",
       "                        <td id=\"T_7229a4d7_3451_11ea_93c5_df4cc2504b31row11_col0\" class=\"data row11 col0\" >1</td>\n",
       "            </tr>\n",
       "            <tr>\n",
       "                        <th id=\"T_7229a4d7_3451_11ea_93c5_df4cc2504b31level0_row12\" class=\"row_heading level0 row12\" >P</th>\n",
       "                        <td id=\"T_7229a4d7_3451_11ea_93c5_df4cc2504b31row12_col0\" class=\"data row12 col0\" >1</td>\n",
       "            </tr>\n",
       "            <tr>\n",
       "                        <th id=\"T_7229a4d7_3451_11ea_93c5_df4cc2504b31level0_row13\" class=\"row_heading level0 row13\" >I</th>\n",
       "                        <td id=\"T_7229a4d7_3451_11ea_93c5_df4cc2504b31row13_col0\" class=\"data row13 col0\" >0</td>\n",
       "            </tr>\n",
       "            <tr>\n",
       "                        <th id=\"T_7229a4d7_3451_11ea_93c5_df4cc2504b31level0_row14\" class=\"row_heading level0 row14\" >G</th>\n",
       "                        <td id=\"T_7229a4d7_3451_11ea_93c5_df4cc2504b31row14_col0\" class=\"data row14 col0\" >0</td>\n",
       "            </tr>\n",
       "            <tr>\n",
       "                        <th id=\"T_7229a4d7_3451_11ea_93c5_df4cc2504b31level0_row15\" class=\"row_heading level0 row15\" >F</th>\n",
       "                        <td id=\"T_7229a4d7_3451_11ea_93c5_df4cc2504b31row15_col0\" class=\"data row15 col0\" >0</td>\n",
       "            </tr>\n",
       "    </tbody></table>"
      ],
      "text/plain": [
       "<pandas.io.formats.style.Styler at 0x7f04e5709490>"
      ]
     },
     "metadata": {},
     "output_type": "display_data"
    },
    {
     "data": {
      "text/plain": [
       "'=> minhash =>'"
      ]
     },
     "metadata": {},
     "output_type": "display_data"
    },
    {
     "data": {
      "text/html": [
       "<style  type=\"text/css\" >\n",
       "    #T_7229a4d8_3451_11ea_93c5_df4cc2504b31row0_col0 {\n",
       "            background-color: yellow;\n",
       "        }    #T_7229a4d8_3451_11ea_93c5_df4cc2504b31row1_col0 {\n",
       "            background-color: white;\n",
       "        }    #T_7229a4d8_3451_11ea_93c5_df4cc2504b31row2_col0 {\n",
       "            background-color: white;\n",
       "        }    #T_7229a4d8_3451_11ea_93c5_df4cc2504b31row3_col0 {\n",
       "            background-color: white;\n",
       "        }    #T_7229a4d8_3451_11ea_93c5_df4cc2504b31row4_col0 {\n",
       "            background-color: white;\n",
       "        }    #T_7229a4d8_3451_11ea_93c5_df4cc2504b31row5_col0 {\n",
       "            background-color: white;\n",
       "        }    #T_7229a4d8_3451_11ea_93c5_df4cc2504b31row6_col0 {\n",
       "            background-color: white;\n",
       "        }    #T_7229a4d8_3451_11ea_93c5_df4cc2504b31row7_col0 {\n",
       "            background-color: white;\n",
       "        }    #T_7229a4d8_3451_11ea_93c5_df4cc2504b31row8_col0 {\n",
       "            background-color: white;\n",
       "        }    #T_7229a4d8_3451_11ea_93c5_df4cc2504b31row9_col0 {\n",
       "            background-color: white;\n",
       "        }    #T_7229a4d8_3451_11ea_93c5_df4cc2504b31row10_col0 {\n",
       "            background-color: white;\n",
       "        }    #T_7229a4d8_3451_11ea_93c5_df4cc2504b31row11_col0 {\n",
       "            background-color: white;\n",
       "        }    #T_7229a4d8_3451_11ea_93c5_df4cc2504b31row12_col0 {\n",
       "            background-color: white;\n",
       "        }    #T_7229a4d8_3451_11ea_93c5_df4cc2504b31row13_col0 {\n",
       "            background-color: white;\n",
       "        }    #T_7229a4d8_3451_11ea_93c5_df4cc2504b31row14_col0 {\n",
       "            background-color: white;\n",
       "        }    #T_7229a4d8_3451_11ea_93c5_df4cc2504b31row15_col0 {\n",
       "            background-color: white;\n",
       "        }</style><table id=\"T_7229a4d8_3451_11ea_93c5_df4cc2504b31\" ><thead>    <tr>        <th class=\"blank level0\" ></th>        <th class=\"col_heading level0 col0\" >0</th>    </tr></thead><tbody>\n",
       "                <tr>\n",
       "                        <th id=\"T_7229a4d8_3451_11ea_93c5_df4cc2504b31level0_row0\" class=\"row_heading level0 row0\" >A</th>\n",
       "                        <td id=\"T_7229a4d8_3451_11ea_93c5_df4cc2504b31row0_col0\" class=\"data row0 col0\" >1</td>\n",
       "            </tr>\n",
       "            <tr>\n",
       "                        <th id=\"T_7229a4d8_3451_11ea_93c5_df4cc2504b31level0_row1\" class=\"row_heading level0 row1\" >B</th>\n",
       "                        <td id=\"T_7229a4d8_3451_11ea_93c5_df4cc2504b31row1_col0\" class=\"data row1 col0\" >0</td>\n",
       "            </tr>\n",
       "            <tr>\n",
       "                        <th id=\"T_7229a4d8_3451_11ea_93c5_df4cc2504b31level0_row2\" class=\"row_heading level0 row2\" >C</th>\n",
       "                        <td id=\"T_7229a4d8_3451_11ea_93c5_df4cc2504b31row2_col0\" class=\"data row2 col0\" >0</td>\n",
       "            </tr>\n",
       "            <tr>\n",
       "                        <th id=\"T_7229a4d8_3451_11ea_93c5_df4cc2504b31level0_row3\" class=\"row_heading level0 row3\" >D</th>\n",
       "                        <td id=\"T_7229a4d8_3451_11ea_93c5_df4cc2504b31row3_col0\" class=\"data row3 col0\" >0</td>\n",
       "            </tr>\n",
       "            <tr>\n",
       "                        <th id=\"T_7229a4d8_3451_11ea_93c5_df4cc2504b31level0_row4\" class=\"row_heading level0 row4\" >E</th>\n",
       "                        <td id=\"T_7229a4d8_3451_11ea_93c5_df4cc2504b31row4_col0\" class=\"data row4 col0\" >0</td>\n",
       "            </tr>\n",
       "            <tr>\n",
       "                        <th id=\"T_7229a4d8_3451_11ea_93c5_df4cc2504b31level0_row5\" class=\"row_heading level0 row5\" >F</th>\n",
       "                        <td id=\"T_7229a4d8_3451_11ea_93c5_df4cc2504b31row5_col0\" class=\"data row5 col0\" >0</td>\n",
       "            </tr>\n",
       "            <tr>\n",
       "                        <th id=\"T_7229a4d8_3451_11ea_93c5_df4cc2504b31level0_row6\" class=\"row_heading level0 row6\" >G</th>\n",
       "                        <td id=\"T_7229a4d8_3451_11ea_93c5_df4cc2504b31row6_col0\" class=\"data row6 col0\" >0</td>\n",
       "            </tr>\n",
       "            <tr>\n",
       "                        <th id=\"T_7229a4d8_3451_11ea_93c5_df4cc2504b31level0_row7\" class=\"row_heading level0 row7\" >H</th>\n",
       "                        <td id=\"T_7229a4d8_3451_11ea_93c5_df4cc2504b31row7_col0\" class=\"data row7 col0\" >1</td>\n",
       "            </tr>\n",
       "            <tr>\n",
       "                        <th id=\"T_7229a4d8_3451_11ea_93c5_df4cc2504b31level0_row8\" class=\"row_heading level0 row8\" >I</th>\n",
       "                        <td id=\"T_7229a4d8_3451_11ea_93c5_df4cc2504b31row8_col0\" class=\"data row8 col0\" >0</td>\n",
       "            </tr>\n",
       "            <tr>\n",
       "                        <th id=\"T_7229a4d8_3451_11ea_93c5_df4cc2504b31level0_row9\" class=\"row_heading level0 row9\" >J</th>\n",
       "                        <td id=\"T_7229a4d8_3451_11ea_93c5_df4cc2504b31row9_col0\" class=\"data row9 col0\" >1</td>\n",
       "            </tr>\n",
       "            <tr>\n",
       "                        <th id=\"T_7229a4d8_3451_11ea_93c5_df4cc2504b31level0_row10\" class=\"row_heading level0 row10\" >K</th>\n",
       "                        <td id=\"T_7229a4d8_3451_11ea_93c5_df4cc2504b31row10_col0\" class=\"data row10 col0\" >1</td>\n",
       "            </tr>\n",
       "            <tr>\n",
       "                        <th id=\"T_7229a4d8_3451_11ea_93c5_df4cc2504b31level0_row11\" class=\"row_heading level0 row11\" >L</th>\n",
       "                        <td id=\"T_7229a4d8_3451_11ea_93c5_df4cc2504b31row11_col0\" class=\"data row11 col0\" >1</td>\n",
       "            </tr>\n",
       "            <tr>\n",
       "                        <th id=\"T_7229a4d8_3451_11ea_93c5_df4cc2504b31level0_row12\" class=\"row_heading level0 row12\" >M</th>\n",
       "                        <td id=\"T_7229a4d8_3451_11ea_93c5_df4cc2504b31row12_col0\" class=\"data row12 col0\" >1</td>\n",
       "            </tr>\n",
       "            <tr>\n",
       "                        <th id=\"T_7229a4d8_3451_11ea_93c5_df4cc2504b31level0_row13\" class=\"row_heading level0 row13\" >N</th>\n",
       "                        <td id=\"T_7229a4d8_3451_11ea_93c5_df4cc2504b31row13_col0\" class=\"data row13 col0\" >1</td>\n",
       "            </tr>\n",
       "            <tr>\n",
       "                        <th id=\"T_7229a4d8_3451_11ea_93c5_df4cc2504b31level0_row14\" class=\"row_heading level0 row14\" >O</th>\n",
       "                        <td id=\"T_7229a4d8_3451_11ea_93c5_df4cc2504b31row14_col0\" class=\"data row14 col0\" >0</td>\n",
       "            </tr>\n",
       "            <tr>\n",
       "                        <th id=\"T_7229a4d8_3451_11ea_93c5_df4cc2504b31level0_row15\" class=\"row_heading level0 row15\" >P</th>\n",
       "                        <td id=\"T_7229a4d8_3451_11ea_93c5_df4cc2504b31row15_col0\" class=\"data row15 col0\" >1</td>\n",
       "            </tr>\n",
       "    </tbody></table>"
      ],
      "text/plain": [
       "<pandas.io.formats.style.Styler at 0x7f04e5d86750>"
      ]
     },
     "metadata": {},
     "output_type": "display_data"
    }
   ],
   "source": [
    "def permute(s):\n",
    "    return s.reindex(np.random.permutation(s.index))\n",
    "    \n",
    "def pp_minhash(s, permute_set=True):\n",
    "    p = permute(s) if permute_set else s\n",
    "    def find_first(rows):\n",
    "        res = ['background-color:white']  * len(rows)\n",
    "        res[rows.tolist().index(1)] = 'background-color:yellow'\n",
    "        return res\n",
    "    display(p.style.apply(find_first, axis=0))\n",
    "\n",
    "pp_set(s)\n",
    "p = permute(s)\n",
    "display('=> permute =>')\n",
    "pp_set(p)\n",
    "display('=> minhash =>')\n",
    "pp_minhash(s, permute_set=False)"
   ]
  },
  {
   "cell_type": "markdown",
   "metadata": {
    "heading_collapsed": true,
    "slideshow": {
     "slide_type": "slide"
    }
   },
   "source": [
    "# Step 4: Minhash equality is jaccard similarity"
   ]
  },
  {
   "cell_type": "code",
   "execution_count": 77,
   "metadata": {
    "hidden": true,
    "slideshow": {
     "slide_type": "subslide"
    }
   },
   "outputs": [
    {
     "data": {
      "text/html": [
       "<style  type=\"text/css\" >\n",
       "    #T_9ef2a2fc_3451_11ea_93c5_df4cc2504b31row0_col0 {\n",
       "            background-color:  white;\n",
       "        }    #T_9ef2a2fc_3451_11ea_93c5_df4cc2504b31row0_col1 {\n",
       "            background-color:  yellow;\n",
       "        }    #T_9ef2a2fc_3451_11ea_93c5_df4cc2504b31row1_col0 {\n",
       "            background-color:  yellow;\n",
       "        }    #T_9ef2a2fc_3451_11ea_93c5_df4cc2504b31row1_col1 {\n",
       "            background-color:  white;\n",
       "        }    #T_9ef2a2fc_3451_11ea_93c5_df4cc2504b31row2_col0 {\n",
       "            background-color:  yellow;\n",
       "        }    #T_9ef2a2fc_3451_11ea_93c5_df4cc2504b31row2_col1 {\n",
       "            background-color:  yellow;\n",
       "        }    #T_9ef2a2fc_3451_11ea_93c5_df4cc2504b31row3_col0 {\n",
       "            background-color:  yellow;\n",
       "        }    #T_9ef2a2fc_3451_11ea_93c5_df4cc2504b31row3_col1 {\n",
       "            background-color:  yellow;\n",
       "        }    #T_9ef2a2fc_3451_11ea_93c5_df4cc2504b31row4_col0 {\n",
       "            background-color:  white;\n",
       "        }    #T_9ef2a2fc_3451_11ea_93c5_df4cc2504b31row4_col1 {\n",
       "            background-color:  white;\n",
       "        }    #T_9ef2a2fc_3451_11ea_93c5_df4cc2504b31row5_col0 {\n",
       "            background-color:  yellow;\n",
       "        }    #T_9ef2a2fc_3451_11ea_93c5_df4cc2504b31row5_col1 {\n",
       "            background-color:  yellow;\n",
       "        }    #T_9ef2a2fc_3451_11ea_93c5_df4cc2504b31row6_col0 {\n",
       "            background-color:  yellow;\n",
       "        }    #T_9ef2a2fc_3451_11ea_93c5_df4cc2504b31row6_col1 {\n",
       "            background-color:  yellow;\n",
       "        }    #T_9ef2a2fc_3451_11ea_93c5_df4cc2504b31row7_col0 {\n",
       "            background-color:  white;\n",
       "        }    #T_9ef2a2fc_3451_11ea_93c5_df4cc2504b31row7_col1 {\n",
       "            background-color:  white;\n",
       "        }    #T_9ef2a2fc_3451_11ea_93c5_df4cc2504b31row8_col0 {\n",
       "            background-color:  white;\n",
       "        }    #T_9ef2a2fc_3451_11ea_93c5_df4cc2504b31row8_col1 {\n",
       "            background-color:  yellow;\n",
       "        }    #T_9ef2a2fc_3451_11ea_93c5_df4cc2504b31row9_col0 {\n",
       "            background-color:  white;\n",
       "        }    #T_9ef2a2fc_3451_11ea_93c5_df4cc2504b31row9_col1 {\n",
       "            background-color:  yellow;\n",
       "        }    #T_9ef2a2fc_3451_11ea_93c5_df4cc2504b31row10_col0 {\n",
       "            background-color:  yellow;\n",
       "        }    #T_9ef2a2fc_3451_11ea_93c5_df4cc2504b31row10_col1 {\n",
       "            background-color:  yellow;\n",
       "        }    #T_9ef2a2fc_3451_11ea_93c5_df4cc2504b31row11_col0 {\n",
       "            background-color:  yellow;\n",
       "        }    #T_9ef2a2fc_3451_11ea_93c5_df4cc2504b31row11_col1 {\n",
       "            background-color:  yellow;\n",
       "        }    #T_9ef2a2fc_3451_11ea_93c5_df4cc2504b31row12_col0 {\n",
       "            background-color:  yellow;\n",
       "        }    #T_9ef2a2fc_3451_11ea_93c5_df4cc2504b31row12_col1 {\n",
       "            background-color:  yellow;\n",
       "        }    #T_9ef2a2fc_3451_11ea_93c5_df4cc2504b31row13_col0 {\n",
       "            background-color:  yellow;\n",
       "        }    #T_9ef2a2fc_3451_11ea_93c5_df4cc2504b31row13_col1 {\n",
       "            background-color:  white;\n",
       "        }    #T_9ef2a2fc_3451_11ea_93c5_df4cc2504b31row14_col0 {\n",
       "            background-color:  yellow;\n",
       "        }    #T_9ef2a2fc_3451_11ea_93c5_df4cc2504b31row14_col1 {\n",
       "            background-color:  white;\n",
       "        }    #T_9ef2a2fc_3451_11ea_93c5_df4cc2504b31row15_col0 {\n",
       "            background-color:  yellow;\n",
       "        }    #T_9ef2a2fc_3451_11ea_93c5_df4cc2504b31row15_col1 {\n",
       "            background-color:  yellow;\n",
       "        }</style><table id=\"T_9ef2a2fc_3451_11ea_93c5_df4cc2504b31\" ><thead>    <tr>        <th class=\"blank level0\" ></th>        <th class=\"col_heading level0 col0\" >A</th>        <th class=\"col_heading level0 col1\" >B</th>    </tr></thead><tbody>\n",
       "                <tr>\n",
       "                        <th id=\"T_9ef2a2fc_3451_11ea_93c5_df4cc2504b31level0_row0\" class=\"row_heading level0 row0\" >A</th>\n",
       "                        <td id=\"T_9ef2a2fc_3451_11ea_93c5_df4cc2504b31row0_col0\" class=\"data row0 col0\" >0</td>\n",
       "                        <td id=\"T_9ef2a2fc_3451_11ea_93c5_df4cc2504b31row0_col1\" class=\"data row0 col1\" >1</td>\n",
       "            </tr>\n",
       "            <tr>\n",
       "                        <th id=\"T_9ef2a2fc_3451_11ea_93c5_df4cc2504b31level0_row1\" class=\"row_heading level0 row1\" >B</th>\n",
       "                        <td id=\"T_9ef2a2fc_3451_11ea_93c5_df4cc2504b31row1_col0\" class=\"data row1 col0\" >1</td>\n",
       "                        <td id=\"T_9ef2a2fc_3451_11ea_93c5_df4cc2504b31row1_col1\" class=\"data row1 col1\" >0</td>\n",
       "            </tr>\n",
       "            <tr>\n",
       "                        <th id=\"T_9ef2a2fc_3451_11ea_93c5_df4cc2504b31level0_row2\" class=\"row_heading level0 row2\" >C</th>\n",
       "                        <td id=\"T_9ef2a2fc_3451_11ea_93c5_df4cc2504b31row2_col0\" class=\"data row2 col0\" >1</td>\n",
       "                        <td id=\"T_9ef2a2fc_3451_11ea_93c5_df4cc2504b31row2_col1\" class=\"data row2 col1\" >1</td>\n",
       "            </tr>\n",
       "            <tr>\n",
       "                        <th id=\"T_9ef2a2fc_3451_11ea_93c5_df4cc2504b31level0_row3\" class=\"row_heading level0 row3\" >D</th>\n",
       "                        <td id=\"T_9ef2a2fc_3451_11ea_93c5_df4cc2504b31row3_col0\" class=\"data row3 col0\" >1</td>\n",
       "                        <td id=\"T_9ef2a2fc_3451_11ea_93c5_df4cc2504b31row3_col1\" class=\"data row3 col1\" >1</td>\n",
       "            </tr>\n",
       "            <tr>\n",
       "                        <th id=\"T_9ef2a2fc_3451_11ea_93c5_df4cc2504b31level0_row4\" class=\"row_heading level0 row4\" >E</th>\n",
       "                        <td id=\"T_9ef2a2fc_3451_11ea_93c5_df4cc2504b31row4_col0\" class=\"data row4 col0\" >0</td>\n",
       "                        <td id=\"T_9ef2a2fc_3451_11ea_93c5_df4cc2504b31row4_col1\" class=\"data row4 col1\" >0</td>\n",
       "            </tr>\n",
       "            <tr>\n",
       "                        <th id=\"T_9ef2a2fc_3451_11ea_93c5_df4cc2504b31level0_row5\" class=\"row_heading level0 row5\" >F</th>\n",
       "                        <td id=\"T_9ef2a2fc_3451_11ea_93c5_df4cc2504b31row5_col0\" class=\"data row5 col0\" >1</td>\n",
       "                        <td id=\"T_9ef2a2fc_3451_11ea_93c5_df4cc2504b31row5_col1\" class=\"data row5 col1\" >1</td>\n",
       "            </tr>\n",
       "            <tr>\n",
       "                        <th id=\"T_9ef2a2fc_3451_11ea_93c5_df4cc2504b31level0_row6\" class=\"row_heading level0 row6\" >G</th>\n",
       "                        <td id=\"T_9ef2a2fc_3451_11ea_93c5_df4cc2504b31row6_col0\" class=\"data row6 col0\" >1</td>\n",
       "                        <td id=\"T_9ef2a2fc_3451_11ea_93c5_df4cc2504b31row6_col1\" class=\"data row6 col1\" >1</td>\n",
       "            </tr>\n",
       "            <tr>\n",
       "                        <th id=\"T_9ef2a2fc_3451_11ea_93c5_df4cc2504b31level0_row7\" class=\"row_heading level0 row7\" >H</th>\n",
       "                        <td id=\"T_9ef2a2fc_3451_11ea_93c5_df4cc2504b31row7_col0\" class=\"data row7 col0\" >0</td>\n",
       "                        <td id=\"T_9ef2a2fc_3451_11ea_93c5_df4cc2504b31row7_col1\" class=\"data row7 col1\" >0</td>\n",
       "            </tr>\n",
       "            <tr>\n",
       "                        <th id=\"T_9ef2a2fc_3451_11ea_93c5_df4cc2504b31level0_row8\" class=\"row_heading level0 row8\" >I</th>\n",
       "                        <td id=\"T_9ef2a2fc_3451_11ea_93c5_df4cc2504b31row8_col0\" class=\"data row8 col0\" >0</td>\n",
       "                        <td id=\"T_9ef2a2fc_3451_11ea_93c5_df4cc2504b31row8_col1\" class=\"data row8 col1\" >1</td>\n",
       "            </tr>\n",
       "            <tr>\n",
       "                        <th id=\"T_9ef2a2fc_3451_11ea_93c5_df4cc2504b31level0_row9\" class=\"row_heading level0 row9\" >J</th>\n",
       "                        <td id=\"T_9ef2a2fc_3451_11ea_93c5_df4cc2504b31row9_col0\" class=\"data row9 col0\" >0</td>\n",
       "                        <td id=\"T_9ef2a2fc_3451_11ea_93c5_df4cc2504b31row9_col1\" class=\"data row9 col1\" >1</td>\n",
       "            </tr>\n",
       "            <tr>\n",
       "                        <th id=\"T_9ef2a2fc_3451_11ea_93c5_df4cc2504b31level0_row10\" class=\"row_heading level0 row10\" >K</th>\n",
       "                        <td id=\"T_9ef2a2fc_3451_11ea_93c5_df4cc2504b31row10_col0\" class=\"data row10 col0\" >1</td>\n",
       "                        <td id=\"T_9ef2a2fc_3451_11ea_93c5_df4cc2504b31row10_col1\" class=\"data row10 col1\" >1</td>\n",
       "            </tr>\n",
       "            <tr>\n",
       "                        <th id=\"T_9ef2a2fc_3451_11ea_93c5_df4cc2504b31level0_row11\" class=\"row_heading level0 row11\" >L</th>\n",
       "                        <td id=\"T_9ef2a2fc_3451_11ea_93c5_df4cc2504b31row11_col0\" class=\"data row11 col0\" >1</td>\n",
       "                        <td id=\"T_9ef2a2fc_3451_11ea_93c5_df4cc2504b31row11_col1\" class=\"data row11 col1\" >1</td>\n",
       "            </tr>\n",
       "            <tr>\n",
       "                        <th id=\"T_9ef2a2fc_3451_11ea_93c5_df4cc2504b31level0_row12\" class=\"row_heading level0 row12\" >M</th>\n",
       "                        <td id=\"T_9ef2a2fc_3451_11ea_93c5_df4cc2504b31row12_col0\" class=\"data row12 col0\" >1</td>\n",
       "                        <td id=\"T_9ef2a2fc_3451_11ea_93c5_df4cc2504b31row12_col1\" class=\"data row12 col1\" >1</td>\n",
       "            </tr>\n",
       "            <tr>\n",
       "                        <th id=\"T_9ef2a2fc_3451_11ea_93c5_df4cc2504b31level0_row13\" class=\"row_heading level0 row13\" >N</th>\n",
       "                        <td id=\"T_9ef2a2fc_3451_11ea_93c5_df4cc2504b31row13_col0\" class=\"data row13 col0\" >1</td>\n",
       "                        <td id=\"T_9ef2a2fc_3451_11ea_93c5_df4cc2504b31row13_col1\" class=\"data row13 col1\" >0</td>\n",
       "            </tr>\n",
       "            <tr>\n",
       "                        <th id=\"T_9ef2a2fc_3451_11ea_93c5_df4cc2504b31level0_row14\" class=\"row_heading level0 row14\" >O</th>\n",
       "                        <td id=\"T_9ef2a2fc_3451_11ea_93c5_df4cc2504b31row14_col0\" class=\"data row14 col0\" >1</td>\n",
       "                        <td id=\"T_9ef2a2fc_3451_11ea_93c5_df4cc2504b31row14_col1\" class=\"data row14 col1\" >0</td>\n",
       "            </tr>\n",
       "            <tr>\n",
       "                        <th id=\"T_9ef2a2fc_3451_11ea_93c5_df4cc2504b31level0_row15\" class=\"row_heading level0 row15\" >P</th>\n",
       "                        <td id=\"T_9ef2a2fc_3451_11ea_93c5_df4cc2504b31row15_col0\" class=\"data row15 col0\" >1</td>\n",
       "                        <td id=\"T_9ef2a2fc_3451_11ea_93c5_df4cc2504b31row15_col1\" class=\"data row15 col1\" >1</td>\n",
       "            </tr>\n",
       "    </tbody></table>"
      ],
      "text/plain": [
       "<pandas.io.formats.style.Styler at 0x7f04e56b2ad0>"
      ]
     },
     "metadata": {},
     "output_type": "display_data"
    }
   ],
   "source": [
    "pair = pd.concat([sample_set(), sample_set()], axis=1)\n",
    "pair.columns=['A','B']\n",
    "pp_set(pair)"
   ]
  },
  {
   "cell_type": "code",
   "execution_count": 78,
   "metadata": {
    "hidden": true,
    "slideshow": {
     "slide_type": "skip"
    }
   },
   "outputs": [],
   "source": [
    "def pp_jaccard(df):\n",
    "    def highlight_eq_rows(row):\n",
    "        l = row.iloc[0]\n",
    "        r = row.iloc[1]\n",
    "        if l == 0 and r == 0:\n",
    "            return ['']* 2\n",
    "        elif l != r:\n",
    "            return ['background-color: darkorange']* 2\n",
    "        else:\n",
    "            return ['background-color: lightgreen'] * 2\n",
    "    return df.style.apply(highlight_eq_rows, axis=1)"
   ]
  },
  {
   "cell_type": "code",
   "execution_count": 79,
   "metadata": {
    "hidden": true,
    "slideshow": {
     "slide_type": "subslide"
    }
   },
   "outputs": [
    {
     "data": {
      "text/html": [
       "<style  type=\"text/css\" >\n",
       "    #T_a984f8b2_3451_11ea_93c5_df4cc2504b31row0_col0 {\n",
       "            background-color:  darkorange;\n",
       "        }    #T_a984f8b2_3451_11ea_93c5_df4cc2504b31row0_col1 {\n",
       "            background-color:  darkorange;\n",
       "        }    #T_a984f8b2_3451_11ea_93c5_df4cc2504b31row1_col0 {\n",
       "            background-color:  darkorange;\n",
       "        }    #T_a984f8b2_3451_11ea_93c5_df4cc2504b31row1_col1 {\n",
       "            background-color:  darkorange;\n",
       "        }    #T_a984f8b2_3451_11ea_93c5_df4cc2504b31row2_col0 {\n",
       "            background-color:  lightgreen;\n",
       "        }    #T_a984f8b2_3451_11ea_93c5_df4cc2504b31row2_col1 {\n",
       "            background-color:  lightgreen;\n",
       "        }    #T_a984f8b2_3451_11ea_93c5_df4cc2504b31row3_col0 {\n",
       "            background-color:  lightgreen;\n",
       "        }    #T_a984f8b2_3451_11ea_93c5_df4cc2504b31row3_col1 {\n",
       "            background-color:  lightgreen;\n",
       "        }    #T_a984f8b2_3451_11ea_93c5_df4cc2504b31row5_col0 {\n",
       "            background-color:  lightgreen;\n",
       "        }    #T_a984f8b2_3451_11ea_93c5_df4cc2504b31row5_col1 {\n",
       "            background-color:  lightgreen;\n",
       "        }    #T_a984f8b2_3451_11ea_93c5_df4cc2504b31row6_col0 {\n",
       "            background-color:  lightgreen;\n",
       "        }    #T_a984f8b2_3451_11ea_93c5_df4cc2504b31row6_col1 {\n",
       "            background-color:  lightgreen;\n",
       "        }    #T_a984f8b2_3451_11ea_93c5_df4cc2504b31row8_col0 {\n",
       "            background-color:  darkorange;\n",
       "        }    #T_a984f8b2_3451_11ea_93c5_df4cc2504b31row8_col1 {\n",
       "            background-color:  darkorange;\n",
       "        }    #T_a984f8b2_3451_11ea_93c5_df4cc2504b31row9_col0 {\n",
       "            background-color:  darkorange;\n",
       "        }    #T_a984f8b2_3451_11ea_93c5_df4cc2504b31row9_col1 {\n",
       "            background-color:  darkorange;\n",
       "        }    #T_a984f8b2_3451_11ea_93c5_df4cc2504b31row10_col0 {\n",
       "            background-color:  lightgreen;\n",
       "        }    #T_a984f8b2_3451_11ea_93c5_df4cc2504b31row10_col1 {\n",
       "            background-color:  lightgreen;\n",
       "        }    #T_a984f8b2_3451_11ea_93c5_df4cc2504b31row11_col0 {\n",
       "            background-color:  lightgreen;\n",
       "        }    #T_a984f8b2_3451_11ea_93c5_df4cc2504b31row11_col1 {\n",
       "            background-color:  lightgreen;\n",
       "        }    #T_a984f8b2_3451_11ea_93c5_df4cc2504b31row12_col0 {\n",
       "            background-color:  lightgreen;\n",
       "        }    #T_a984f8b2_3451_11ea_93c5_df4cc2504b31row12_col1 {\n",
       "            background-color:  lightgreen;\n",
       "        }    #T_a984f8b2_3451_11ea_93c5_df4cc2504b31row13_col0 {\n",
       "            background-color:  darkorange;\n",
       "        }    #T_a984f8b2_3451_11ea_93c5_df4cc2504b31row13_col1 {\n",
       "            background-color:  darkorange;\n",
       "        }    #T_a984f8b2_3451_11ea_93c5_df4cc2504b31row14_col0 {\n",
       "            background-color:  darkorange;\n",
       "        }    #T_a984f8b2_3451_11ea_93c5_df4cc2504b31row14_col1 {\n",
       "            background-color:  darkorange;\n",
       "        }    #T_a984f8b2_3451_11ea_93c5_df4cc2504b31row15_col0 {\n",
       "            background-color:  lightgreen;\n",
       "        }    #T_a984f8b2_3451_11ea_93c5_df4cc2504b31row15_col1 {\n",
       "            background-color:  lightgreen;\n",
       "        }</style><table id=\"T_a984f8b2_3451_11ea_93c5_df4cc2504b31\" ><thead>    <tr>        <th class=\"blank level0\" ></th>        <th class=\"col_heading level0 col0\" >A</th>        <th class=\"col_heading level0 col1\" >B</th>    </tr></thead><tbody>\n",
       "                <tr>\n",
       "                        <th id=\"T_a984f8b2_3451_11ea_93c5_df4cc2504b31level0_row0\" class=\"row_heading level0 row0\" >A</th>\n",
       "                        <td id=\"T_a984f8b2_3451_11ea_93c5_df4cc2504b31row0_col0\" class=\"data row0 col0\" >0</td>\n",
       "                        <td id=\"T_a984f8b2_3451_11ea_93c5_df4cc2504b31row0_col1\" class=\"data row0 col1\" >1</td>\n",
       "            </tr>\n",
       "            <tr>\n",
       "                        <th id=\"T_a984f8b2_3451_11ea_93c5_df4cc2504b31level0_row1\" class=\"row_heading level0 row1\" >B</th>\n",
       "                        <td id=\"T_a984f8b2_3451_11ea_93c5_df4cc2504b31row1_col0\" class=\"data row1 col0\" >1</td>\n",
       "                        <td id=\"T_a984f8b2_3451_11ea_93c5_df4cc2504b31row1_col1\" class=\"data row1 col1\" >0</td>\n",
       "            </tr>\n",
       "            <tr>\n",
       "                        <th id=\"T_a984f8b2_3451_11ea_93c5_df4cc2504b31level0_row2\" class=\"row_heading level0 row2\" >C</th>\n",
       "                        <td id=\"T_a984f8b2_3451_11ea_93c5_df4cc2504b31row2_col0\" class=\"data row2 col0\" >1</td>\n",
       "                        <td id=\"T_a984f8b2_3451_11ea_93c5_df4cc2504b31row2_col1\" class=\"data row2 col1\" >1</td>\n",
       "            </tr>\n",
       "            <tr>\n",
       "                        <th id=\"T_a984f8b2_3451_11ea_93c5_df4cc2504b31level0_row3\" class=\"row_heading level0 row3\" >D</th>\n",
       "                        <td id=\"T_a984f8b2_3451_11ea_93c5_df4cc2504b31row3_col0\" class=\"data row3 col0\" >1</td>\n",
       "                        <td id=\"T_a984f8b2_3451_11ea_93c5_df4cc2504b31row3_col1\" class=\"data row3 col1\" >1</td>\n",
       "            </tr>\n",
       "            <tr>\n",
       "                        <th id=\"T_a984f8b2_3451_11ea_93c5_df4cc2504b31level0_row4\" class=\"row_heading level0 row4\" >E</th>\n",
       "                        <td id=\"T_a984f8b2_3451_11ea_93c5_df4cc2504b31row4_col0\" class=\"data row4 col0\" >0</td>\n",
       "                        <td id=\"T_a984f8b2_3451_11ea_93c5_df4cc2504b31row4_col1\" class=\"data row4 col1\" >0</td>\n",
       "            </tr>\n",
       "            <tr>\n",
       "                        <th id=\"T_a984f8b2_3451_11ea_93c5_df4cc2504b31level0_row5\" class=\"row_heading level0 row5\" >F</th>\n",
       "                        <td id=\"T_a984f8b2_3451_11ea_93c5_df4cc2504b31row5_col0\" class=\"data row5 col0\" >1</td>\n",
       "                        <td id=\"T_a984f8b2_3451_11ea_93c5_df4cc2504b31row5_col1\" class=\"data row5 col1\" >1</td>\n",
       "            </tr>\n",
       "            <tr>\n",
       "                        <th id=\"T_a984f8b2_3451_11ea_93c5_df4cc2504b31level0_row6\" class=\"row_heading level0 row6\" >G</th>\n",
       "                        <td id=\"T_a984f8b2_3451_11ea_93c5_df4cc2504b31row6_col0\" class=\"data row6 col0\" >1</td>\n",
       "                        <td id=\"T_a984f8b2_3451_11ea_93c5_df4cc2504b31row6_col1\" class=\"data row6 col1\" >1</td>\n",
       "            </tr>\n",
       "            <tr>\n",
       "                        <th id=\"T_a984f8b2_3451_11ea_93c5_df4cc2504b31level0_row7\" class=\"row_heading level0 row7\" >H</th>\n",
       "                        <td id=\"T_a984f8b2_3451_11ea_93c5_df4cc2504b31row7_col0\" class=\"data row7 col0\" >0</td>\n",
       "                        <td id=\"T_a984f8b2_3451_11ea_93c5_df4cc2504b31row7_col1\" class=\"data row7 col1\" >0</td>\n",
       "            </tr>\n",
       "            <tr>\n",
       "                        <th id=\"T_a984f8b2_3451_11ea_93c5_df4cc2504b31level0_row8\" class=\"row_heading level0 row8\" >I</th>\n",
       "                        <td id=\"T_a984f8b2_3451_11ea_93c5_df4cc2504b31row8_col0\" class=\"data row8 col0\" >0</td>\n",
       "                        <td id=\"T_a984f8b2_3451_11ea_93c5_df4cc2504b31row8_col1\" class=\"data row8 col1\" >1</td>\n",
       "            </tr>\n",
       "            <tr>\n",
       "                        <th id=\"T_a984f8b2_3451_11ea_93c5_df4cc2504b31level0_row9\" class=\"row_heading level0 row9\" >J</th>\n",
       "                        <td id=\"T_a984f8b2_3451_11ea_93c5_df4cc2504b31row9_col0\" class=\"data row9 col0\" >0</td>\n",
       "                        <td id=\"T_a984f8b2_3451_11ea_93c5_df4cc2504b31row9_col1\" class=\"data row9 col1\" >1</td>\n",
       "            </tr>\n",
       "            <tr>\n",
       "                        <th id=\"T_a984f8b2_3451_11ea_93c5_df4cc2504b31level0_row10\" class=\"row_heading level0 row10\" >K</th>\n",
       "                        <td id=\"T_a984f8b2_3451_11ea_93c5_df4cc2504b31row10_col0\" class=\"data row10 col0\" >1</td>\n",
       "                        <td id=\"T_a984f8b2_3451_11ea_93c5_df4cc2504b31row10_col1\" class=\"data row10 col1\" >1</td>\n",
       "            </tr>\n",
       "            <tr>\n",
       "                        <th id=\"T_a984f8b2_3451_11ea_93c5_df4cc2504b31level0_row11\" class=\"row_heading level0 row11\" >L</th>\n",
       "                        <td id=\"T_a984f8b2_3451_11ea_93c5_df4cc2504b31row11_col0\" class=\"data row11 col0\" >1</td>\n",
       "                        <td id=\"T_a984f8b2_3451_11ea_93c5_df4cc2504b31row11_col1\" class=\"data row11 col1\" >1</td>\n",
       "            </tr>\n",
       "            <tr>\n",
       "                        <th id=\"T_a984f8b2_3451_11ea_93c5_df4cc2504b31level0_row12\" class=\"row_heading level0 row12\" >M</th>\n",
       "                        <td id=\"T_a984f8b2_3451_11ea_93c5_df4cc2504b31row12_col0\" class=\"data row12 col0\" >1</td>\n",
       "                        <td id=\"T_a984f8b2_3451_11ea_93c5_df4cc2504b31row12_col1\" class=\"data row12 col1\" >1</td>\n",
       "            </tr>\n",
       "            <tr>\n",
       "                        <th id=\"T_a984f8b2_3451_11ea_93c5_df4cc2504b31level0_row13\" class=\"row_heading level0 row13\" >N</th>\n",
       "                        <td id=\"T_a984f8b2_3451_11ea_93c5_df4cc2504b31row13_col0\" class=\"data row13 col0\" >1</td>\n",
       "                        <td id=\"T_a984f8b2_3451_11ea_93c5_df4cc2504b31row13_col1\" class=\"data row13 col1\" >0</td>\n",
       "            </tr>\n",
       "            <tr>\n",
       "                        <th id=\"T_a984f8b2_3451_11ea_93c5_df4cc2504b31level0_row14\" class=\"row_heading level0 row14\" >O</th>\n",
       "                        <td id=\"T_a984f8b2_3451_11ea_93c5_df4cc2504b31row14_col0\" class=\"data row14 col0\" >1</td>\n",
       "                        <td id=\"T_a984f8b2_3451_11ea_93c5_df4cc2504b31row14_col1\" class=\"data row14 col1\" >0</td>\n",
       "            </tr>\n",
       "            <tr>\n",
       "                        <th id=\"T_a984f8b2_3451_11ea_93c5_df4cc2504b31level0_row15\" class=\"row_heading level0 row15\" >P</th>\n",
       "                        <td id=\"T_a984f8b2_3451_11ea_93c5_df4cc2504b31row15_col0\" class=\"data row15 col0\" >1</td>\n",
       "                        <td id=\"T_a984f8b2_3451_11ea_93c5_df4cc2504b31row15_col1\" class=\"data row15 col1\" >1</td>\n",
       "            </tr>\n",
       "    </tbody></table>"
      ],
      "text/plain": [
       "<pandas.io.formats.style.Styler at 0x7f04e57603d0>"
      ]
     },
     "execution_count": 79,
     "metadata": {},
     "output_type": "execute_result"
    }
   ],
   "source": [
    "pp_jaccard(pair)"
   ]
  },
  {
   "cell_type": "code",
   "execution_count": 121,
   "metadata": {
    "hidden": true,
    "slideshow": {
     "slide_type": "subslide"
    }
   },
   "outputs": [
    {
     "data": {
      "text/html": [
       "<style  type=\"text/css\" >\n",
       "    #T_bb1e3cab_3451_11ea_93c5_df4cc2504b31row0_col0 {\n",
       "            background-color: yellow;\n",
       "        }    #T_bb1e3cab_3451_11ea_93c5_df4cc2504b31row0_col1 {\n",
       "            background-color: yellow;\n",
       "        }    #T_bb1e3cab_3451_11ea_93c5_df4cc2504b31row1_col0 {\n",
       "            background-color: white;\n",
       "        }    #T_bb1e3cab_3451_11ea_93c5_df4cc2504b31row1_col1 {\n",
       "            background-color: white;\n",
       "        }    #T_bb1e3cab_3451_11ea_93c5_df4cc2504b31row2_col0 {\n",
       "            background-color: white;\n",
       "        }    #T_bb1e3cab_3451_11ea_93c5_df4cc2504b31row2_col1 {\n",
       "            background-color: white;\n",
       "        }    #T_bb1e3cab_3451_11ea_93c5_df4cc2504b31row3_col0 {\n",
       "            background-color: white;\n",
       "        }    #T_bb1e3cab_3451_11ea_93c5_df4cc2504b31row3_col1 {\n",
       "            background-color: white;\n",
       "        }    #T_bb1e3cab_3451_11ea_93c5_df4cc2504b31row4_col0 {\n",
       "            background-color: white;\n",
       "        }    #T_bb1e3cab_3451_11ea_93c5_df4cc2504b31row4_col1 {\n",
       "            background-color: white;\n",
       "        }    #T_bb1e3cab_3451_11ea_93c5_df4cc2504b31row5_col0 {\n",
       "            background-color: white;\n",
       "        }    #T_bb1e3cab_3451_11ea_93c5_df4cc2504b31row5_col1 {\n",
       "            background-color: white;\n",
       "        }    #T_bb1e3cab_3451_11ea_93c5_df4cc2504b31row6_col0 {\n",
       "            background-color: white;\n",
       "        }    #T_bb1e3cab_3451_11ea_93c5_df4cc2504b31row6_col1 {\n",
       "            background-color: white;\n",
       "        }    #T_bb1e3cab_3451_11ea_93c5_df4cc2504b31row7_col0 {\n",
       "            background-color: white;\n",
       "        }    #T_bb1e3cab_3451_11ea_93c5_df4cc2504b31row7_col1 {\n",
       "            background-color: white;\n",
       "        }    #T_bb1e3cab_3451_11ea_93c5_df4cc2504b31row8_col0 {\n",
       "            background-color: white;\n",
       "        }    #T_bb1e3cab_3451_11ea_93c5_df4cc2504b31row8_col1 {\n",
       "            background-color: white;\n",
       "        }    #T_bb1e3cab_3451_11ea_93c5_df4cc2504b31row9_col0 {\n",
       "            background-color: white;\n",
       "        }    #T_bb1e3cab_3451_11ea_93c5_df4cc2504b31row9_col1 {\n",
       "            background-color: white;\n",
       "        }    #T_bb1e3cab_3451_11ea_93c5_df4cc2504b31row10_col0 {\n",
       "            background-color: white;\n",
       "        }    #T_bb1e3cab_3451_11ea_93c5_df4cc2504b31row10_col1 {\n",
       "            background-color: white;\n",
       "        }    #T_bb1e3cab_3451_11ea_93c5_df4cc2504b31row11_col0 {\n",
       "            background-color: white;\n",
       "        }    #T_bb1e3cab_3451_11ea_93c5_df4cc2504b31row11_col1 {\n",
       "            background-color: white;\n",
       "        }    #T_bb1e3cab_3451_11ea_93c5_df4cc2504b31row12_col0 {\n",
       "            background-color: white;\n",
       "        }    #T_bb1e3cab_3451_11ea_93c5_df4cc2504b31row12_col1 {\n",
       "            background-color: white;\n",
       "        }    #T_bb1e3cab_3451_11ea_93c5_df4cc2504b31row13_col0 {\n",
       "            background-color: white;\n",
       "        }    #T_bb1e3cab_3451_11ea_93c5_df4cc2504b31row13_col1 {\n",
       "            background-color: white;\n",
       "        }    #T_bb1e3cab_3451_11ea_93c5_df4cc2504b31row14_col0 {\n",
       "            background-color: white;\n",
       "        }    #T_bb1e3cab_3451_11ea_93c5_df4cc2504b31row14_col1 {\n",
       "            background-color: white;\n",
       "        }    #T_bb1e3cab_3451_11ea_93c5_df4cc2504b31row15_col0 {\n",
       "            background-color: white;\n",
       "        }    #T_bb1e3cab_3451_11ea_93c5_df4cc2504b31row15_col1 {\n",
       "            background-color: white;\n",
       "        }</style><table id=\"T_bb1e3cab_3451_11ea_93c5_df4cc2504b31\" ><thead>    <tr>        <th class=\"blank level0\" ></th>        <th class=\"col_heading level0 col0\" >A</th>        <th class=\"col_heading level0 col1\" >B</th>    </tr></thead><tbody>\n",
       "                <tr>\n",
       "                        <th id=\"T_bb1e3cab_3451_11ea_93c5_df4cc2504b31level0_row0\" class=\"row_heading level0 row0\" >K</th>\n",
       "                        <td id=\"T_bb1e3cab_3451_11ea_93c5_df4cc2504b31row0_col0\" class=\"data row0 col0\" >1</td>\n",
       "                        <td id=\"T_bb1e3cab_3451_11ea_93c5_df4cc2504b31row0_col1\" class=\"data row0 col1\" >1</td>\n",
       "            </tr>\n",
       "            <tr>\n",
       "                        <th id=\"T_bb1e3cab_3451_11ea_93c5_df4cc2504b31level0_row1\" class=\"row_heading level0 row1\" >G</th>\n",
       "                        <td id=\"T_bb1e3cab_3451_11ea_93c5_df4cc2504b31row1_col0\" class=\"data row1 col0\" >1</td>\n",
       "                        <td id=\"T_bb1e3cab_3451_11ea_93c5_df4cc2504b31row1_col1\" class=\"data row1 col1\" >1</td>\n",
       "            </tr>\n",
       "            <tr>\n",
       "                        <th id=\"T_bb1e3cab_3451_11ea_93c5_df4cc2504b31level0_row2\" class=\"row_heading level0 row2\" >N</th>\n",
       "                        <td id=\"T_bb1e3cab_3451_11ea_93c5_df4cc2504b31row2_col0\" class=\"data row2 col0\" >1</td>\n",
       "                        <td id=\"T_bb1e3cab_3451_11ea_93c5_df4cc2504b31row2_col1\" class=\"data row2 col1\" >0</td>\n",
       "            </tr>\n",
       "            <tr>\n",
       "                        <th id=\"T_bb1e3cab_3451_11ea_93c5_df4cc2504b31level0_row3\" class=\"row_heading level0 row3\" >J</th>\n",
       "                        <td id=\"T_bb1e3cab_3451_11ea_93c5_df4cc2504b31row3_col0\" class=\"data row3 col0\" >0</td>\n",
       "                        <td id=\"T_bb1e3cab_3451_11ea_93c5_df4cc2504b31row3_col1\" class=\"data row3 col1\" >1</td>\n",
       "            </tr>\n",
       "            <tr>\n",
       "                        <th id=\"T_bb1e3cab_3451_11ea_93c5_df4cc2504b31level0_row4\" class=\"row_heading level0 row4\" >I</th>\n",
       "                        <td id=\"T_bb1e3cab_3451_11ea_93c5_df4cc2504b31row4_col0\" class=\"data row4 col0\" >0</td>\n",
       "                        <td id=\"T_bb1e3cab_3451_11ea_93c5_df4cc2504b31row4_col1\" class=\"data row4 col1\" >1</td>\n",
       "            </tr>\n",
       "            <tr>\n",
       "                        <th id=\"T_bb1e3cab_3451_11ea_93c5_df4cc2504b31level0_row5\" class=\"row_heading level0 row5\" >D</th>\n",
       "                        <td id=\"T_bb1e3cab_3451_11ea_93c5_df4cc2504b31row5_col0\" class=\"data row5 col0\" >1</td>\n",
       "                        <td id=\"T_bb1e3cab_3451_11ea_93c5_df4cc2504b31row5_col1\" class=\"data row5 col1\" >1</td>\n",
       "            </tr>\n",
       "            <tr>\n",
       "                        <th id=\"T_bb1e3cab_3451_11ea_93c5_df4cc2504b31level0_row6\" class=\"row_heading level0 row6\" >C</th>\n",
       "                        <td id=\"T_bb1e3cab_3451_11ea_93c5_df4cc2504b31row6_col0\" class=\"data row6 col0\" >1</td>\n",
       "                        <td id=\"T_bb1e3cab_3451_11ea_93c5_df4cc2504b31row6_col1\" class=\"data row6 col1\" >1</td>\n",
       "            </tr>\n",
       "            <tr>\n",
       "                        <th id=\"T_bb1e3cab_3451_11ea_93c5_df4cc2504b31level0_row7\" class=\"row_heading level0 row7\" >M</th>\n",
       "                        <td id=\"T_bb1e3cab_3451_11ea_93c5_df4cc2504b31row7_col0\" class=\"data row7 col0\" >1</td>\n",
       "                        <td id=\"T_bb1e3cab_3451_11ea_93c5_df4cc2504b31row7_col1\" class=\"data row7 col1\" >1</td>\n",
       "            </tr>\n",
       "            <tr>\n",
       "                        <th id=\"T_bb1e3cab_3451_11ea_93c5_df4cc2504b31level0_row8\" class=\"row_heading level0 row8\" >A</th>\n",
       "                        <td id=\"T_bb1e3cab_3451_11ea_93c5_df4cc2504b31row8_col0\" class=\"data row8 col0\" >0</td>\n",
       "                        <td id=\"T_bb1e3cab_3451_11ea_93c5_df4cc2504b31row8_col1\" class=\"data row8 col1\" >1</td>\n",
       "            </tr>\n",
       "            <tr>\n",
       "                        <th id=\"T_bb1e3cab_3451_11ea_93c5_df4cc2504b31level0_row9\" class=\"row_heading level0 row9\" >E</th>\n",
       "                        <td id=\"T_bb1e3cab_3451_11ea_93c5_df4cc2504b31row9_col0\" class=\"data row9 col0\" >0</td>\n",
       "                        <td id=\"T_bb1e3cab_3451_11ea_93c5_df4cc2504b31row9_col1\" class=\"data row9 col1\" >0</td>\n",
       "            </tr>\n",
       "            <tr>\n",
       "                        <th id=\"T_bb1e3cab_3451_11ea_93c5_df4cc2504b31level0_row10\" class=\"row_heading level0 row10\" >B</th>\n",
       "                        <td id=\"T_bb1e3cab_3451_11ea_93c5_df4cc2504b31row10_col0\" class=\"data row10 col0\" >1</td>\n",
       "                        <td id=\"T_bb1e3cab_3451_11ea_93c5_df4cc2504b31row10_col1\" class=\"data row10 col1\" >0</td>\n",
       "            </tr>\n",
       "            <tr>\n",
       "                        <th id=\"T_bb1e3cab_3451_11ea_93c5_df4cc2504b31level0_row11\" class=\"row_heading level0 row11\" >F</th>\n",
       "                        <td id=\"T_bb1e3cab_3451_11ea_93c5_df4cc2504b31row11_col0\" class=\"data row11 col0\" >1</td>\n",
       "                        <td id=\"T_bb1e3cab_3451_11ea_93c5_df4cc2504b31row11_col1\" class=\"data row11 col1\" >1</td>\n",
       "            </tr>\n",
       "            <tr>\n",
       "                        <th id=\"T_bb1e3cab_3451_11ea_93c5_df4cc2504b31level0_row12\" class=\"row_heading level0 row12\" >H</th>\n",
       "                        <td id=\"T_bb1e3cab_3451_11ea_93c5_df4cc2504b31row12_col0\" class=\"data row12 col0\" >0</td>\n",
       "                        <td id=\"T_bb1e3cab_3451_11ea_93c5_df4cc2504b31row12_col1\" class=\"data row12 col1\" >0</td>\n",
       "            </tr>\n",
       "            <tr>\n",
       "                        <th id=\"T_bb1e3cab_3451_11ea_93c5_df4cc2504b31level0_row13\" class=\"row_heading level0 row13\" >O</th>\n",
       "                        <td id=\"T_bb1e3cab_3451_11ea_93c5_df4cc2504b31row13_col0\" class=\"data row13 col0\" >1</td>\n",
       "                        <td id=\"T_bb1e3cab_3451_11ea_93c5_df4cc2504b31row13_col1\" class=\"data row13 col1\" >0</td>\n",
       "            </tr>\n",
       "            <tr>\n",
       "                        <th id=\"T_bb1e3cab_3451_11ea_93c5_df4cc2504b31level0_row14\" class=\"row_heading level0 row14\" >L</th>\n",
       "                        <td id=\"T_bb1e3cab_3451_11ea_93c5_df4cc2504b31row14_col0\" class=\"data row14 col0\" >1</td>\n",
       "                        <td id=\"T_bb1e3cab_3451_11ea_93c5_df4cc2504b31row14_col1\" class=\"data row14 col1\" >1</td>\n",
       "            </tr>\n",
       "            <tr>\n",
       "                        <th id=\"T_bb1e3cab_3451_11ea_93c5_df4cc2504b31level0_row15\" class=\"row_heading level0 row15\" >P</th>\n",
       "                        <td id=\"T_bb1e3cab_3451_11ea_93c5_df4cc2504b31row15_col0\" class=\"data row15 col0\" >1</td>\n",
       "                        <td id=\"T_bb1e3cab_3451_11ea_93c5_df4cc2504b31row15_col1\" class=\"data row15 col1\" >1</td>\n",
       "            </tr>\n",
       "    </tbody></table>"
      ],
      "text/plain": [
       "<pandas.io.formats.style.Styler at 0x7f04e5776290>"
      ]
     },
     "metadata": {},
     "output_type": "display_data"
    }
   ],
   "source": [
    "pp_minhash(pair)"
   ]
  },
  {
   "cell_type": "code",
   "execution_count": 122,
   "metadata": {
    "hidden": true,
    "slideshow": {
     "slide_type": "skip"
    }
   },
   "outputs": [],
   "source": [
    "def get_mh(s):\n",
    "    p = permute(s)\n",
    "    return p.index[p.apply(lambda x: x.tolist().index(1), axis=0)]"
   ]
  },
  {
   "cell_type": "code",
   "execution_count": 7,
   "metadata": {
    "hidden": true,
    "slideshow": {
     "slide_type": "skip"
    }
   },
   "outputs": [],
   "source": [
    "def jac_sim(pair):\n",
    "    pair['A'] \n",
    "    return (pair['A'] & pair['B']).sum() / (pair['A'] | pair['B']).sum()"
   ]
  },
  {
   "cell_type": "code",
   "execution_count": 8,
   "metadata": {
    "hidden": true,
    "slideshow": {
     "slide_type": "skip"
    }
   },
   "outputs": [
    {
     "ename": "NameError",
     "evalue": "name 'pair' is not defined",
     "output_type": "error",
     "traceback": [
      "\u001b[0;31m---------------------------------------------------------------------------\u001b[0m",
      "\u001b[0;31mNameError\u001b[0m                                 Traceback (most recent call last)",
      "\u001b[0;32m<ipython-input-8-cae5e8a7348a>\u001b[0m in \u001b[0;36m<module>\u001b[0;34m()\u001b[0m\n\u001b[0;32m----> 1\u001b[0;31m \u001b[0mjac_sim\u001b[0m\u001b[0;34m(\u001b[0m\u001b[0mpair\u001b[0m\u001b[0;34m)\u001b[0m\u001b[0;34m\u001b[0m\u001b[0;34m\u001b[0m\u001b[0m\n\u001b[0m",
      "\u001b[0;31mNameError\u001b[0m: name 'pair' is not defined"
     ]
    }
   ],
   "source": [
    "jac_sim(pair)"
   ]
  },
  {
   "cell_type": "code",
   "execution_count": 188,
   "metadata": {
    "hidden": true
   },
   "outputs": [],
   "source": [
    "from math import sqrt\n",
    "def wilson(p, n, z = 1.96):\n",
    "    denominator = 1 + z**2/n\n",
    "    centre_adjusted_probability = p + z*z / (2*n)\n",
    "    adjusted_standard_deviation = sqrt((p*(1 - p) + z*z / (4*n)) / n)\n",
    "    \n",
    "    return f\"{centre_adjusted_probability:.2f}+-{2*adjusted_standard_deviation:.2f}\""
   ]
  },
  {
   "cell_type": "code",
   "execution_count": 191,
   "metadata": {
    "hidden": true
   },
   "outputs": [
    {
     "data": {
      "text/plain": [
       "'0.57+-0.03'"
      ]
     },
     "metadata": {},
     "output_type": "display_data"
    }
   ],
   "source": [
    "eq = []\n",
    "for i in range(1000):\n",
    "    mh_equality = get_mh(pair)\n",
    "    eq.append(mh_equality[0] == mh_equality[1])\n",
    "display(wilson(np.sum(eq)/len(eq), len(eq)))\n"
   ]
  },
  {
   "cell_type": "markdown",
   "metadata": {
    "heading_collapsed": true,
    "slideshow": {
     "slide_type": "slide"
    }
   },
   "source": [
    "# Step 5. Locality Sensitive Hashing"
   ]
  },
  {
   "cell_type": "markdown",
   "metadata": {
    "hidden": true
   },
   "source": [
    "So, we've come up with a way to compare sets based on their *Minhash signature*. However, we still need to do the full $\\frac{n*(n-1)}{2}$ comparisons.    \n",
    "This is where Locality Sensitive Hashing comes into play. Suppose we have minhash signatures of length 100. Then, we can divide each signature into `b` bands of `r` rows, such that `b*r = 100`"
   ]
  },
  {
   "cell_type": "code",
   "execution_count": null,
   "metadata": {
    "hidden": true
   },
   "outputs": [],
   "source": []
  }
 ],
 "metadata": {
  "celltoolbar": "Slideshow",
  "kernelspec": {
   "display_name": "Python 3",
   "language": "python",
   "name": "python3"
  },
  "language_info": {
   "codemirror_mode": {
    "name": "ipython",
    "version": 3
   },
   "file_extension": ".py",
   "mimetype": "text/x-python",
   "name": "python",
   "nbconvert_exporter": "python",
   "pygments_lexer": "ipython3",
   "version": "3.7.5rc1"
  },
  "varInspector": {
   "cols": {
    "lenName": 16,
    "lenType": 16,
    "lenVar": 40
   },
   "kernels_config": {
    "python": {
     "delete_cmd_postfix": "",
     "delete_cmd_prefix": "del ",
     "library": "var_list.py",
     "varRefreshCmd": "print(var_dic_list())"
    },
    "r": {
     "delete_cmd_postfix": ") ",
     "delete_cmd_prefix": "rm(",
     "library": "var_list.r",
     "varRefreshCmd": "cat(var_dic_list()) "
    }
   },
   "types_to_exclude": [
    "module",
    "function",
    "builtin_function_or_method",
    "instance",
    "_Feature"
   ],
   "window_display": false
  }
 },
 "nbformat": 4,
 "nbformat_minor": 2
}
