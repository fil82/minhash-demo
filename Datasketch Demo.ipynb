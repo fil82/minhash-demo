{
 "cells": [
  {
   "cell_type": "markdown",
   "metadata": {},
   "source": [
    "# Minhash LSH in Action\n",
    "\n",
    "Now that we've covered the main points of the algorithm we can see it in action.\n",
    "We will be using the implementation provided by the [datasketch](http://ekzhu.com/datasketch/lsh.html) package on the [Comics Goodreads Dataset](https://sites.google.com/eng.ucsd.edu/ucsdbookgraph/home?authuser=1#h.p_evDuwuTozQVZ).\n",
    "\n",
    "We will model each comic as a *bag of words* of its description and use Minhash LSH to find duplicate entries.\n",
    "\n"
   ]
  },
  {
   "cell_type": "markdown",
   "metadata": {},
   "source": [
    "First of all, let's read in the data:"
   ]
  },
  {
   "cell_type": "code",
   "execution_count": 1,
   "metadata": {},
   "outputs": [
    {
     "data": {
      "text/html": [
       "<div>\n",
       "<style scoped>\n",
       "    .dataframe tbody tr th:only-of-type {\n",
       "        vertical-align: middle;\n",
       "    }\n",
       "\n",
       "    .dataframe tbody tr th {\n",
       "        vertical-align: top;\n",
       "    }\n",
       "\n",
       "    .dataframe thead th {\n",
       "        text-align: right;\n",
       "    }\n",
       "</style>\n",
       "<table border=\"1\" class=\"dataframe\">\n",
       "  <thead>\n",
       "    <tr style=\"text-align: right;\">\n",
       "      <th></th>\n",
       "      <th>title</th>\n",
       "      <th>description</th>\n",
       "    </tr>\n",
       "  </thead>\n",
       "  <tbody>\n",
       "    <tr>\n",
       "      <td>0</td>\n",
       "      <td>The Switchblade Mamma</td>\n",
       "      <td>Lillian Ann Cross is forced to live the worst ...</td>\n",
       "    </tr>\n",
       "    <tr>\n",
       "      <td>1</td>\n",
       "      <td>Cruelle</td>\n",
       "      <td>Florence Dupre Latour raconte comment, de son ...</td>\n",
       "    </tr>\n",
       "    <tr>\n",
       "      <td>2</td>\n",
       "      <td>Captain America: Winter Soldier (The Ultimate ...</td>\n",
       "      <td>The questions plaguing Captain America's dream...</td>\n",
       "    </tr>\n",
       "    <tr>\n",
       "      <td>3</td>\n",
       "      <td>Bounty Hunter 4/3: My Life in Combat from Mari...</td>\n",
       "      <td>The fight for Jason Delgado's life and soul be...</td>\n",
       "    </tr>\n",
       "    <tr>\n",
       "      <td>4</td>\n",
       "      <td>Superman Archives, Vol. 2</td>\n",
       "      <td>These are the stories that catapulted Superman...</td>\n",
       "    </tr>\n",
       "  </tbody>\n",
       "</table>\n",
       "</div>"
      ],
      "text/plain": [
       "                                               title  \\\n",
       "0                              The Switchblade Mamma   \n",
       "1                                            Cruelle   \n",
       "2  Captain America: Winter Soldier (The Ultimate ...   \n",
       "3  Bounty Hunter 4/3: My Life in Combat from Mari...   \n",
       "4                          Superman Archives, Vol. 2   \n",
       "\n",
       "                                         description  \n",
       "0  Lillian Ann Cross is forced to live the worst ...  \n",
       "1  Florence Dupre Latour raconte comment, de son ...  \n",
       "2  The questions plaguing Captain America's dream...  \n",
       "3  The fight for Jason Delgado's life and soul be...  \n",
       "4  These are the stories that catapulted Superman...  "
      ]
     },
     "execution_count": 1,
     "metadata": {},
     "output_type": "execute_result"
    }
   ],
   "source": [
    "import pandas as pd\n",
    "data = pd.read_json(\"/data/comics/goodreads_books_comics_graphic.json\", lines=True)[['title', 'description']]\n",
    "data.head()"
   ]
  },
  {
   "cell_type": "markdown",
   "metadata": {},
   "source": [
    "Then, let's concat the title and description to get a single `text` field."
   ]
  },
  {
   "cell_type": "code",
   "execution_count": 2,
   "metadata": {},
   "outputs": [
    {
     "data": {
      "text/plain": [
       "0    The Switchblade Mamma \\n Lillian Ann Cross is ...\n",
       "1    Cruelle \\n Florence Dupre Latour raconte comme...\n",
       "2    Captain America: Winter Soldier (The Ultimate ...\n",
       "3    Bounty Hunter 4/3: My Life in Combat from Mari...\n",
       "4    Superman Archives, Vol. 2 \\n These are the sto...\n",
       "Name: text, dtype: object"
      ]
     },
     "execution_count": 2,
     "metadata": {},
     "output_type": "execute_result"
    }
   ],
   "source": [
    "data['text'] = data.title.str.cat(data.description, sep=' \\n ')\n",
    "data['text'].head()"
   ]
  },
  {
   "cell_type": "markdown",
   "metadata": {},
   "source": [
    "## How do we build minhashes from text?\n",
    "For this simple exercise, we'll just tokenize the text and make the bag of words assumption. I.e. each document will be mapped to the set of its tokens.\n",
    "So we have two steps:\n",
    "1. Tokenize the text. I like the [fastai](https://github.com/fastai/fastai) tokenizer\n",
    "2. Build a minhash from the tokens"
   ]
  },
  {
   "cell_type": "code",
   "execution_count": 3,
   "metadata": {},
   "outputs": [
    {
     "data": {
      "application/vnd.jupyter.widget-view+json": {
       "model_id": "1eb3513b6b994ba8962ed2c12807aec6",
       "version_major": 2,
       "version_minor": 0
      },
      "text/plain": [
       "interactive(children=(Text(value='hello world', description='text'), Output()), _dom_classes=('widget-interact…"
      ]
     },
     "metadata": {},
     "output_type": "display_data"
    }
   ],
   "source": [
    "from fastai.text.data import Tokenizer\n",
    "from datasketch import MinHash, LeanMinHash\n",
    "from ipywidgets import interact\n",
    "\n",
    "tokenizer = Tokenizer()\n",
    "tok_func = tokenizer.tok_func('en')\n",
    "\n",
    "def tokenize(s:str):\n",
    "    \"\"\"\n",
    "    Tokenizes a string and returns a list of strings\n",
    "    \"\"\"\n",
    "    return tokenizer.process_text(s.lower(), tok_func)\n",
    "\n",
    "def get_mh(shingles:list) -> LeanMinHash:\n",
    "    \"\"\"\n",
    "    Builds a minhash signature from the shingles\n",
    "    :param shingles - list of strings\n",
    "    :return the minhash\n",
    "    \"\"\"\n",
    "    mh = MinHash()\n",
    "    for s in shingles:\n",
    "        mh.update(s.encode('utf8'))\n",
    "    mh = LeanMinHash(mh)\n",
    "    return mh\n",
    "\n",
    "@interact(text=\"hello world\")\n",
    "def interact_tokenize(text):\n",
    "    tokens = tokenize(text)\n",
    "    \n",
    "    mh = get_mh(tokens)\n",
    "    display(f\"Tokens: {tokens}\")\n",
    "    display(f\"Minhash: {mh.digest()}\")"
   ]
  },
  {
   "cell_type": "code",
   "execution_count": 8,
   "metadata": {},
   "outputs": [],
   "source": [
    "mh = get_mh([\"hello\", \"kitty\"])\n",
    "mh2 = get_mh([\"hello\", \"world\"])"
   ]
  },
  {
   "cell_type": "code",
   "execution_count": 9,
   "metadata": {},
   "outputs": [
    {
     "data": {
      "text/plain": [
       "0.3203125"
      ]
     },
     "execution_count": 9,
     "metadata": {},
     "output_type": "execute_result"
    }
   ],
   "source": [
    "mh.jaccard(mh2)"
   ]
  },
  {
   "cell_type": "markdown",
   "metadata": {},
   "source": [
    "## Building the LSH index\n",
    "Now that we can build minhashes for the documents, let's build up the MinhashLSH index.\n",
    "\n",
    "The `datasketch` package allows us to simply specify a threshold for near duplicates and it selects the optimal settings for `b` and `r`. Of course, this behaviour can be overriden."
   ]
  },
  {
   "cell_type": "code",
   "execution_count": 10,
   "metadata": {},
   "outputs": [
    {
     "data": {
      "text/html": [
       "\n",
       "    <div>\n",
       "        <style>\n",
       "            /* Turns off some styling */\n",
       "            progress {\n",
       "                /* gets rid of default border in Firefox and Opera. */\n",
       "                border: none;\n",
       "                /* Needs to be in here for Safari polyfill so background images work as expected. */\n",
       "                background-size: auto;\n",
       "            }\n",
       "            .progress-bar-interrupted, .progress-bar-interrupted::-webkit-progress-bar {\n",
       "                background: #F44336;\n",
       "            }\n",
       "        </style>\n",
       "      <progress value='89411' class='' max='89411', style='width:300px; height:20px; vertical-align: middle;'></progress>\n",
       "      100.00% [89411/89411 05:33<00:00]\n",
       "    </div>\n",
       "    "
      ],
      "text/plain": [
       "<IPython.core.display.HTML object>"
      ]
     },
     "metadata": {},
     "output_type": "display_data"
    }
   ],
   "source": [
    "from datasketch import MinHashLSH\n",
    "from fastprogress import progress_bar\n",
    "\n",
    "lsh = MinHashLSH(threshold=0.5)\n",
    "minhashes = []\n",
    "for idx, row in progress_bar(data.iterrows(), total=len(data)):\n",
    "    text = row['text']\n",
    "    shingles = tokenize(text)\n",
    "    mh = get_mh(shingles)\n",
    "    minhashes.append(mh)\n",
    "    lsh.insert(idx, mh)"
   ]
  },
  {
   "cell_type": "code",
   "execution_count": 11,
   "metadata": {
    "code_folding": [
     2,
     5,
     11,
     20
    ]
   },
   "outputs": [
    {
     "data": {
      "application/vnd.jupyter.widget-view+json": {
       "model_id": "c2a3246408e348aba0aa37ca80a94060",
       "version_major": 2,
       "version_minor": 0
      },
      "text/plain": [
       "interactive(children=(IntSlider(value=44706, description='idx', max=89411, min=1), Output()), _dom_classes=('w…"
      ]
     },
     "metadata": {},
     "output_type": "display_data"
    }
   ],
   "source": [
    "from IPython.core.display import HTML\n",
    "\n",
    "def jac_sim(s1, s2):\n",
    "    return len(s1.intersection(s2))/len(s1.union(s2))\n",
    "\n",
    "def find_similar_by_id(idx):\n",
    "    query = data.iloc[idx]['title'] + \" \" + data.iloc[idx]['description']\n",
    "    candidates = find_similar(query)\n",
    "    candidates.drop(index=idx, inplace=True)\n",
    "    return  candidates\n",
    "\n",
    "def find_similar(query):\n",
    "    mh = get_mh(tokenize(query))\n",
    "    candidates = lsh.query(mh)\n",
    "    candidate_mh = [minhashes[idx] for idx in candidates]\n",
    "    candidate_sims = [mh.jaccard(other_mh) for other_mh in candidate_mh]\n",
    "    res = data.iloc[candidates].copy()\n",
    "    res['similarity'] = candidate_sims\n",
    "    return res.sort_values(\"similarity\", ascending=False)\n",
    "\n",
    "def show(idx, cand):\n",
    "    display(f\"{idx}, Similarity: {cand['similarity']}\")\n",
    "    display(f\"{cand['text']}\")\n",
    "    display(HTML('<hr>'))\n",
    "\n",
    "idx= 66 # near dups\n",
    "idx= 70\n",
    "idx = 81\n",
    "idx = 50988\n",
    "\n",
    "@interact(idx=(1, len(data), 1))\n",
    "def interact_query(idx):\n",
    "    cur = data.iloc[idx]\n",
    "    cur['similarity'] = 1.0\n",
    "    show(\"Original\", cur)\n",
    "    candidates = find_similar_by_id(idx)\n",
    "    for idx, cand in candidates.iterrows():\n",
    "        show(idx, cand)"
   ]
  },
  {
   "cell_type": "code",
   "execution_count": null,
   "metadata": {},
   "outputs": [
    {
     "data": {
      "text/html": [
       "\n",
       "    <div>\n",
       "        <style>\n",
       "            /* Turns off some styling */\n",
       "            progress {\n",
       "                /* gets rid of default border in Firefox and Opera. */\n",
       "                border: none;\n",
       "                /* Needs to be in here for Safari polyfill so background images work as expected. */\n",
       "                background-size: auto;\n",
       "            }\n",
       "            .progress-bar-interrupted, .progress-bar-interrupted::-webkit-progress-bar {\n",
       "                background: #F44336;\n",
       "            }\n",
       "        </style>\n",
       "      <progress value='1127935719' class='' max='3997118755.0', style='width:300px; height:20px; vertical-align: middle;'></progress>\n",
       "      28.22% [1127935719/3997118755.0 12:02:18<30:37:23]\n",
       "    </div>\n",
       "    "
      ],
      "text/plain": [
       "<IPython.core.display.HTML object>"
      ]
     },
     "metadata": {},
     "output_type": "display_data"
    }
   ],
   "source": [
    "import itertools\n",
    "for mh, mh2 in progress_bar(itertools.combinations(minhashes,2), total=len(minhashes)*(len(minhashes)-1)/2):\n",
    "    mh.jaccard(mh2)\n"
   ]
  },
  {
   "cell_type": "code",
   "execution_count": 12,
   "metadata": {},
   "outputs": [
    {
     "data": {
      "text/html": [
       "\n",
       "    <div>\n",
       "        <style>\n",
       "            /* Turns off some styling */\n",
       "            progress {\n",
       "                /* gets rid of default border in Firefox and Opera. */\n",
       "                border: none;\n",
       "                /* Needs to be in here for Safari polyfill so background images work as expected. */\n",
       "                background-size: auto;\n",
       "            }\n",
       "            .progress-bar-interrupted, .progress-bar-interrupted::-webkit-progress-bar {\n",
       "                background: #F44336;\n",
       "            }\n",
       "        </style>\n",
       "      <progress value='89411' class='' max='89411', style='width:300px; height:20px; vertical-align: middle;'></progress>\n",
       "      100.00% [89411/89411 00:10<00:00]\n",
       "    </div>\n",
       "    "
      ],
      "text/plain": [
       "<IPython.core.display.HTML object>"
      ]
     },
     "metadata": {},
     "output_type": "display_data"
    }
   ],
   "source": [
    "for mh in progress_bar(minhashes):\n",
    "    neardups = lsh.query(mh)\n",
    "    for nd in neardups:\n",
    "        mh.jaccard(minhashes[nd])"
   ]
  }
 ],
 "metadata": {
  "kernelspec": {
   "display_name": "Python 3",
   "language": "python",
   "name": "python3"
  },
  "language_info": {
   "codemirror_mode": {
    "name": "ipython",
    "version": 3
   },
   "file_extension": ".py",
   "mimetype": "text/x-python",
   "name": "python",
   "nbconvert_exporter": "python",
   "pygments_lexer": "ipython3",
   "version": "3.6.9"
  }
 },
 "nbformat": 4,
 "nbformat_minor": 2
}
